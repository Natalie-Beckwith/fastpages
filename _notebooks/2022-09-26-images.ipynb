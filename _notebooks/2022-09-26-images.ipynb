{
 "cells": [
  {
   "cell_type": "markdown",
   "metadata": {},
   "source": [
    "# Images\n",
    "- toc:true\n",
    "- badges: true\n",
    "- comments: true\n",
    "- author: Natalie Beckwith\n",
    "- categories:"
   ]
  },
  {
   "cell_type": "code",
   "execution_count": 1,
   "metadata": {
    "vscode": {
     "languageId": "java"
    }
   },
   "outputs": [
    {
     "name": "stderr",
     "output_type": "stream",
     "text": [
      "javax.imageio.IIOException: Can't read input file!\n",
      "\tat java.desktop/javax.imageio.ImageIO.read(ImageIO.java:1310)\n",
      "\tat REPL.$JShell$16$ImageIOTest.main($JShell$16.java:32)\n",
      "\tat REPL.$JShell$17.do_it$($JShell$17.java:19)\n",
      "\tat java.base/jdk.internal.reflect.NativeMethodAccessorImpl.invoke0(Native Method)\n",
      "\tat java.base/jdk.internal.reflect.NativeMethodAccessorImpl.invoke(NativeMethodAccessorImpl.java:77)\n",
      "\tat java.base/jdk.internal.reflect.DelegatingMethodAccessorImpl.invoke(DelegatingMethodAccessorImpl.java:43)\n",
      "\tat java.base/java.lang.reflect.Method.invoke(Method.java:568)\n",
      "\tat io.github.spencerpark.ijava.execution.IJavaExecutionControl.lambda$execute$1(IJavaExecutionControl.java:95)\n",
      "\tat java.base/java.util.concurrent.FutureTask.run(FutureTask.java:264)\n",
      "\tat java.base/java.util.concurrent.ThreadPoolExecutor.runWorker(ThreadPoolExecutor.java:1136)\n",
      "\tat java.base/java.util.concurrent.ThreadPoolExecutor$Worker.run(ThreadPoolExecutor.java:635)\n",
      "\tat java.base/java.lang.Thread.run(Thread.java:833)\n"
     ]
    },
    {
     "name": "stdout",
     "output_type": "stream",
     "text": [
      "Success\n"
     ]
    }
   ],
   "source": [
    "import javax.imageio.ImageIO;\n",
    "import java.io.File;\n",
    "import java.io.IOException;\n",
    "import java.awt.image.BufferedImage;\n",
    "\n",
    "public class ImageIOTest {    \n",
    "\n",
    "    public static void main( String[] args ){\n",
    "       BufferedImage img = null;  // buffer type \n",
    "        try {\n",
    "            // Name of file and directories\n",
    "            String name = \"MonaLisa\";\n",
    "            String in = \"images/\";\n",
    "            String out = \"images/tmp/\";\n",
    "\n",
    "            // Either use URL or File for reading image using ImageIO\n",
    "            File imageFile = new File(in + name + \".png\");\n",
    "            img = ImageIO.read(imageFile);  // set buffer of image data\n",
    "\n",
    "            // ImageIO Image write to gif in Java\n",
    "            // Documentation https://docs.oracle.com/javase/tutorial/2d/images/index.html\n",
    "            ImageIO.write(img, \"gif\", new File(out + name + \".gif\") );  // write buffer to gif\n",
    "\n",
    "        } catch (IOException e) {\n",
    "              e.printStackTrace();\n",
    "        }\n",
    "        System.out.println(\"Success\");\n",
    "    }\n",
    "}\n",
    "ImageIOTest.main(null);"
   ]
  }
 ],
 "metadata": {
  "kernelspec": {
   "display_name": "Java",
   "language": "java",
   "name": "java"
  },
  "language_info": {
   "codemirror_mode": "java",
   "file_extension": ".jshell",
   "mimetype": "text/x-java-source",
   "name": "Java",
   "pygments_lexer": "java",
   "version": "17.0.4+8"
  },
  "orig_nbformat": 4
 },
 "nbformat": 4,
 "nbformat_minor": 2
}
