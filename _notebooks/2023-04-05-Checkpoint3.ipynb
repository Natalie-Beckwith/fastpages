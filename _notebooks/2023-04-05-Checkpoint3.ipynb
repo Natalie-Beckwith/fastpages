{
 "cells": [
  {
   "cell_type": "markdown",
   "metadata": {},
   "source": [
    "# HashMaps and BigO\n",
    "- toc:true\n",
    "- layout: post\n",
    "- badges: true\n",
    "- comments: true\n",
    "- author: Natalie Beckwith\n",
    "- categories: [TRI3]\n",
    "- image: https://github.com/Natalie-Beckwith/fastpages/blob/master/_notebooks/ghtop_images/pending-loop.gif?raw=true"
   ]
  },
  {
   "cell_type": "markdown",
   "metadata": {},
   "source": [
    "### Hacks\n",
    "* Analyze the Big O complexity on Sorts.\n",
    "  * Establish analytics including:time to sort, number of comparisons and number of swaps.\n",
    "  * Average the results for each each Sort, run each at least 12 times and 5000 elements. \n",
    "  * You should throw out High and Low when doing analysis.\n",
    "  * Make your final/judgement on best sort: Number of Comparisons, Number of Swaps, Big O complexity, and Total Time.\n",
    "* Build your own Hashmap. Make a HashMap to correspond to a Data Structure using a Collection.\n",
    "  * Be sure to have 5000 records\n",
    "  * Perform analysis on Binary Search vs HashMap Lookup, try using random to search and find 100 keys in 5000 records. Perform 12 times and throw out high and low.\n",
    "* Extra, Practical learning\n",
    "  * Performing Iteration, Delete, and Add operations are another way to analyze Collection vs HashMap data structure.\n",
    "  * A HashMap and a Collection can be used in a Class, POJO and API.\n",
    "  * Make a Diagram on the Pros and Cons of Collection vs HashMap"
   ]
  }
 ],
 "metadata": {
  "kernelspec": {
   "display_name": "Java",
   "language": "java",
   "name": "java"
  },
  "language_info": {
   "name": "java"
  },
  "orig_nbformat": 4
 },
 "nbformat": 4,
 "nbformat_minor": 2
}
