{
 "cells": [
  {
   "cell_type": "markdown",
   "metadata": {},
   "source": [
    "# Final Individual Review\n",
    "- toc:true\n",
    "- layout: post\n",
    "- badges: true\n",
    "- comments: true\n",
    "- author: Natalie Beckwith\n",
    "- categories: [TRI2]\n",
    "- image: https://github.com/Natalie-Beckwith/fastpages/blob/master/_notebooks/ghtop_images/pending-loop.gif?raw=true"
   ]
  },
  {
   "cell_type": "markdown",
   "metadata": {},
   "source": [
    "## Individual Review\n",
    "* Provide me individual review ticket that is linked from Team Summary\n",
    "* Highlight your accomplishments\n",
    "* Quality of Presentation - .5 per bullet\n",
    "\n",
    "\n",
    "---\n",
    "\n",
    "- ☑️ [Individual Review Ticket](https://github.com/PranaviInukurti/DelNorteMarketPlace/issues/9)\n",
    "\n",
    "- ☑️ Runtime Links\n",
    "     - [Frontend](https://pranaviinukurti.github.io/DelNorteMarketPlace/)\n",
    "     - [Backend](https://marketplace.nighthawkcodingsociety.com/)\n",
    "\n",
    "---\n",
    "\n",
    "- ☑️ Technical Accomplishments\n",
    "     - [Profile page](https://pranaviinukurti.github.io/DelNorteMarketPlace/) - I helped with creating the user's profile page for recently purchased items and items the user saved\n",
    "     - [Save items](https://pranaviinukurti.github.io/DelNorteMarketPlace/listing?id=82) - specific items can be favorited\n",
    "     - [Purchase button](https://pranaviinukurti.github.io/DelNorteMarketPlace/listing?id=82) - I helped with the purchase button redirecting to marketplace after it's clicked (error with the 'cancel' button redirecting to marketplace and 'ok' button did nothing)\n",
    "     - [Frontend design](https://pranaviinukurti.github.io/DelNorteMarketPlace/) - I was mainly in charge of the frontend design for our website\n",
    "\n",
    "---\n",
    "\n",
    "- ☑️ [Blog, Guides for review](https://natalie-beckwith.github.io/fastpages/tri2/2023/03/01/IndividualReview.html)\n",
    "\n",
    "---\n",
    "\n",
    "- ☑️ Meeting full stack and backend objectives\n",
    "     - [Save items](https://pranaviinukurti.github.io/DelNorteMarketPlace/listing?id=82)\n",
    "       - specific items can be favorited by user\n",
    "       - user must be logged in in order to save item\n",
    "       - the listing name appears on profile page from database\n",
    "\n",
    "---\n",
    "\n",
    "- ☑️ GitHub analytics\n",
    "     - [Frontend commits](https://github.com/PranaviInukurti/DelNorteMarketPlace/graphs/contributors)\n",
    "     - [Backend commits](https://github.com/mnarayan1/t6-tri2-spring-portfolio/graphs/contributors)"
   ]
  }
 ],
 "metadata": {
  "kernelspec": {
   "display_name": "Python 3.9.12 64-bit",
   "language": "python",
   "name": "python3"
  },
  "language_info": {
   "name": "python",
   "version": "3.9.12"
  },
  "orig_nbformat": 4,
  "vscode": {
   "interpreter": {
    "hash": "31f2aee4e71d21fbe5cf8b01ff0e069b9275f58929596ceb00d14d90e3e16cd6"
   }
  }
 },
 "nbformat": 4,
 "nbformat_minor": 2
}
