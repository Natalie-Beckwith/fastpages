{
 "cells": [
  {
   "cell_type": "markdown",
   "metadata": {},
   "source": [
    "# CB FRQs\n",
    "- toc:true\n",
    "- badges: true\n",
    "- comments: true\n",
    "- author: Natalie Beckwith\n",
    "- categories: [CB Practice, TRI2]"
   ]
  },
  {
   "cell_type": "markdown",
   "metadata": {},
   "source": [
    "### FRQ 2019\n",
    "#### Question #1<br>\n",
    "a."
   ]
  },
  {
   "cell_type": "code",
   "execution_count": 1,
   "metadata": {},
   "outputs": [],
   "source": [
    "/**\n",
    "     * Returns true if year is a leap year and false otherwise \n",
    "     * \n",
    "     * @param year\n",
    "     * @return\n",
    "     */\n",
    "    private static boolean isLeapYear(int year)\n",
    "    {\n",
    "        if (year % 4 == 0)\n",
    "        {\n",
    "            return true;\n",
    "        }\n",
    "        else \n",
    "            return false;   \n",
    "    }"
   ]
  },
  {
   "cell_type": "code",
   "execution_count": 2,
   "metadata": {},
   "outputs": [],
   "source": [
    "/**\n",
    "     * Returns number of leap years between year1 and year2,\n",
    "     * inclusive \n",
    "     * \n",
    "     * 0 <= year1 <= year2\n",
    "     * \n",
    "     * @param year1\n",
    "     * @param year2\n",
    "     * @return\n",
    "     */\n",
    "    public static int numberofLeapYears(int year1, int year2)\n",
    "    {\n",
    "        int leapYear = 0;\n",
    "        \n",
    "        for(int loop = year1; loop <= year2; loop++)\n",
    "        {\n",
    "            if(loop % 4 == 0)\n",
    "            {\n",
    "                leapYear++;\n",
    "            }\n",
    "        }\n",
    "        return leapYear;\n",
    "    }"
   ]
  },
  {
   "cell_type": "code",
   "execution_count": 7,
   "metadata": {},
   "outputs": [
    {
     "name": "stdout",
     "output_type": "stream",
     "text": [
      "PART A:\n",
      "2022: false\n",
      "There are 7 leap years between 2000 and 2024"
     ]
    },
    {
     "data": {
      "text/plain": [
       "java.io.PrintStream@7ecdcb1d"
      ]
     },
     "execution_count": 7,
     "metadata": {},
     "output_type": "execute_result"
    }
   ],
   "source": [
    "/**\n",
    " * main \n",
    " * \n",
    " */\n",
    "final int YEAR = 2022;\n",
    "        final int YEAR_1 = 2000;\n",
    "        final int YEAR_2 = 2024;\n",
    "        \n",
    "        \n",
    "        /*\n",
    "         * write static method that returns number of leap years\n",
    "         * between year1 and year2\n",
    "         * \n",
    "         * isLeapYear(year);\n",
    "         */\n",
    "        System.out.printf(\"PART A:\\n\");\n",
    "        boolean isLeapYear = isLeapYear(YEAR);\n",
    "        System.out.printf(\"%d: %b\\n\",YEAR, isLeapYear);\n",
    "        \n",
    "        int numLeapYears = numberofLeapYears(YEAR_1, YEAR_2);\n",
    "        System.out.printf(\"There are %d leap years between %d and %d\",\n",
    "                numLeapYears, YEAR_1, YEAR_2);"
   ]
  },
  {
   "cell_type": "markdown",
   "metadata": {},
   "source": [
    "b."
   ]
  },
  {
   "cell_type": "code",
   "execution_count": null,
   "metadata": {},
   "outputs": [],
   "source": [
    "// code code code"
   ]
  },
  {
   "cell_type": "markdown",
   "metadata": {},
   "source": [
    "#### Question #2"
   ]
  },
  {
   "cell_type": "code",
   "execution_count": null,
   "metadata": {},
   "outputs": [],
   "source": [
    "// code code code"
   ]
  },
  {
   "cell_type": "markdown",
   "metadata": {},
   "source": [
    "#### Question #3<br>\n",
    "a."
   ]
  },
  {
   "cell_type": "code",
   "execution_count": null,
   "metadata": {},
   "outputs": [],
   "source": [
    "// code code code"
   ]
  },
  {
   "cell_type": "markdown",
   "metadata": {},
   "source": [
    "b."
   ]
  },
  {
   "cell_type": "code",
   "execution_count": null,
   "metadata": {},
   "outputs": [],
   "source": [
    "// code code code"
   ]
  },
  {
   "cell_type": "markdown",
   "metadata": {},
   "source": [
    "#### Question #4<br>\n",
    "a."
   ]
  },
  {
   "cell_type": "code",
   "execution_count": null,
   "metadata": {},
   "outputs": [],
   "source": [
    "// code code code"
   ]
  },
  {
   "cell_type": "markdown",
   "metadata": {},
   "source": [
    "b."
   ]
  },
  {
   "cell_type": "code",
   "execution_count": null,
   "metadata": {},
   "outputs": [],
   "source": [
    "// code code code"
   ]
  }
 ],
 "metadata": {
  "kernelspec": {
   "display_name": "Java",
   "language": "java",
   "name": "java"
  },
  "language_info": {
   "name": "java"
  },
  "orig_nbformat": 4
 },
 "nbformat": 4,
 "nbformat_minor": 2
}
