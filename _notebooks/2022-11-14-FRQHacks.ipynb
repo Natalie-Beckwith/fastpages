{
 "cells": [
  {
   "cell_type": "markdown",
   "metadata": {},
   "source": [
    "# CB FRQs\n",
    "- toc:true\n",
    "- layout: post\n",
    "- badges: true\n",
    "- comments: true\n",
    "- author: Natalie Beckwith\n",
    "- categories: [CB Practice, TRI2]\n",
    "- image: https://menarosa.org/wp-content/uploads/2018/12/pending-loop.gif"
   ]
  },
  {
   "cell_type": "markdown",
   "metadata": {},
   "source": [
    "### FRQ 2019\n",
    "#### Question #1<br>\n",
    "a."
   ]
  },
  {
   "cell_type": "code",
   "execution_count": 1,
   "metadata": {
    "vscode": {
     "languageId": "java"
    }
   },
   "outputs": [],
   "source": [
    "/**\n",
    "     * Returns true if year is a leap year and false otherwise \n",
    "     * \n",
    "     * @param year\n",
    "     * @return\n",
    "     */\n",
    "    private static boolean isLeapYear(int year)\n",
    "    {\n",
    "        if ((year % 4 == 0) || // must occur every 4th year\n",
    "                (year % 100 == 0) || // must be divisible by 100\n",
    "                (year % 400 == 0)) // must be divisible by 400\n",
    "        {\n",
    "            return true;\n",
    "        }\n",
    "        else return false;   \n",
    "    }"
   ]
  },
  {
   "cell_type": "code",
   "execution_count": 2,
   "metadata": {
    "vscode": {
     "languageId": "java"
    }
   },
   "outputs": [],
   "source": [
    "/**\n",
    "     * Returns number of leap years between year1 and year2,\n",
    "     * inclusive \n",
    "     * \n",
    "     * 0 <= year1 <= year2\n",
    "     * \n",
    "     * @param year1\n",
    "     * @param year2\n",
    "     * @return\n",
    "     */\n",
    "    public static int numberofLeapYears(int year1, int year2)\n",
    "    {\n",
    "        int leapYear = 0;\n",
    "        \n",
    "        for(int loop = year1; loop <= year2; loop++)\n",
    "        {\n",
    "            if ((loop % 4 == 0) || // must occur every 4th year\n",
    "                (loop % 100 == 0) || // must be divisible by 100\n",
    "                (loop % 400 == 0)) // must be divisible by 400\n",
    "            {\n",
    "                leapYear++; // increases number of leap years\n",
    "            }\n",
    "        }\n",
    "        return leapYear;\n",
    "    }"
   ]
  },
  {
   "cell_type": "code",
   "execution_count": 3,
   "metadata": {
    "vscode": {
     "languageId": "java"
    }
   },
   "outputs": [
    {
     "name": "stdout",
     "output_type": "stream",
     "text": [
      "PART A:\n",
      "2022: false\n",
      "There are 7 leap years between 2000 and 2024\n",
      "\n"
     ]
    },
    {
     "data": {
      "text/plain": [
       "java.io.PrintStream@2cc5d8cd"
      ]
     },
     "execution_count": 3,
     "metadata": {},
     "output_type": "execute_result"
    }
   ],
   "source": [
    "/**\n",
    " * main \n",
    " * \n",
    " */\n",
    "final int YEAR = 2022;\n",
    "        final int YEAR_1 = 2000;\n",
    "        final int YEAR_2 = 2024;\n",
    "\n",
    "        // PART A\n",
    "        System.out.printf(\"PART A:\\n\");\n",
    "        boolean isLeapYear = isLeapYear(YEAR);\n",
    "        System.out.printf(\"%d: %b\\n\",YEAR, isLeapYear);\n",
    "        \n",
    "        int numLeapYears = numberofLeapYears(YEAR_1, YEAR_2);\n",
    "        System.out.printf(\"There are %d leap years between %d and %d\\n\\n\",\n",
    "                numLeapYears, YEAR_1, YEAR_2);"
   ]
  },
  {
   "cell_type": "markdown",
   "metadata": {},
   "source": [
    "b."
   ]
  },
  {
   "cell_type": "code",
   "execution_count": 1,
   "metadata": {
    "vscode": {
     "languageId": "java"
    }
   },
   "outputs": [],
   "source": [
    "/**\n",
    " * Returns the value representing the day of the week for\n",
    " * the first day of year, where 0 denotes Sunday, 1 denotes\n",
    " * Monday, ..., and 6 denotes Saturday \n",
    " * \n",
    " * @param month\n",
    " * @param day\n",
    " * @param year\n",
    " * @return\n",
    " */\n",
    "private static int firstDayOfYear(int year)\n",
    "{\n",
    "    return 1;\n",
    "}"
   ]
  },
  {
   "cell_type": "code",
   "execution_count": 2,
   "metadata": {
    "vscode": {
     "languageId": "java"
    }
   },
   "outputs": [],
   "source": [
    "/**\n",
    " * Returns n, where month, day, and year specify the nth\n",
    " * day of the year. Returns 1 for January 1 (Monday = 1,\n",
    " * day = 1) of any year \n",
    " * \n",
    " * @param month\n",
    " * @param day\n",
    " * @param year\n",
    " * @return\n",
    " */\n",
    "private static int dayOfYear(int month, int day, int year)\n",
    "{\n",
    "    return 1;\n",
    "}"
   ]
  },
  {
   "cell_type": "code",
   "execution_count": 3,
   "metadata": {
    "vscode": {
     "languageId": "java"
    }
   },
   "outputs": [],
   "source": [
    "/**\n",
    " * Returns the value representing the day of the week for\n",
    " * the given date, (month, day, year) where 0 denotes Sunday,\n",
    " * 1 denotes Monday, ..., and 6 denotes Saturday\n",
    " * \n",
    " * @param the given month\n",
    " * @param the given day\n",
    " * @param the given year\n",
    " * @return dayOfWeek\n",
    " */\n",
    "public static int dayofWeek(int month, int day, int year)\n",
    "{\n",
    "    // assuming that firstDayOfYear() is implemented\n",
    "    int firstDay = firstDayOfYear(year);\n",
    "    // assuming that dayOfYear() is implemented\n",
    "    int numDays = dayOfYear(month, day, year);\n",
    "    \n",
    "    // subtract 1 so days of year start at 0\n",
    "    int addDays = (firstDay + numDays) - 1;\n",
    "    \n",
    "    // 7 represents the number of days in a week\n",
    "    int dayOfWeek = addDays % 7;\n",
    "    \n",
    "    return dayOfWeek;\n",
    "}"
   ]
  },
  {
   "cell_type": "code",
   "execution_count": 5,
   "metadata": {
    "vscode": {
     "languageId": "java"
    }
   },
   "outputs": [
    {
     "name": "stdout",
     "output_type": "stream",
     "text": [
      "PART B:\n",
      "11/14/2022 is on a Monday\n"
     ]
    },
    {
     "data": {
      "text/plain": [
       "java.io.PrintStream@2c3314aa"
      ]
     },
     "execution_count": 5,
     "metadata": {},
     "output_type": "execute_result"
    }
   ],
   "source": [
    "/**\n",
    " * main \n",
    " * \n",
    " * @param Args\n",
    " */\n",
    "\n",
    "// array of week\n",
    "final String[] DAYS = {\"Sunday\", \"Monday\", \"Tuesday\",\n",
    "\"Wednesday\", \"Thursday\", \"Friday\", \"Saturday\"};\n",
    "\n",
    "final int THE_MONTH = 11;\n",
    "final int THE_DAY = 14;\n",
    "final int THE_YEAR = 2022;\n",
    "\n",
    "// PART B\n",
    "System.out.printf(\"PART B:\\n\");\n",
    "int day = dayofWeek(THE_MONTH, THE_DAY, THE_YEAR);\n",
    "System.out.printf(\"%d/%d/%d is on a %s\\n\", THE_MONTH, THE_DAY, THE_YEAR, DAYS[day]);"
   ]
  },
  {
   "cell_type": "markdown",
   "metadata": {},
   "source": [
    "#### Question #2"
   ]
  },
  {
   "cell_type": "code",
   "execution_count": null,
   "metadata": {
    "vscode": {
     "languageId": "java"
    }
   },
   "outputs": [],
   "source": [
    "// code code code"
   ]
  },
  {
   "cell_type": "markdown",
   "metadata": {},
   "source": [
    "#### Question #3<br>\n",
    "a."
   ]
  },
  {
   "cell_type": "code",
   "execution_count": null,
   "metadata": {
    "vscode": {
     "languageId": "java"
    }
   },
   "outputs": [],
   "source": [
    "// code code code"
   ]
  },
  {
   "cell_type": "markdown",
   "metadata": {},
   "source": [
    "b."
   ]
  },
  {
   "cell_type": "code",
   "execution_count": null,
   "metadata": {
    "vscode": {
     "languageId": "java"
    }
   },
   "outputs": [],
   "source": [
    "// code code code"
   ]
  },
  {
   "cell_type": "markdown",
   "metadata": {},
   "source": [
    "#### Question #4<br>\n",
    "a."
   ]
  },
  {
   "cell_type": "code",
   "execution_count": null,
   "metadata": {
    "vscode": {
     "languageId": "java"
    }
   },
   "outputs": [],
   "source": [
    "// code code code"
   ]
  },
  {
   "cell_type": "markdown",
   "metadata": {},
   "source": [
    "b."
   ]
  },
  {
   "cell_type": "code",
   "execution_count": null,
   "metadata": {
    "vscode": {
     "languageId": "java"
    }
   },
   "outputs": [],
   "source": [
    "// code code code"
   ]
  },
  {
   "cell_type": "markdown",
   "metadata": {},
   "source": [
    "## Testing Process\n",
    "\n",
    "* I used **JUnit Testing** to test my code\n",
    "\n",
    "![image](https://github.com/Natalie-Beckwith/fastpages/blob/master/_notebooks/ghtop_images/part%201a.png?raw=true)\n",
    "\n",
    "* I tested ```numberOfLeapYears()``` by using the years 2010 to 2018. In those range of years, the expected output should be 2 leap years, which is the output of the test code\n",
    "\n",
    "![image](https://github.com/Natalie-Beckwith/fastpages/blob/master/_notebooks/ghtop_images/part%201b.png?raw=true)\n",
    "\n",
    "* I tested ```dayOfWeek()``` by using the date 11/14/22. The expected output should be 1, which is what the test code outputs\n",
    "\n",
    "![image](https://github.com/Natalie-Beckwith/fastpages/blob/master/_notebooks/ghtop_images/output.png?raw=true)\n",
    "\n",
    "* After I ran my test code, the output showed a green bar which means that there are no errors"
   ]
  }
 ],
 "metadata": {
  "kernelspec": {
   "display_name": "Java",
   "language": "java",
   "name": "java"
  },
  "language_info": {
   "codemirror_mode": "java",
   "file_extension": ".jshell",
   "mimetype": "text/x-java-source",
   "name": "Java",
   "pygments_lexer": "java",
   "version": "17.0.4+8"
  },
  "orig_nbformat": 4
 },
 "nbformat": 4,
 "nbformat_minor": 2
}
