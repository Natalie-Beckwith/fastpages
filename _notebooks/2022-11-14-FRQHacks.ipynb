{
 "cells": [
  {
   "cell_type": "markdown",
   "metadata": {},
   "source": [
    "# CB FRQs\n",
    "- toc:true\n",
    "- layout: post\n",
    "- badges: true\n",
    "- comments: true\n",
    "- author: Natalie Beckwith\n",
    "- categories: [CB Practice, TRI2]\n",
    "- image: https://menarosa.org/wp-content/uploads/2018/12/pending-loop.gif"
   ]
  },
  {
   "cell_type": "markdown",
   "metadata": {},
   "source": [
    "### FRQ 2019\n",
    "#### Question #1<br>\n",
    "a."
   ]
  },
  {
   "cell_type": "code",
   "execution_count": 1,
   "metadata": {
    "vscode": {
     "languageId": "java"
    }
   },
   "outputs": [],
   "source": [
    "/**\n",
    "     * Returns true if year is a leap year and false otherwise \n",
    "     * \n",
    "     * @param year\n",
    "     * @return\n",
    "     */\n",
    "    private static boolean isLeapYear(int year)\n",
    "    {\n",
    "        if ((year % 4 == 0) || // must occur every 4th year\n",
    "                (year % 100 == 0) || // must be divisible by 100\n",
    "                (year % 400 == 0)) // must be divisible by 400\n",
    "        {\n",
    "            return true;\n",
    "        }\n",
    "        else return false;   \n",
    "    }"
   ]
  },
  {
   "cell_type": "code",
   "execution_count": 2,
   "metadata": {
    "vscode": {
     "languageId": "java"
    }
   },
   "outputs": [],
   "source": [
    "/**\n",
    "     * Returns number of leap years between year1 and year2,\n",
    "     * inclusive \n",
    "     * \n",
    "     * 0 <= year1 <= year2\n",
    "     * \n",
    "     * @param year1\n",
    "     * @param year2\n",
    "     * @return\n",
    "     */\n",
    "    public static int numberofLeapYears(int year1, int year2)\n",
    "    {\n",
    "        int leapYear = 0;\n",
    "        \n",
    "        for(int loop = year1; loop <= year2; loop++)\n",
    "        {\n",
    "            if ((loop % 4 == 0) || // must occur every 4th year\n",
    "                (loop % 100 == 0) || // must be divisible by 100\n",
    "                (loop % 400 == 0)) // must be divisible by 400\n",
    "            {\n",
    "                leapYear++; // increases number of leap years\n",
    "            }\n",
    "        }\n",
    "        return leapYear;\n",
    "    }"
   ]
  },
  {
   "cell_type": "code",
   "execution_count": 3,
   "metadata": {
    "vscode": {
     "languageId": "java"
    }
   },
   "outputs": [
    {
     "name": "stdout",
     "output_type": "stream",
     "text": [
      "PART A:\n",
      "2022: false\n",
      "There are 7 leap years between 2000 and 2024\n",
      "\n"
     ]
    },
    {
     "data": {
      "text/plain": [
       "java.io.PrintStream@2cc5d8cd"
      ]
     },
     "execution_count": 3,
     "metadata": {},
     "output_type": "execute_result"
    }
   ],
   "source": [
    "/**\n",
    " * main \n",
    " * \n",
    " */\n",
    "final int YEAR = 2022;\n",
    "        final int YEAR_1 = 2000;\n",
    "        final int YEAR_2 = 2024;\n",
    "\n",
    "        // PART A\n",
    "        System.out.printf(\"PART A:\\n\");\n",
    "        boolean isLeapYear = isLeapYear(YEAR);\n",
    "        System.out.printf(\"%d: %b\\n\",YEAR, isLeapYear);\n",
    "        \n",
    "        int numLeapYears = numberofLeapYears(YEAR_1, YEAR_2);\n",
    "        System.out.printf(\"There are %d leap years between %d and %d\\n\\n\",\n",
    "                numLeapYears, YEAR_1, YEAR_2);"
   ]
  },
  {
   "cell_type": "markdown",
   "metadata": {},
   "source": [
    "b."
   ]
  },
  {
   "cell_type": "code",
   "execution_count": 1,
   "metadata": {
    "vscode": {
     "languageId": "java"
    }
   },
   "outputs": [],
   "source": [
    "/**\n",
    " * Returns the value representing the day of the week for\n",
    " * the first day of year, where 0 denotes Sunday, 1 denotes\n",
    " * Monday, ..., and 6 denotes Saturday \n",
    " * \n",
    " * @param month\n",
    " * @param day\n",
    " * @param year\n",
    " * @return\n",
    " */\n",
    "private static int firstDayOfYear(int year)\n",
    "{\n",
    "    return 1;\n",
    "}"
   ]
  },
  {
   "cell_type": "code",
   "execution_count": 2,
   "metadata": {
    "vscode": {
     "languageId": "java"
    }
   },
   "outputs": [],
   "source": [
    "/**\n",
    " * Returns n, where month, day, and year specify the nth\n",
    " * day of the year. Returns 1 for January 1 (Monday = 1,\n",
    " * day = 1) of any year \n",
    " * \n",
    " * @param month\n",
    " * @param day\n",
    " * @param year\n",
    " * @return\n",
    " */\n",
    "private static int dayOfYear(int month, int day, int year)\n",
    "{\n",
    "    return 1;\n",
    "}"
   ]
  },
  {
   "cell_type": "code",
   "execution_count": 3,
   "metadata": {
    "vscode": {
     "languageId": "java"
    }
   },
   "outputs": [],
   "source": [
    "/**\n",
    " * Returns the value representing the day of the week for\n",
    " * the given date, (month, day, year) where 0 denotes Sunday,\n",
    " * 1 denotes Monday, ..., and 6 denotes Saturday\n",
    " * \n",
    " * @param the given month\n",
    " * @param the given day\n",
    " * @param the given year\n",
    " * @return dayOfWeek\n",
    " */\n",
    "public static int dayofWeek(int month, int day, int year)\n",
    "{\n",
    "    // assuming that firstDayOfYear() is implemented\n",
    "    int firstDay = firstDayOfYear(year);\n",
    "    // assuming that dayOfYear() is implemented\n",
    "    int numDays = dayOfYear(month, day, year);\n",
    "    \n",
    "    // subtract 1 so days of year start at 0\n",
    "    int addDays = (firstDay + numDays) - 1;\n",
    "    \n",
    "    // 7 represents the number of days in a week\n",
    "    int dayOfWeek = addDays % 7;\n",
    "    \n",
    "    return dayOfWeek;\n",
    "}"
   ]
  },
  {
   "cell_type": "code",
   "execution_count": 5,
   "metadata": {
    "vscode": {
     "languageId": "java"
    }
   },
   "outputs": [
    {
     "name": "stdout",
     "output_type": "stream",
     "text": [
      "PART B:\n",
      "11/14/2022 is on a Monday\n"
     ]
    },
    {
     "data": {
      "text/plain": [
       "java.io.PrintStream@2c3314aa"
      ]
     },
     "execution_count": 5,
     "metadata": {},
     "output_type": "execute_result"
    }
   ],
   "source": [
    "/**\n",
    " * main \n",
    " * \n",
    " * @param Args\n",
    " */\n",
    "\n",
    "// array of week\n",
    "final String[] DAYS = {\"Sunday\", \"Monday\", \"Tuesday\",\n",
    "\"Wednesday\", \"Thursday\", \"Friday\", \"Saturday\"};\n",
    "\n",
    "final int THE_MONTH = 11;\n",
    "final int THE_DAY = 14;\n",
    "final int THE_YEAR = 2022;\n",
    "\n",
    "// PART B\n",
    "System.out.printf(\"PART B:\\n\");\n",
    "int day = dayofWeek(THE_MONTH, THE_DAY, THE_YEAR);\n",
    "System.out.printf(\"%d/%d/%d is on a %s\\n\", THE_MONTH, THE_DAY, THE_YEAR, DAYS[day]);"
   ]
  },
  {
   "cell_type": "markdown",
   "metadata": {},
   "source": [
    "#### Question #2"
   ]
  },
  {
   "cell_type": "code",
   "execution_count": 6,
   "metadata": {
    "vscode": {
     "languageId": "java"
    }
   },
   "outputs": [
    {
     "name": "stdout",
     "output_type": "stream",
     "text": [
      "Number of steps: 9000\n",
      "Number of active days: 0\n",
      "Average number of steps: 9000.0\n",
      "\n",
      "Number of steps: 14000\n",
      "Number of active days: 0\n",
      "Average number of steps: 7000.0\n",
      "\n",
      "Number of steps: 27000\n",
      "Number of active days: 1\n",
      "Average number of steps: 9000.0\n",
      "\n",
      "Number of steps: 50000\n",
      "Number of active days: 2\n",
      "Average number of steps: 12500.0\n",
      "\n",
      "Number of steps: 51111\n",
      "Number of active days: 2\n",
      "Average number of steps: 10222.2\n",
      "\n"
     ]
    }
   ],
   "source": [
    "/**\n",
    " * StepTracker.java\n",
    " *\n",
    " * FRQ 2019 #2\n",
    " *\n",
    " * @author Natalie Beckwith\n",
    " * @version 1\n",
    " */\n",
    "\n",
    "/**\n",
    " * Main class for StepTracker.java\n",
    " *\n",
    " */\n",
    "public class StepTracker\n",
    "{\n",
    "\n",
    "    private int _stepsToBeActive;\n",
    "    private int _activeDays;\n",
    "    private int _steps;\n",
    "    private int _daysTracked;\n",
    "    private int _stepsToday;\n",
    "\n",
    "    public StepTracker(int stepsToBeActive)\n",
    "    {\n",
    "        stepsToBeActive = _stepsToBeActive;\n",
    "        _activeDays = 0;\n",
    "        _steps = 0;\n",
    "        _daysTracked = 0;\n",
    "        _stepsToday = 0;\n",
    "    }\n",
    "\n",
    "    /**\n",
    "     * number of active days\n",
    "     * \n",
    "     * @return the number of active days\n",
    "     */\n",
    "    public int activeDays()\n",
    "    {\n",
    "        _daysTracked++;\n",
    "\n",
    "        // days with at least 10,000 steps are an active day\n",
    "        if (_stepsToday >= 10000)\n",
    "        {\n",
    "            _activeDays++;\n",
    "\n",
    "            return _activeDays;\n",
    "        }\n",
    "        return _activeDays;\n",
    "    }\n",
    "\n",
    "    /**\n",
    "     * takes the average steps by dividing the number of steps taken by the number of\n",
    "     * days tracked\n",
    "     * \n",
    "     * @return the average number of steps per day\n",
    "     */\n",
    "    public double averageSteps()\n",
    "    {\n",
    "        if (_daysTracked == 0)\n",
    "        {\n",
    "            return 0.0;\n",
    "        }\n",
    "\n",
    "        // number of steps divided by days tracked\n",
    "        return (double) _steps / (double) _daysTracked;\n",
    "    }\n",
    "\n",
    "    /**\n",
    "     * accumulates information about steps, in readings taken once per day\n",
    "     * \n",
    "     * @param steps\n",
    "     */\n",
    "    public int addDailySteps(int steps)\n",
    "    {\n",
    "        _stepsToday = steps;\n",
    "\n",
    "        _steps += _stepsToday;\n",
    "\n",
    "        return _steps;\n",
    "    }\n",
    "\n",
    "    /**\n",
    "     * prints the total number of steps\n",
    "     * \n",
    "     * @param steps\n",
    "     */\n",
    "    public static void printSteps(int steps)\n",
    "    {\n",
    "        System.out.printf(\"Number of steps: %d\\n\", steps);\n",
    "    }\n",
    "\n",
    "    /**\n",
    "     * prints the number of active days\n",
    "     * \n",
    "     * @param days\n",
    "     */\n",
    "    public static void printActiveDays(int days)\n",
    "    {\n",
    "        System.out.printf(\"Number of active days: %d\\n\", days);\n",
    "    }\n",
    "\n",
    "    /**\n",
    "     * print the average number of steps\n",
    "     * \n",
    "     * @param average\n",
    "     */\n",
    "    public static void printAverage(double average)\n",
    "    {\n",
    "        System.out.printf(\"Average number of steps: %.1f\\n\\n\", average);\n",
    "    }\n",
    "\n",
    "    /**\n",
    "     * main\n",
    "     * \n",
    "     * @param Args\n",
    "     */\n",
    "    public static void main(String[] Args)\n",
    "    {\n",
    "        // days with at least 10,000 steps are considered\n",
    "        // active, days must be positive\n",
    "        StepTracker tr = new StepTracker(10000);\n",
    "\n",
    "        int numSteps;\n",
    "        int numActiveDays;\n",
    "        double numAverageSteps;\n",
    "\n",
    "        numSteps = tr.addDailySteps(9000);\n",
    "        numActiveDays = tr.activeDays();\n",
    "        numAverageSteps = tr.averageSteps();\n",
    "\n",
    "        printSteps(numSteps);\n",
    "        printActiveDays(numActiveDays);\n",
    "        printAverage(numAverageSteps);\n",
    "\n",
    "        numSteps = tr.addDailySteps(5000);\n",
    "        numActiveDays = tr.activeDays();\n",
    "        numAverageSteps = tr.averageSteps();\n",
    "\n",
    "        printSteps(numSteps);\n",
    "        printActiveDays(numActiveDays);\n",
    "        printAverage(numAverageSteps);\n",
    "\n",
    "        numSteps = tr.addDailySteps(13000);\n",
    "        numActiveDays = tr.activeDays();\n",
    "        numAverageSteps = tr.averageSteps();\n",
    "\n",
    "        printSteps(numSteps);\n",
    "        printActiveDays(numActiveDays);\n",
    "        printAverage(numAverageSteps);\n",
    "\n",
    "        numSteps = tr.addDailySteps(23000);\n",
    "        numActiveDays = tr.activeDays();\n",
    "        numAverageSteps = tr.averageSteps();\n",
    "\n",
    "        printSteps(numSteps);\n",
    "        printActiveDays(numActiveDays);\n",
    "        printAverage(numAverageSteps);\n",
    "\n",
    "        numSteps = tr.addDailySteps(1111);\n",
    "        numActiveDays = tr.activeDays();\n",
    "        numAverageSteps = tr.averageSteps();\n",
    "\n",
    "        printSteps(numSteps);\n",
    "        printActiveDays(numActiveDays);\n",
    "        printAverage(numAverageSteps);\n",
    "    }\n",
    "}\n",
    "StepTracker.main(null);"
   ]
  },
  {
   "cell_type": "markdown",
   "metadata": {},
   "source": [
    "#### Question #3<br>\n",
    "a."
   ]
  },
  {
   "cell_type": "code",
   "execution_count": null,
   "metadata": {
    "vscode": {
     "languageId": "java"
    }
   },
   "outputs": [],
   "source": [
    "// code code code"
   ]
  },
  {
   "cell_type": "markdown",
   "metadata": {},
   "source": [
    "b."
   ]
  },
  {
   "cell_type": "code",
   "execution_count": null,
   "metadata": {
    "vscode": {
     "languageId": "java"
    }
   },
   "outputs": [],
   "source": [
    "// code code code"
   ]
  },
  {
   "cell_type": "markdown",
   "metadata": {},
   "source": [
    "#### Question #4<br>\n",
    "a."
   ]
  },
  {
   "cell_type": "code",
   "execution_count": null,
   "metadata": {
    "vscode": {
     "languageId": "java"
    }
   },
   "outputs": [],
   "source": [
    "// code code code"
   ]
  },
  {
   "cell_type": "markdown",
   "metadata": {},
   "source": [
    "b."
   ]
  },
  {
   "cell_type": "code",
   "execution_count": null,
   "metadata": {
    "vscode": {
     "languageId": "java"
    }
   },
   "outputs": [],
   "source": [
    "// code code code"
   ]
  },
  {
   "cell_type": "markdown",
   "metadata": {},
   "source": [
    "## Testing Process\n",
    "\n",
    "### FRQ #1\n",
    "\n",
    "* I used **JUnit Testing** to test my code\n",
    "\n",
    "![image](https://github.com/Natalie-Beckwith/fastpages/blob/master/_notebooks/ghtop_images/part%201a.png?raw=true)\n",
    "\n",
    "* I tested ```numberOfLeapYears()``` by using the years 2010 to 2018. In those range of years, the expected output should be 2 leap years, which is the output of the test code\n",
    "\n",
    "![image](https://github.com/Natalie-Beckwith/fastpages/blob/master/_notebooks/ghtop_images/part%201b.png?raw=true)\n",
    "\n",
    "* I tested ```dayOfWeek()``` by using the date 11/14/22. The expected output should be 1, which is what the test code outputs\n",
    "\n",
    "![image](https://github.com/Natalie-Beckwith/fastpages/blob/master/_notebooks/ghtop_images/output.png?raw=true)\n",
    "\n",
    "* After I ran my test code, the output showed a green bar which means that there are no errors\n",
    "\n",
    "### FRQ #2\n",
    "\n",
    "* I tested my code by steping through each line using the debugger\n",
    "\n",
    "![image](https://raw.githubusercontent.com/Natalie-Beckwith/fastpages/56202d4382955978efca65b150495bc90e33c020/_notebooks/ghtop_images/degug1.png)\n",
    "\n",
    "* I put a breakpoint on the highlighted line and then stepped into each method, in this case I was testing the method ```addDailySteps()``` to see if it was adding the specified steps\n",
    "\n",
    "Before: <br>\n",
    "![image](https://raw.githubusercontent.com/Natalie-Beckwith/fastpages/56202d4382955978efca65b150495bc90e33c020/_notebooks/ghtop_images/degug2.png)\n",
    "\n",
    "After: <br>\n",
    "![image](https://raw.githubusercontent.com/Natalie-Beckwith/fastpages/56202d4382955978efca65b150495bc90e33c020/_notebooks/ghtop_images/degug3.png)\n",
    "\n",
    "* One of the problems with my code was the method for calculating average number of steps. The equaltion I used to calculate the average was not correct. I was dividing the total number of days tracked by the number of active steps."
   ]
  }
 ],
 "metadata": {
  "kernelspec": {
   "display_name": "Java",
   "language": "java",
   "name": "java"
  },
  "language_info": {
   "codemirror_mode": "java",
   "file_extension": ".jshell",
   "mimetype": "text/x-java-source",
   "name": "Java",
   "pygments_lexer": "java",
   "version": "17.0.4+8"
  },
  "orig_nbformat": 4
 },
 "nbformat": 4,
 "nbformat_minor": 2
}
