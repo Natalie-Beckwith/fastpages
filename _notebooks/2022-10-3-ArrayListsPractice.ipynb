{
 "cells": [
  {
   "cell_type": "markdown",
   "metadata": {},
   "source": [
    "# ArrayLists Practice\n",
    "- toc:true\n",
    "- layout: post\n",
    "- badges: true\n",
    "- comments: true\n",
    "- author: Natalie Beckwith\n",
    "- categories: [TRI1]\n",
    "- image: https://menarosa.org/wp-content/uploads/2018/12/pending-loop.gif"
   ]
  },
  {
   "cell_type": "code",
   "execution_count": 1,
   "metadata": {},
   "outputs": [],
   "source": [
    "import java.util.ArrayList;\n",
    "import java.util.Scanner;\n",
    "\n",
    "/**\n",
    " * Allows user to input as many song titles as they want\n",
    " * Terminates when a return character is entered twice\n",
    " *\n",
    " */\n",
    "public class AddSongs\n",
    "{\n",
    "    public static void main(String[] args)\n",
    "    {\n",
    "        ArrayList<String> songs = new ArrayList<String>();\n",
    "\n",
    "        \n",
    "        Scanner scanner = new Scanner(System.in);\n",
    "        String line;\n",
    "\n",
    "        System.out.printf(\"Enter song titles here:\\n\");\n",
    "\n",
    "        do\n",
    "        {\n",
    "            line = scanner.nextLine();\n",
    "            songs.add(line);\n",
    "        }\n",
    "        while(!line.equals(\"\"));\n",
    "        \n",
    "        \n",
    "        scanner.close();\n",
    "        \n",
    "    }\n",
    "}\n"
   ]
  },
  {
   "cell_type": "markdown",
   "metadata": {},
   "source": [
    "![Code Output](output.png)\n",
    "\n",
    "### Future Plans\n",
    "* Integrate this feature futher\n",
    "* Use this simple feature for the user to add their own songs and have others like/dislike them"
   ]
  }
 ],
 "metadata": {
  "kernelspec": {
   "display_name": "Java",
   "language": "java",
   "name": "java"
  },
  "language_info": {
   "codemirror_mode": "java",
   "file_extension": ".jshell",
   "mimetype": "text/x-java-source",
   "name": "java",
   "pygments_lexer": "java",
   "version": "17.0.4+8"
  },
  "orig_nbformat": 4,
  "vscode": {
   "interpreter": {
    "hash": "b0fa6594d8f4cbf19f97940f81e996739fb7646882a419484c72d19e05852a7e"
   }
  }
 },
 "nbformat": 4,
 "nbformat_minor": 2
}
