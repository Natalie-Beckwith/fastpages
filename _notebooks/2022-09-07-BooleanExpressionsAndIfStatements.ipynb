{
 "cells": [
  {
   "cell_type": "markdown",
   "metadata": {},
   "source": [
    "# Boolean Expressions and If Statements\n",
    "- toc:true\n",
    "- badges: true\n",
    "- comments: true\n",
    "- author: Natalie Beckwith\n",
    "- categories:"
   ]
  },
  {
   "cell_type": "markdown",
   "metadata": {},
   "source": [
    "\n",
    "### Hacks:\n",
    "* Build your own Jupyter Notebook lesson on ifs\n",
    "   * Explain if, if-else, and if-elseif-else.\n",
    "   * Make a markdown block before you sample code\n",
    "   * Comment in code to describe each decision\n",
    "* Add to lesson switch-case\n",
    "   * Create an if-elseif-elseif-elsif-else statement, 5 or more conditions.\n",
    "   * Covert the 5 or more decisions to a switch-case-case-case-case-otherwise.\n",
    "   * Make a markdown block before each code example\n",
    "   * Comment/establish a style of comments for your if-elseif and switch-case code blocks\n",
    "* Finish lesson with De Morgan's law\n",
    "   * Describe De Morgan's law\n",
    "   * Illustrate De Morgan's law\n",
    "   * Show some code running that shows understanding\n",
    "   * Resources, it is really time to show you can find resources beyond the Teacher\n",
    "   * Code/Code/Coding is everywhere, find something that helps\n"
   ]
  },
  {
   "cell_type": "markdown",
   "metadata": {},
   "source": [
    "## Using If-ElseIf:"
   ]
  },
  {
   "cell_type": "code",
   "execution_count": 16,
   "metadata": {
    "vscode": {
     "languageId": "java"
    }
   },
   "outputs": [],
   "source": [
    "public class Alarm\n",
    "{\n",
    "    public static void printSchoolStartTime(String dayOfWeek)\n",
    "    {\n",
    "        System.out.printf(\"%s --> \", dayOfWeek);\n",
    "        \n",
    "        // Day is Monday\n",
    "        if(dayOfWeek.equals(\"Monday\"))\n",
    "        {\n",
    "            System.out.printf(\"school starts at 8:35\\n\");\n",
    "        }\n",
    "        // Day is Tuesday\n",
    "        else if(dayOfWeek.equals(\"Tuesday\"))\n",
    "        {\n",
    "            System.out.printf(\"school starts at 8:35\\n\");\n",
    "        }\n",
    "        // Day is Wednesday\n",
    "        else if(dayOfWeek.equals(\"Wednesday\"))\n",
    "        {\n",
    "            System.out.printf(\"school starts at 9:55\\n\");\n",
    "        }\n",
    "        // Day is Thursday\n",
    "        else if(dayOfWeek.equals(\"Thursday\"))\n",
    "        {\n",
    "            System.out.printf(\"school starts at 8:35\\n\");\n",
    "        }\n",
    "        // Day is Friday\n",
    "        else if(dayOfWeek.equals(\"Friday\"))\n",
    "        {\n",
    "            System.out.printf(\"school starts at 8:35\\n\");\n",
    "        }\n",
    "        // Day is Saturday or Sunday\n",
    "        else if((dayOfWeek.equals(\"Saturday\")) || (dayOfWeek.equals(\"Sunday\")))\n",
    "        {\n",
    "            System.out.printf(\"No school!\\n\");\n",
    "        }\n",
    "        // Day is Invalid\n",
    "        else\n",
    "        {\n",
    "            System.out.printf(\"Invalid day of the week\\n\");\n",
    "        }\n",
    "    }\n",
    "\n",
    "}\n"
   ]
  },
  {
   "cell_type": "code",
   "execution_count": 17,
   "metadata": {
    "vscode": {
     "languageId": "java"
    }
   },
   "outputs": [
    {
     "name": "stdout",
     "output_type": "stream",
     "text": [
      "Monday --> school starts at 8:35\n",
      "Wednesday --> school starts at 9:55\n",
      "Friday --> school starts at 8:35\n",
      "Sunday --> No school!\n",
      "June --> Invalid day of the week\n"
     ]
    }
   ],
   "source": [
    "Alarm.printSchoolStartTime(\"Monday\");\n",
    "Alarm.printSchoolStartTime(\"Wednesday\");\n",
    "Alarm.printSchoolStartTime(\"Friday\");\n",
    "Alarm.printSchoolStartTime(\"Sunday\");\n",
    "Alarm.printSchoolStartTime(\"June\");"
   ]
  },
  {
   "cell_type": "markdown",
   "metadata": {},
   "source": [
    "## Using Switch-Case-Otherwise:"
   ]
  },
  {
   "cell_type": "code",
   "execution_count": 18,
   "metadata": {
    "vscode": {
     "languageId": "java"
    }
   },
   "outputs": [],
   "source": [
    "public class Alarm\n",
    "{\n",
    "    public static void printSchoolStartTime2(String dayOfWeek)\n",
    "    {\n",
    "        System.out.printf(\"%s --> \", dayOfWeek);\n",
    "        \n",
    "        switch (dayOfWeek)\n",
    "        {\n",
    "            // Day is Monday\n",
    "            case \"Monday\":\n",
    "                System.out.printf(\"school starts at 8:35\\n\");\n",
    "                break;\n",
    "            // Day is Tuesday\n",
    "            case \"Tuesday\":\n",
    "                System.out.printf(\"school starts at 8:35\\n\");\n",
    "                break;\n",
    "            // Day is Wednesday\n",
    "            case \"Wednesday\":\n",
    "                System.out.printf(\"school starts at 9:55\\n\");\n",
    "                break;\n",
    "            // Day is Thursday\n",
    "            case \"Thursday\":\n",
    "                System.out.printf(\"school starts at 8:35\\n\");\n",
    "                break;\n",
    "            // Day is Friday\n",
    "            case \"Friday\":\n",
    "                System.out.printf(\"school starts at 8:35\\n\");\n",
    "                break;\n",
    "            // Day is Saturday || Sunday\n",
    "            case \"Saturday\":\n",
    "            case \"Sunday\":\n",
    "                System.out.printf(\"No school!\\n\");\n",
    "                break;\n",
    "            // Day is Invalid\n",
    "            default:\n",
    "            System.out.printf(\"Invalid day of the week\\n\");\n",
    "                break;\n",
    "        }\n",
    "    }\n",
    "\n",
    "}\n"
   ]
  },
  {
   "cell_type": "code",
   "execution_count": 20,
   "metadata": {
    "vscode": {
     "languageId": "java"
    }
   },
   "outputs": [
    {
     "name": "stdout",
     "output_type": "stream",
     "text": [
      "Monday --> school starts at 8:35\n",
      "Wednesday --> school starts at 9:55\n",
      "Friday --> school starts at 8:35\n",
      "Sunday --> No school!\n",
      "June --> Invalid day of the week\n"
     ]
    }
   ],
   "source": [
    "Alarm.printSchoolStartTime2(\"Monday\");\n",
    "Alarm.printSchoolStartTime2(\"Wednesday\");\n",
    "Alarm.printSchoolStartTime2(\"Friday\");\n",
    "Alarm.printSchoolStartTime2(\"Sunday\");\n",
    "Alarm.printSchoolStartTime2(\"June\");"
   ]
  },
  {
   "cell_type": "markdown",
   "metadata": {},
   "source": [
    "1) De Morgan's Law states that not (A and B) is the same as not A or not B, and not(A or B) is the same as not A and not B\n",
    "\n",
    "2) Illustration of De Morgan's Law:\n",
    "\n",
    "| A | B | !A | !B | !(A or B) | !A and !B |\n",
    "|:-----------:|:-----------:|:-----------:|:-----------:|:-----------:|:-----------:|\n",
    "| 0 | 0 | 1 | 1 | 1 | 1 |\n",
    "| 0 | 1 | 1 | 0 | 0 | 0 |\n",
    "| 1 | 0 | 0 | 1 | 0 | 0 |\n",
    "| 1 | 1 | 0 | 0 | 0 | 0 |\n",
    "\n",
    "<br>\n",
    "\n",
    "| A | B | !A | !B | !(A and B) | !A or !B |\n",
    "|:-----------:|:-----------:|:-----------:|:-----------:|:-----------:|:-----------:|\n",
    "| 0 | 0 | 1 | 1 | 1 | 1 |\n",
    "| 0 | 1 | 1 | 0 | 1 | 1 |\n",
    "| 1 | 0 | 0 | 1 | 1 | 1 |\n",
    "| 1 | 1 | 0 | 0 | 0 | 0 |\n",
    "\n",
    "3) Code showing De Morgan's Law:"
   ]
  },
  {
   "cell_type": "code",
   "execution_count": null,
   "metadata": {
    "vscode": {
     "languageId": "java"
    }
   },
   "outputs": [],
   "source": [
    "public class ProGrow\n",
    "{\n",
    "    \n",
    "}"
   ]
  },
  {
   "cell_type": "code",
   "execution_count": null,
   "metadata": {
    "vscode": {
     "languageId": "java"
    }
   },
   "outputs": [],
   "source": []
  }
 ],
 "metadata": {
  "kernelspec": {
   "display_name": "Java",
   "language": "java",
   "name": "java"
  },
  "language_info": {
   "codemirror_mode": "java",
   "file_extension": ".jshell",
   "mimetype": "text/x-java-source",
   "name": "Java",
   "pygments_lexer": "java",
   "version": "17.0.4+8"
  },
  "orig_nbformat": 4
 },
 "nbformat": 4,
 "nbformat_minor": 2
}
