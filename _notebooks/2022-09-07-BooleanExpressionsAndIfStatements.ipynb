{
 "cells": [
  {
   "cell_type": "markdown",
   "metadata": {},
   "source": [
    "# Boolean Expressions and If Statements\n",
    "- toc:true\n",
    "- badges: true\n",
    "- comments: true\n",
    "- author: Natalie Beckwith\n",
    "- categories:"
   ]
  },
  {
   "cell_type": "markdown",
   "metadata": {},
   "source": [
    "## What is an If-Else Statement?\n",
    "* **If Statement** - a conditional statement that tests a condition, returns true or false\n",
    "* **If-Else Statement** - the if executes if the statement is true, the else executes of the statement is false\n",
    "* **If-Else-If-Else Statement** - a chain of If-Else statements"
   ]
  },
  {
   "cell_type": "markdown",
   "metadata": {},
   "source": [
    "## Using If-ElseIf-Else:"
   ]
  },
  {
   "cell_type": "code",
   "execution_count": 16,
   "metadata": {
    "vscode": {
     "languageId": "java"
    }
   },
   "outputs": [],
   "source": [
    "public class Alarm\n",
    "{\n",
    "    public static void printSchoolStartTime(String dayOfWeek)\n",
    "    {\n",
    "        System.out.printf(\"%s --> \", dayOfWeek);\n",
    "        \n",
    "        // Day is Monday\n",
    "        if(dayOfWeek.equals(\"Monday\"))\n",
    "        {\n",
    "            System.out.printf(\"school starts at 8:35\\n\");\n",
    "        }\n",
    "        // Day is Tuesday\n",
    "        else if(dayOfWeek.equals(\"Tuesday\"))\n",
    "        {\n",
    "            System.out.printf(\"school starts at 8:35\\n\");\n",
    "        }\n",
    "        // Day is Wednesday\n",
    "        else if(dayOfWeek.equals(\"Wednesday\"))\n",
    "        {\n",
    "            System.out.printf(\"school starts at 9:55\\n\");\n",
    "        }\n",
    "        // Day is Thursday\n",
    "        else if(dayOfWeek.equals(\"Thursday\"))\n",
    "        {\n",
    "            System.out.printf(\"school starts at 8:35\\n\");\n",
    "        }\n",
    "        // Day is Friday\n",
    "        else if(dayOfWeek.equals(\"Friday\"))\n",
    "        {\n",
    "            System.out.printf(\"school starts at 8:35\\n\");\n",
    "        }\n",
    "        // Day is Saturday or Sunday\n",
    "        else if((dayOfWeek.equals(\"Saturday\")) || (dayOfWeek.equals(\"Sunday\")))\n",
    "        {\n",
    "            System.out.printf(\"No school!\\n\");\n",
    "        }\n",
    "        // Day is Invalid\n",
    "        else\n",
    "        {\n",
    "            System.out.printf(\"Invalid day of the week\\n\");\n",
    "        }\n",
    "    }\n",
    "\n",
    "}\n"
   ]
  },
  {
   "cell_type": "code",
   "execution_count": 17,
   "metadata": {
    "vscode": {
     "languageId": "java"
    }
   },
   "outputs": [
    {
     "name": "stdout",
     "output_type": "stream",
     "text": [
      "Monday --> school starts at 8:35\n",
      "Wednesday --> school starts at 9:55\n",
      "Friday --> school starts at 8:35\n",
      "Sunday --> No school!\n",
      "June --> Invalid day of the week\n"
     ]
    }
   ],
   "source": [
    "Alarm.printSchoolStartTime(\"Monday\");\n",
    "Alarm.printSchoolStartTime(\"Wednesday\");\n",
    "Alarm.printSchoolStartTime(\"Friday\");\n",
    "Alarm.printSchoolStartTime(\"Sunday\");\n",
    "Alarm.printSchoolStartTime(\"June\");"
   ]
  },
  {
   "cell_type": "markdown",
   "metadata": {},
   "source": [
    "## Using Switch-Case-Otherwise:"
   ]
  },
  {
   "cell_type": "code",
   "execution_count": 18,
   "metadata": {
    "vscode": {
     "languageId": "java"
    }
   },
   "outputs": [],
   "source": [
    "public class Alarm\n",
    "{\n",
    "    public static void printSchoolStartTime2(String dayOfWeek)\n",
    "    {\n",
    "        System.out.printf(\"%s --> \", dayOfWeek);\n",
    "        \n",
    "        switch (dayOfWeek)\n",
    "        {\n",
    "            // Day is Monday\n",
    "            case \"Monday\":\n",
    "                System.out.printf(\"school starts at 8:35\\n\");\n",
    "                break;\n",
    "            // Day is Tuesday\n",
    "            case \"Tuesday\":\n",
    "                System.out.printf(\"school starts at 8:35\\n\");\n",
    "                break;\n",
    "            // Day is Wednesday\n",
    "            case \"Wednesday\":\n",
    "                System.out.printf(\"school starts at 9:55\\n\");\n",
    "                break;\n",
    "            // Day is Thursday\n",
    "            case \"Thursday\":\n",
    "                System.out.printf(\"school starts at 8:35\\n\");\n",
    "                break;\n",
    "            // Day is Friday\n",
    "            case \"Friday\":\n",
    "                System.out.printf(\"school starts at 8:35\\n\");\n",
    "                break;\n",
    "            // Day is Saturday || Sunday\n",
    "            case \"Saturday\":\n",
    "            case \"Sunday\":\n",
    "                System.out.printf(\"No school!\\n\");\n",
    "                break;\n",
    "            // Day is Invalid\n",
    "            default:\n",
    "            System.out.printf(\"Invalid day of the week\\n\");\n",
    "                break;\n",
    "        }\n",
    "    }\n",
    "\n",
    "}\n"
   ]
  },
  {
   "cell_type": "code",
   "execution_count": 20,
   "metadata": {
    "vscode": {
     "languageId": "java"
    }
   },
   "outputs": [
    {
     "name": "stdout",
     "output_type": "stream",
     "text": [
      "Monday --> school starts at 8:35\n",
      "Wednesday --> school starts at 9:55\n",
      "Friday --> school starts at 8:35\n",
      "Sunday --> No school!\n",
      "June --> Invalid day of the week\n"
     ]
    }
   ],
   "source": [
    "Alarm.printSchoolStartTime2(\"Monday\");\n",
    "Alarm.printSchoolStartTime2(\"Wednesday\");\n",
    "Alarm.printSchoolStartTime2(\"Friday\");\n",
    "Alarm.printSchoolStartTime2(\"Sunday\");\n",
    "Alarm.printSchoolStartTime2(\"June\");"
   ]
  },
  {
   "cell_type": "markdown",
   "metadata": {},
   "source": [
    "## Using De Morgan's Law\n",
    "1) De Morgan's Law states that not (A and B) is the same as not A or not B, and not(A or B) is the same as not A and not B\n",
    "\n",
    "2) Illustration of De Morgan's Law:\n",
    "\n",
    "| A | B | !A | !B | !(A or B) | !A and !B |\n",
    "|:-----------:|:-----------:|:-----------:|:-----------:|:-----------:|:-----------:|\n",
    "| 0 | 0 | 1 | 1 | 1 | 1 |\n",
    "| 0 | 1 | 1 | 0 | 0 | 0 |\n",
    "| 1 | 0 | 0 | 1 | 0 | 0 |\n",
    "| 1 | 1 | 0 | 0 | 0 | 0 |\n",
    "\n",
    "<br>\n",
    "\n",
    "| A | B | !A | !B | !(A and B) | !A or !B |\n",
    "|:-----------:|:-----------:|:-----------:|:-----------:|:-----------:|:-----------:|\n",
    "| 0 | 0 | 1 | 1 | 1 | 1 |\n",
    "| 0 | 1 | 1 | 0 | 1 | 1 |\n",
    "| 1 | 0 | 0 | 1 | 1 | 1 |\n",
    "| 1 | 1 | 0 | 0 | 0 | 0 |\n",
    "\n",
    "3) Code showing De Morgan's Law:"
   ]
  },
  {
   "cell_type": "code",
   "execution_count": 29,
   "metadata": {
    "vscode": {
     "languageId": "java"
    }
   },
   "outputs": [],
   "source": [
    "public class Flavors\n",
    "{\n",
    "    public static void checkFlavor1(String flavor)\n",
    "    {\n",
    "        if (flavor.equals(\"Chocolate\") || flavor.equals(\"Vanilla\"))\n",
    "        {\n",
    "            System.out.printf(\"I do not like %s\\n\", flavor);\n",
    "        }\n",
    "        else\n",
    "        {\n",
    "            System.out.printf(\"I like %s\\n\", flavor);\n",
    "        }\n",
    "    }\n",
    "\n",
    "    public static void checkFlavor2(String flavor)\n",
    "    {\n",
    "        if (!flavor.equals(\"Chocolate\") && !flavor.equals(\"Vanilla\"))\n",
    "        {\n",
    "            System.out.printf(\"I like %s\\n\", flavor);\n",
    "        }\n",
    "        else\n",
    "        {\n",
    "            System.out.printf(\"I do not like %s\\n\", flavor);\n",
    "        }\n",
    "    }\n",
    "}"
   ]
  },
  {
   "cell_type": "code",
   "execution_count": 30,
   "metadata": {
    "vscode": {
     "languageId": "java"
    }
   },
   "outputs": [
    {
     "name": "stdout",
     "output_type": "stream",
     "text": [
      "I do not like Chocolate\n",
      "I do not like Vanilla\n",
      "I like Strawberry\n",
      "\n",
      "I do not like Chocolate\n",
      "I do not like Vanilla\n",
      "I like Strawberry\n"
     ]
    }
   ],
   "source": [
    "Flavors.checkFlavor1(\"Chocolate\");\n",
    "Flavors.checkFlavor1(\"Vanilla\");\n",
    "Flavors.checkFlavor1(\"Strawberry\");\n",
    "System.out.printf(\"\\n\");\n",
    "Flavors.checkFlavor2(\"Chocolate\");\n",
    "Flavors.checkFlavor2(\"Vanilla\");\n",
    "Flavors.checkFlavor2(\"Strawberry\");"
   ]
  }
 ],
 "metadata": {
  "kernelspec": {
   "display_name": "Java",
   "language": "java",
   "name": "java"
  },
  "language_info": {
   "codemirror_mode": "java",
   "file_extension": ".jshell",
   "mimetype": "text/x-java-source",
   "name": "Java",
   "pygments_lexer": "java",
   "version": "17.0.4+8"
  },
  "orig_nbformat": 4
 },
 "nbformat": 4,
 "nbformat_minor": 2
}
