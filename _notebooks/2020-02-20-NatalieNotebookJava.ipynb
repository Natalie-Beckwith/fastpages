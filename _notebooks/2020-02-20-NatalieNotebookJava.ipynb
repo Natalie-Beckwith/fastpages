{
 "cells": [
  {
   "cell_type": "markdown",
   "metadata": {},
   "source": [
    "# Java Code\n",
    "- toc:true\n",
    "- badges: true\n",
    "- comments: true\n",
    "- author: Natalie Beckwith\n",
    "- categories:"
   ]
  },
  {
   "cell_type": "code",
<<<<<<< HEAD
   "execution_count": 16,
   "metadata": {},
   "outputs": [],
   "source": [
    "public class PrimitivesTest\n",
    "{\n",
    "    public static void main(String[] Args)\n",
    "    {\n",
    "        System.out.printf(\"Test\");\n",
    "    }\n",
    "}"
   ]
  },
  {
   "cell_type": "code",
   "execution_count": 17,
   "metadata": {},
   "outputs": [],
   "source": [
    "//System.out.printf(\"Hello World!\");"
=======
   "execution_count": 1,
   "metadata": {},
   "outputs": [
    {
     "name": "stdout",
     "output_type": "stream",
     "text": [
      "Hello World!"
     ]
    },
    {
     "data": {
      "text/plain": [
       "java.io.PrintStream@53902d4a"
      ]
     },
     "execution_count": 1,
     "metadata": {},
     "output_type": "execute_result"
    }
   ],
   "source": [
    "System.out.printf(\"Hello World!\");"
>>>>>>> origin/HEAD
   ]
  }
 ],
 "metadata": {
  "kernelspec": {
   "display_name": "Java",
   "language": "java",
   "name": "java"
  },
  "language_info": {
   "codemirror_mode": "java",
   "file_extension": ".jshell",
   "mimetype": "text/x-java-source",
   "name": "java",
   "pygments_lexer": "java",
   "version": "17.0.4+8"
  },
  "orig_nbformat": 4,
  "vscode": {
   "interpreter": {
    "hash": "b0fa6594d8f4cbf19f97940f81e996739fb7646882a419484c72d19e05852a7e"
   }
  }
 },
 "nbformat": 4,
 "nbformat_minor": 2
}
