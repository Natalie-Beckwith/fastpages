{
 "cells": [
  {
   "cell_type": "markdown",
   "metadata": {},
   "source": [
    "# Unit 10 - Recursion\n",
    "- toc:true\n",
    "- badges: true\n",
    "- comments: true\n",
    "- author: Natalie Beckwith\n",
    "- categories: [CB Lessions, TRI2]"
   ]
  },
  {
   "cell_type": "markdown",
   "metadata": {},
   "source": [
    "## Notes\n",
    "\n",
    "* Recursive method is a method that calls itself\n",
    "* Has its own local variables\n",
    "* Can be used to traverse Strings, Arrays, ArrayList\n",
    "* Binary search - splitting an array in half\n",
    "* Merge sort - copy original elements and works from left to right\n",
    "* Recursive blocks do not call themselves\n",
    "    * Must have a special case which they no longer call themselves"
   ]
  },
  {
   "cell_type": "markdown",
   "metadata": {},
   "source": [
    "## Homework\n",
    "\n",
    "[Recursion MC Practice](https://docs.google.com/forms/d/e/1FAIpQLSdqAPDDeRqH4wU8soSGx5v-0Iy9kX8h4vnxXMeq5_ErUF5skw/alreadyresponded)"
   ]
  }
 ],
 "metadata": {
  "kernelspec": {
   "display_name": "Java",
   "language": "java",
   "name": "java"
  },
  "language_info": {
   "codemirror_mode": "java",
   "file_extension": ".jshell",
   "mimetype": "text/x-java-source",
   "name": "java",
   "pygments_lexer": "java",
   "version": "17.0.4+8"
  },
  "orig_nbformat": 4
 },
 "nbformat": 4,
 "nbformat_minor": 2
}
