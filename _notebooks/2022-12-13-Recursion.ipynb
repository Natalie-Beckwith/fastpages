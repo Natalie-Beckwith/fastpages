{
 "cells": [
  {
   "cell_type": "markdown",
   "metadata": {},
   "source": [
    "# Unit 9 - Inheritance\n",
    "- toc:true\n",
    "- badges: true\n",
    "- comments: true\n",
    "- author: Natalie Beckwith\n",
    "- categories: [CB Lessions, TRI2]"
   ]
  },
  {
   "cell_type": "markdown",
   "metadata": {},
   "source": [
    "## Notes\n",
    "\n",
    "* Recursive method is a method that calls itself\n",
    "* Has its own local variables\n",
    "* Can be used to traverse Strings, Arrays, ArrayList\n",
    "* Binary search - splitting an array in half\n",
    "* Merge sort - copy original elements and works from left to right\n",
    "* Recursive blocks do not call themselves\n",
    "    * Must have a special case which they no longer call themselves"
   ]
  },
  {
   "cell_type": "code",
   "execution_count": 14,
   "metadata": {},
   "outputs": [
    {
     "name": "stdout",
     "output_type": "stream",
     "text": [
      "248832\n"
     ]
    }
   ],
   "source": [
    "public class Fib\n",
    "{\n",
    "    public static void main (String[] Args)\n",
    "    {\n",
    "        \n",
    "            System.out.println(fib(8));\n",
    "        \n",
    "    }\n",
    "\n",
    "    private static int fib (int a)\n",
    "    {\n",
    "        if (a <= 5)\n",
    "        {\n",
    "            return 12;\n",
    "        }\n",
    "        \n",
    "        return fib(a - 2) * fib(a-1);\n",
    "        \n",
    "    }\n",
    "}\n",
    "Fib.main(null);"
   ]
  }
 ],
 "metadata": {
  "kernelspec": {
   "display_name": "Java",
   "language": "java",
   "name": "java"
  },
  "language_info": {
   "codemirror_mode": "java",
   "file_extension": ".jshell",
   "mimetype": "text/x-java-source",
   "name": "java",
   "pygments_lexer": "java",
   "version": "17.0.4+8"
  },
  "orig_nbformat": 4
 },
 "nbformat": 4,
 "nbformat_minor": 2
}
