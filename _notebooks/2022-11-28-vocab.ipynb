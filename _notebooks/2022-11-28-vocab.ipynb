{
 "cells": [
  {
   "cell_type": "markdown",
   "metadata": {},
   "source": [
    "# CB Vocab\n",
    "- toc:true\n",
    "- layout: post\n",
    "- badges: true\n",
    "- comments: true\n",
    "- author: Natalie Beckwith\n",
    "- categories: [CB Practice, TRI2]\n",
    "- image: https://github.com/Natalie-Beckwith/fastpages/blob/master/_notebooks/ghtop_images/pending-loop.gif?raw=true"
   ]
  },
  {
   "cell_type": "markdown",
   "metadata": {},
   "source": [
    "* Casting, specifically for Division X\n",
    "* Casting, specifically for Truncating or Rounding X\n",
    "* Wrapper Classes, why wrap int, double. Show examples X\n",
    "* Concatenation, explain or illustrate rules on mixed type Concatenation X\n",
    "* Math class, specifically Random usage X\n",
    "* Compound Boolean Expression X\n",
    "* Truth Tables X\n",
    "* De Morgan’s Law X\n",
    "* Comparing Numbers X\n",
    "* Comparing Strings X\n",
    "* Comparing Objects X\n",
    "* for loop, enhanced for loop X\n",
    "* while loop versus do while loop X\n",
    "* nested loops X\n",
    "* Creating a Class, describe Naming Conventions \n",
    "* Constructor, describe why there is no return\n",
    "* Accessor methods, relationship to getter\n",
    "* Mutator methods, relationship to setter, describe void return type\n",
    "* Static variables, Class variables, show use case in code\n",
    "* Show use case of access modifiers: Public, Private, Protected\n",
    "* Static methods, Class methods\n",
    "* `.this` Keyword X\n",
    "* main method, tester methods\n",
    "* Inheritance, extends\n",
    "* Subclass constructor, super Keyword\n",
    "* Overloading a method, same name different parameters\n",
    "* Overriding a method, same signature of a method\n",
    "* Abstract Class, Abstract Method\n",
    "* Standard methods: toString(), equals(), hashCode()\n",
    "* Late binding of object, referencing superclass object, ie Animal a = new Chicken(); Animal b = new Goat();\n",
    "* Polymorphism: any of overloading, overriding, late binding\n",
    "* Big O notation for Hash map, Binary Search, Single loop, Nested Loop"
   ]
  },
  {
   "cell_type": "markdown",
   "metadata": {},
   "source": [
    "### Casting\n",
    "* Casting is when you convert from one data type to another\n",
    "* In this code example, variables ```x``` and ```y``` are changed from type ```int``` to type ```double```"
   ]
  },
  {
   "cell_type": "code",
   "execution_count": 6,
   "metadata": {},
   "outputs": [
    {
     "name": "stdout",
     "output_type": "stream",
     "text": [
      "With casting: 1.50\n",
      "Without casting: 1.00"
     ]
    },
    {
     "data": {
      "text/plain": [
       "java.io.PrintStream@32478ad1"
      ]
     },
     "execution_count": 6,
     "metadata": {},
     "output_type": "execute_result"
    }
   ],
   "source": [
    "int x;\n",
    "int y;\n",
    "double casting1;\n",
    "double casting2;\n",
    "\n",
    "\n",
    "x = 10;\n",
    "y = 15;\n",
    "\n",
    "casting1 = (double) y / x;\n",
    "\n",
    "casting2 = y / x;\n",
    "\n",
    "System.out.printf(\"With casting: %.2f\\nWithout casting: %.2f\", casting1, casting2);"
   ]
  },
  {
   "cell_type": "markdown",
   "metadata": {},
   "source": [
    "### Wrapper classes\n",
    "\n",
    "* In this code example, the value of `num` is wrapped to type `Integer` which allows for addition methods that wouldn't be possible with type `int`\n",
    "* `num` is now an object"
   ]
  },
  {
   "cell_type": "code",
   "execution_count": 2,
   "metadata": {},
   "outputs": [
    {
     "name": "stdout",
     "output_type": "stream",
     "text": [
      "int: 5\n",
      "string: \"5\""
     ]
    },
    {
     "data": {
      "text/plain": [
       "java.io.PrintStream@67888624"
      ]
     },
     "execution_count": 2,
     "metadata": {},
     "output_type": "execute_result"
    }
   ],
   "source": [
    "Integer num = new Integer(5);\n",
    "\n",
    "System.out.printf(\"int: %d\\n\", num);\n",
    "\n",
    "num.toString();\n",
    "\n",
    "System.out.printf(\"string: \\\"%s\\\"\", num);"
   ]
  },
  {
   "cell_type": "markdown",
   "metadata": {},
   "source": [
    "### Concatenation\n",
    "\n",
    "* Combining two strings into one\n",
    "* In the code example, `message1` is being added to `message2`\n",
    "* `num` is an integer, so when it is concatenated to `finalMessage2`, it is turned into type `String`"
   ]
  },
  {
   "cell_type": "code",
   "execution_count": 7,
   "metadata": {},
   "outputs": [
    {
     "name": "stdout",
     "output_type": "stream",
     "text": [
      "HelloWorld\n",
      "HelloWorld5"
     ]
    },
    {
     "data": {
      "text/plain": [
       "java.io.PrintStream@1238da"
      ]
     },
     "execution_count": 7,
     "metadata": {},
     "output_type": "execute_result"
    }
   ],
   "source": [
    "String message1;\n",
    "String message2;\n",
    "int num;\n",
    "String finalMessage;\n",
    "String finalMessage2;\n",
    "\n",
    "message1 = \"Hello\";\n",
    "message2 = \"World\";\n",
    "num = 5;\n",
    "\n",
    "finalMessage = message1 + message2;\n",
    "finalMessage2 = message1 + message2 + num;\n",
    "\n",
    "System.out.printf(\"%s\\n%s\", finalMessage, finalMessage2);"
   ]
  },
  {
   "cell_type": "markdown",
   "metadata": {},
   "source": [
    "### Math Class\n",
    "* ```Math.random``` returns a random double between 0 and 1"
   ]
  },
  {
   "cell_type": "code",
   "execution_count": 12,
   "metadata": {},
   "outputs": [
    {
     "name": "stdout",
     "output_type": "stream",
     "text": [
      "1.03\n",
      "10.81"
     ]
    },
    {
     "data": {
      "text/plain": [
       "java.io.PrintStream@32478ad1"
      ]
     },
     "execution_count": 12,
     "metadata": {},
     "output_type": "execute_result"
    }
   ],
   "source": [
    "double x;\n",
    "double y;\n",
    "double randomX;\n",
    "double randomY;\n",
    "\n",
    "x = 5;\n",
    "y = 12;\n",
    "\n",
    "randomX = Math.random() * x;\n",
    "randomY = Math.random() * y;\n",
    "\n",
    "System.out.printf(\"%.2f\\n%.2f\", randomX, randomY);"
   ]
  },
  {
   "cell_type": "markdown",
   "metadata": {},
   "source": [
    "### Boolean Expressions\n",
    "\n",
    "* `AND`, `OR`, `NOT`, etc.\n",
    "* In the class `GreatestNumber` below, 3 numbers are being compared to see which one is the largest"
   ]
  },
  {
   "cell_type": "markdown",
   "metadata": {},
   "source": [
    "### Comparing Numbers\n",
    "\n",
    "* when comparing `int`, `<`, `>`, `<=`, `>=`, `==`, and `!=` can be used"
   ]
  },
  {
   "cell_type": "code",
   "execution_count": 3,
   "metadata": {},
   "outputs": [
    {
     "name": "stdout",
     "output_type": "stream",
     "text": [
      "10, 15, 5\n",
      "num1 is the largest: false\n",
      "num2 is the largest: true\n",
      "num3 is the largest: false\n"
     ]
    }
   ],
   "source": [
    "public class GreatestNumber\n",
    "{\n",
    "    public static boolean num1Largest(int num1, int num2, int num3)\n",
    "    {\n",
    "        // num1 is the greatest\n",
    "        if ((num2 > num3) && (num1 > num2))\n",
    "        {\n",
    "            return true;\n",
    "        }\n",
    "        return false;\n",
    "    }\n",
    "\n",
    "    public static boolean num2Largest(int num1, int num2, int num3)\n",
    "    {\n",
    "        // num2 is the greatest\n",
    "        if (((num1 > num3) && (num2 > num1)) || ((num3 > num1) && (num3 < num2)))\n",
    "        {\n",
    "            return true;\n",
    "        }\n",
    "        return false;\n",
    "    }\n",
    "\n",
    "    public static boolean num3Largest(int num1, int num2, int num3)\n",
    "    {\n",
    "        // num3 is the greatest\n",
    "        if((num1 < num2) && (num2 < num3))\n",
    "        {\n",
    "            return true;\n",
    "        }\n",
    "        return false;\n",
    "    }\n",
    "\n",
    "    public static void main (String[] Args)\n",
    "    {\n",
    "        int num1 = 10;\n",
    "        int num2 = 15;\n",
    "        int num3 = 5;\n",
    "        boolean num1Largest;\n",
    "        boolean num2Largest;\n",
    "        boolean num3Largest;\n",
    "\n",
    "        num1Largest = num1Largest(num1, num2, num3);\n",
    "        num2Largest = num2Largest(num1, num2, num3);\n",
    "        num3Largest = num3Largest(num1, num2, num3);\n",
    "\n",
    "        System.out.printf(\"%d, %d, %d\\nnum1 is the largest: %b\\nnum2 is the largest: %b\\nnum3 is the largest: %b\\n\",\n",
    "        num1, num2, num3, num1Largest, num2Largest, num3Largest);\n",
    "    }\n",
    "}\n",
    "GreatestNumber.main(null);\n"
   ]
  },
  {
   "cell_type": "markdown",
   "metadata": {},
   "source": [
    "### Truth Tables and De Morgan's Law\n",
    "\n",
    "[LINK](https://natalie-beckwith.github.io/fastpages/tri1/2022/09/07/BooleanExpressionsAndIfStatements.html)"
   ]
  },
  {
   "cell_type": "markdown",
   "metadata": {},
   "source": [
    "### Comparing `Strings` & Comparing Objects\n",
    "\n",
    "* you must use `.equals()` method to compare `Strings`\n",
    "* If you use `==`, you are comparing if two `String` instances/objects are the same"
   ]
  },
  {
   "cell_type": "markdown",
   "metadata": {},
   "source": [
    "### For Loop & Enhanced For Loop\n",
    "\n",
    "* In this code example, the regular for loop iterates through every even element of `nums` and prints it\n",
    "* Int the enhanced for loop, i is iterating through every element in `nums`"
   ]
  },
  {
   "cell_type": "code",
   "execution_count": 9,
   "metadata": {},
   "outputs": [
    {
     "name": "stdout",
     "output_type": "stream",
     "text": [
      "0\n",
      "2\n",
      "4\n",
      "6\n",
      "8\n",
      "\n",
      "0\n",
      "1\n",
      "2\n",
      "3\n",
      "4\n",
      "5\n",
      "6\n",
      "7\n",
      "8\n",
      "9\n"
     ]
    }
   ],
   "source": [
    "int[] nums = {0, 1, 2, 3, 4, 5, 6, 7, 8, 9};\n",
    "\n",
    "// regular\n",
    "for(int i = 0; i < nums.length; i+=2)\n",
    "{\n",
    "    System.out.printf(\"%d\\n\", nums[i]);\n",
    "}\n",
    "\n",
    "System.out.printf(\"\\n\");\n",
    "\n",
    "// enhanced\n",
    "for(int i : nums)\n",
    "{\n",
    "    System.out.printf(\"%d\\n\", i);\n",
    "}"
   ]
  },
  {
   "cell_type": "markdown",
   "metadata": {},
   "source": [
    "### While Loops VS Do-While Loops\n",
    "\n",
    "* Do-While loops executes code at least once\n",
    "* While loops checks condition before code is executed\n",
    "\n",
    "[LINK](https://natalie-beckwith.github.io/fastpages/tri1/2022/09/13/TicTacToe.html)"
   ]
  },
  {
   "cell_type": "markdown",
   "metadata": {},
   "source": [
    "### Nested Loops\n",
    "\n",
    "* In [Tic-Tac-Toe](https://natalie-beckwith.github.io/fastpages/tri1/2022/09/13/TicTacToe.html), the board is a 2D-Array which is initialized by two for loops iterating through each column and each row"
   ]
  },
  {
   "cell_type": "markdown",
   "metadata": {},
   "source": [
    "### Creating Classes\n",
    "\n",
    "* Conventions are rules to help make code readable\n",
    "* Class names are capitalized\n",
    "* if you put a `_` in front of class member variables, they tell us that they are members of the class and not local varibles"
   ]
  },
  {
   "cell_type": "markdown",
   "metadata": {},
   "source": [
    "### Constructors\n",
    "\n",
    "* Constuctors should never fail, the object is not fully created if it fails\n",
    "* No return type means success/failure or returning a restult"
   ]
  },
  {
   "cell_type": "markdown",
   "metadata": {},
   "source": [
    "### Setter/Getter Methods\n",
    "\n",
    "* setter -\n",
    "* getter - "
   ]
  },
  {
   "cell_type": "code",
   "execution_count": 13,
   "metadata": {},
   "outputs": [],
   "source": [
    "// getter\n",
    "public double getGPA(double gpa)\n",
    "{\n",
    "    return gpa;\n",
    "}\n",
    "\n",
    "// setter\n",
    "public String name(String name)\n",
    "{\n",
    "    String student = \"\";\n",
    "\n",
    "    name = student;\n",
    "\n",
    "    return student;\n",
    "}"
   ]
  },
  {
   "cell_type": "markdown",
   "metadata": {},
   "source": [
    "### Static VS Non Static Methods\n",
    "\n",
    "* A static method is a method that does not require an object to be called\n",
    "* A non static method requires an object to be created in order to access the method\n",
    "\n",
    "[LINK](https://natalie-beckwith.github.io/fastpages/cb%20lessions/tri1/2022/10/20/classes.html)"
   ]
  },
  {
   "cell_type": "markdown",
   "metadata": {},
   "source": [
    "### ```.this``` Keyword\n",
    "\n",
    "* In Java, everything is passed my reference\n",
    "* ```.this``` is a reference to the most recent object inside a method/constructor\n",
    "\n",
    "[LINK](https://natalie-beckwith.github.io/fastpages/tri1/2022/09/16/FRQPart1.html)\n",
    "\n",
    "* In the first code segment, ```.this``` is used to initialize ```secret``` inside the ```WordMatch``` constructor"
   ]
  },
  {
   "cell_type": "markdown",
   "metadata": {},
   "source": []
  }
 ],
 "metadata": {
  "kernelspec": {
   "display_name": "Java",
   "language": "java",
   "name": "java"
  },
  "language_info": {
   "codemirror_mode": "java",
   "file_extension": ".jshell",
   "mimetype": "text/x-java-source",
   "name": "java",
   "pygments_lexer": "java",
   "version": "17.0.4+8"
  },
  "orig_nbformat": 4
 },
 "nbformat": 4,
 "nbformat_minor": 2
}
