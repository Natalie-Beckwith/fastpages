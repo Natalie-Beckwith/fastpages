{
 "cells": [
  {
   "cell_type": "markdown",
   "metadata": {},
   "source": [
    "# CB Vocab\n",
    "- toc:true\n",
    "- layout: post\n",
    "- badges: true\n",
    "- comments: true\n",
    "- author: Natalie Beckwith\n",
    "- categories: [CB Practice, TRI2]\n",
    "- image: https://menarosa.org/wp-content/uploads/2018/12/pending-loop.gif"
   ]
  },
  {
   "cell_type": "markdown",
   "metadata": {},
   "source": [
    "* Casting, specifically for Division X\n",
    "* Casting, specifically for Truncating or Rounding X\n",
    "* Wrapper Classes, why wrap int, double. Show examples\n",
    "* Concatenation, explain or illustrate rules on mixed type Concatenation\n",
    "* Math class, specifically Random usage X\n",
    "* Compound Boolean Expression\n",
    "* Truth Tables X\n",
    "* De Morgan’s Law X\n",
    "* Comparing Numbers\n",
    "* Comparing Strings\n",
    "* Comparing Objects\n",
    "* for loop, enhanced for loop\n",
    "* while loop versus do while loop\n",
    "* nested loops\n",
    "* Creating a Class, describe Naming Conventions\n",
    "* Constructor, describe why there is no return\n",
    "* Accessor methods, relationship to getter\n",
    "* Mutator methods, relationship to setter, describe void return type\n",
    "* Static variables, Class variables, show use case in code\n",
    "* Show use case of access modifiers: Public, Private, Protected\n",
    "* Static methods, Class methods\n",
    "* ```.this``` Keyword X\n",
    "* main method, tester methods\n",
    "* Inheritance, extends\n",
    "* Subclass constructor, super Keyword\n",
    "* Overloading a method, same name different parameters\n",
    "* Overriding a method, same signature of a method\n",
    "* Abstract Class, Abstract Method\n",
    "* Standard methods: toString(), equals(), hashCode()\n",
    "* Late binding of object, referencing superclass object, ie Animal a = new Chicken(); Animal b = new Goat();\n",
    "* Polymorphism: any of overloading, overriding, late binding\n",
    "* Big O notation for Hash map, Binary Search, Single loop, Nested Loop"
   ]
  },
  {
   "cell_type": "markdown",
   "metadata": {},
   "source": [
    "### Casting\n",
    "* Casting is when you convert from one data type to another\n",
    "* In this code example, variables ```x``` and ```y``` are changed from type ```int``` to type ```double```"
   ]
  },
  {
   "cell_type": "code",
   "execution_count": 6,
   "metadata": {},
   "outputs": [
    {
     "name": "stdout",
     "output_type": "stream",
     "text": [
      "With casting: 1.50\n",
      "Without casting: 1.00"
     ]
    },
    {
     "data": {
      "text/plain": [
       "java.io.PrintStream@32478ad1"
      ]
     },
     "execution_count": 6,
     "metadata": {},
     "output_type": "execute_result"
    }
   ],
   "source": [
    "int x;\n",
    "int y;\n",
    "double casting1;\n",
    "double casting2;\n",
    "\n",
    "\n",
    "x = 10;\n",
    "y = 15;\n",
    "\n",
    "casting1 = (double) y / x;\n",
    "\n",
    "casting2 = y / x;\n",
    "\n",
    "System.out.printf(\"With casting: %.2f\\nWithout casting: %.2f\", casting1, casting2);"
   ]
  },
  {
   "cell_type": "markdown",
   "metadata": {},
   "source": [
    "### Wrapper classes"
   ]
  },
  {
   "cell_type": "markdown",
   "metadata": {},
   "source": [
    "### Math Class\n",
    "* ```Math.random``` returns a random double between 0 and 1"
   ]
  },
  {
   "cell_type": "code",
   "execution_count": 12,
   "metadata": {},
   "outputs": [
    {
     "name": "stdout",
     "output_type": "stream",
     "text": [
      "1.03\n",
      "10.81"
     ]
    },
    {
     "data": {
      "text/plain": [
       "java.io.PrintStream@32478ad1"
      ]
     },
     "execution_count": 12,
     "metadata": {},
     "output_type": "execute_result"
    }
   ],
   "source": [
    "double x;\n",
    "double y;\n",
    "double randomX;\n",
    "double randomY;\n",
    "\n",
    "x = 5;\n",
    "y = 12;\n",
    "\n",
    "randomX = Math.random() * x;\n",
    "randomY = Math.random() * y;\n",
    "\n",
    "System.out.printf(\"%.2f\\n%.2f\", randomX, randomY);"
   ]
  },
  {
   "cell_type": "markdown",
   "metadata": {},
   "source": [
    "### Truth Tables and De Morgan's Law\n",
    "\n",
    "[LINK](https://natalie-beckwith.github.io/fastpages/tri1/2022/09/07/BooleanExpressionsAndIfStatements.html)"
   ]
  },
  {
   "cell_type": "markdown",
   "metadata": {},
   "source": [
    "### Static VS Non Static Methods\n",
    "\n",
    "* A static method is a method that does not require an object to be called\n",
    "* A non static method requires an object to be created in order to access the method\n",
    "\n",
    "[LINK](https://natalie-beckwith.github.io/fastpages/cb%20lessions/tri1/2022/10/20/classes.html)"
   ]
  },
  {
   "cell_type": "markdown",
   "metadata": {},
   "source": [
    "### ```.this``` Keyword\n",
    "\n",
    "* In Java, everything is passed my reference\n",
    "* ```.this``` is a reference to the most recent object inside a method/constructor\n",
    "\n",
    "[LINK](https://natalie-beckwith.github.io/fastpages/tri1/2022/09/16/FRQPart1.html)\n",
    "\n",
    "* In the first code segment, ```.this``` is used to initialize ```secret``` inside the ```WordMatch``` constructor"
   ]
  },
  {
   "cell_type": "markdown",
   "metadata": {},
   "source": []
  }
 ],
 "metadata": {
  "kernelspec": {
   "display_name": "Java",
   "language": "java",
   "name": "java"
  },
  "language_info": {
   "codemirror_mode": "java",
   "file_extension": ".jshell",
   "mimetype": "text/x-java-source",
   "name": "java",
   "pygments_lexer": "java",
   "version": "17.0.4+8"
  },
  "orig_nbformat": 4
 },
 "nbformat": 4,
 "nbformat_minor": 2
}
