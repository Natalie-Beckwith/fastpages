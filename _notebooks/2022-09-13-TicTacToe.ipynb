{
 "cells": [
  {
   "cell_type": "markdown",
   "metadata": {},
   "source": [
    "# Tic-Tac-Toe\n",
    "- toc:true\n",
    "- badges: true\n",
    "- comments: true\n",
    "- author: Natalie Beckwith\n",
    "- categories:"
   ]
  },
  {
   "cell_type": "markdown",
   "metadata": {},
   "source": [
    "<iframe\n",
    "    frameborder=\"0\"\n",
    "    width=\"100%\"\n",
    "    height=\"500px\"\n",
    "    src=\"https://replit.com/@NatalieBeckwith/Tic-Tac-Toe?embed=true\">\n",
    "</iframe>"
   ]
  },
  {
   "cell_type": "markdown",
   "metadata": {},
   "source": [
    "## Iteration with 2D Arrays\n",
    "\n",
    "### Updates:\n",
    "* Now a Replit embed so people can play on fastpages!\n",
    "* Made the computer opponent have an idea of where to play instead of a random place on the board\n",
    "    * Play towards middle\n",
    "    * Block opponent\n",
    "    * \n",
    "* added ASCII colors :)\n",
    "    * X and O are now colors\n",
    "    * Different moves are also different colors\n",
    "* (Optional) Easy/Hard mode for Human vs Computer\n",
    "    * Sub-menu to select difficulty\n",
    "    * OR: Make the computer smart and take out easy mode all together\n",
    "\n",
    "### Hacks:\n",
    "* This program is more Object-Oriented because each Tic-Tac-Toe board and player is an object. Almost every function is non-static\n",
    "* In each class all variables are declared locally and are initialized inside the constructor\n",
    "* Inside the class ```TicTacToeBoard```, the constructor initializes the double array ```board```.\n",
    "\n",
    "```board = new String [NUM_ROWS][NUM_COLUMNS];```\n",
    "        \n",
    "        for (int row = 0; row < NUM_ROWS; row++)\n",
    "        {\n",
    "            for (int column = 0; column < NUM_COLUMNS; column++)\n",
    "            {\n",
    "                board[row][column] = new String(\" \");\n",
    "            }\n",
    "        }\n"
   ]
  }
 ],
 "metadata": {
  "kernelspec": {
   "display_name": "Python 3.9.9 64-bit",
   "language": "python",
   "name": "python3"
  },
  "language_info": {
   "codemirror_mode": {
    "name": "ipython",
    "version": 3
   },
   "file_extension": ".py",
   "mimetype": "text/x-python",
   "name": "python",
   "nbconvert_exporter": "python",
   "pygments_lexer": "ipython3",
   "version": "3.9.6"
  },
  "orig_nbformat": 4,
  "vscode": {
   "interpreter": {
    "hash": "aee8b7b246df8f9039afb4144a1f6fd8d2ca17a180786b69acc140d282b71a49"
   }
  }
 },
 "nbformat": 4,
 "nbformat_minor": 2
}
