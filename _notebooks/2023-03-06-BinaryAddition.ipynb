{
 "cells": [
  {
   "cell_type": "markdown",
   "metadata": {},
   "source": [
    "# Binary Addition\n",
    "- toc:true\n",
    "- layout: post\n",
    "- badges: true\n",
    "- comments: true\n",
    "- author: Natalie Beckwith\n",
    "- categories: [TRI3]\n",
    "- image: https://github.com/Natalie-Beckwith/fastpages/blob/master/_notebooks/ghtop_images/pending-loop.gif?raw=true"
   ]
  },
  {
   "cell_type": "markdown",
   "metadata": {},
   "source": [
    "## Instructions\n",
    "\n",
    "### Early Seed\n",
    "* Write a sample binary addition 1 + 1 = 10\n",
    "* Have Java Code cell on screen at start of lecture\n",
    "\n",
    "### Small Code Excercises\n",
    "* Write a Jupyter notebook code example on the following primitive types with a code example (4 to 5 lines)\n",
    "  * preference would be using array and methods like substring and random as applicable: `int`, `double`, `boolean`, `char`\n",
    "* Now convert each of the examples to corresponding Wrapper classes, using arrays\n",
    "  * expression of these in Class or PBL forms is an option. But the review must be easy for me to see work\n",
    "\n",
    "### Key Concepts\n",
    "* Make a Jupyter Notebook that goes over key concepts in Teacher code and uses background from ChatGPT and from AP Classroom.\n",
    "  * Answer what are Methods and Control Structures\n",
    "  * Explore AP FRQ that teaches us about Methods and Control Structures FRQ\n",
    "  * Look at Diverse Arrays, Matrix in Teacher code and see if you think this is Methods and Control structures.\n",
    "  * Look at Diverse Arrays,Matrix in Teacher code an see if you thing this fits Data Types.\n",
    "  * `Math.random` is covered in `Number`, this Teacher code associated with random is critical knowledge when taking the AP Exam. Random numbers in range like 7 to 9 is very important.\n",
    "  * Review `DoNothingByValue`, what is key knowledge here?\n",
    "  * Review `IntByReference`, what is key knowledge here?\n",
    "  * Review `Menu` code. Try, Catch, Runnable are used to control program execution. See if there is a way to get this to work in Jupyter Notebooks.\n",
    "  * Define \"Method and Control Structures\"\n",
    "    * To the Teacher, the `Menu` Code has the most work of methodDataTypes files that is related to the \"Methods and Control Structures\" topic. Such exploration would begin by asking \"describe Java Methods and Control structures\". Are instances of MenuRow and Runnable data types, control structures? Does Driver have control structures? Enumerate them.\n",
    "\n",
    "---\n",
    "## Code\n",
    "\n",
    "### Binary Addition"
   ]
  },
  {
   "cell_type": "code",
   "execution_count": 2,
   "metadata": {
    "vscode": {
     "languageId": "java"
    }
   },
   "outputs": [
    {
     "name": "stdout",
     "output_type": "stream",
     "text": [
      "number #1 in binary: 0110\n",
      "number #2 in binary: 1011\n",
      "\n",
      "number #1 in decimal form: 6\n",
      "number #2 in decimal form: 11\n",
      "\n",
      "sum in decimal form: 17\n",
      "sum in binary: 10001"
     ]
    }
   ],
   "source": [
    "/*\n",
    " * adds two binary numbers\n",
    " */\n",
    "public class BinaryAddition\n",
    "{\n",
    "    /*\n",
    "     * tester method\n",
    "     */\n",
    "    public static void main(String[] Args)\n",
    "    {\n",
    "        String sum;\n",
    "        String binary1 = \"0110\";\n",
    "        String binary2 = \"1011\";\n",
    "\n",
    "        // outputs numbers in binary form\n",
    "        System.out.printf(\"number #1 in binary: %s\\n\", binary1);\n",
    "        System.out.printf(\"number #2 in binary: %s\\n\\n\", binary2);\n",
    "\n",
    "        // calls addNums method\n",
    "        sum = addNums(binary1, binary2);\n",
    "\n",
    "        // outputs the sum in binary form\n",
    "        System.out.printf(\"sum in binary: %s\", sum);\n",
    "    }\n",
    "\n",
    "    /*\n",
    "     * takes two binary strings, converts them into ints, and\n",
    "     * adds the two numbers together\n",
    "     */\n",
    "    public static String addNums(String binary1, String binary2)\n",
    "    {\n",
    "        // Integer.parseInt() --> String to int\n",
    "        int num1 = Integer.parseInt(binary1, 2);\n",
    "        int num2 = Integer.parseInt(binary2, 2);\n",
    "        int sum = num1 + num2;\n",
    "\n",
    "        // outputs sum in decimal (number) form\n",
    "        System.out.printf(\"number #1 in decimal form: %d\\n\", num1);\n",
    "        System.out.printf(\"number #2 in decimal form: %d\\n\", num2);\n",
    "        System.out.printf(\"\\nsum in decimal form: %d\\n\", sum);\n",
    "\n",
    "        // Integer.toBinaryString(sum); --> add numbers and converts the result to the binary String\n",
    "        return Integer.toBinaryString(sum);\n",
    "    }\n",
    "}\n",
    "BinaryAddition.main(null);"
   ]
  },
  {
   "cell_type": "markdown",
   "metadata": {},
   "source": [
    "### Primitive Data Types"
   ]
  },
  {
   "cell_type": "code",
   "execution_count": null,
   "metadata": {
    "vscode": {
     "languageId": "java"
    }
   },
   "outputs": [],
   "source": []
  }
 ],
 "metadata": {
  "kernelspec": {
   "display_name": "Java",
   "language": "java",
   "name": "java"
  },
  "language_info": {
   "codemirror_mode": "java",
   "file_extension": ".jshell",
   "mimetype": "text/x-java-source",
   "name": "Java",
   "pygments_lexer": "java",
   "version": "17.0.4+8"
  },
  "orig_nbformat": 4,
  "vscode": {
   "interpreter": {
    "hash": "b781bca096fa5117d83f02e133236c892d11593ec87b181e088a886d6eea6e41"
   }
  }
 },
 "nbformat": 4,
 "nbformat_minor": 2
}
