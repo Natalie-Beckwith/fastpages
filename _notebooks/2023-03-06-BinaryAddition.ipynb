{
 "cells": [
  {
   "cell_type": "markdown",
   "metadata": {},
   "source": [
    "# Binary Addition\n",
    "- toc:true\n",
    "- layout: post\n",
    "- badges: true\n",
    "- comments: true\n",
    "- author: Natalie Beckwith\n",
    "- categories: [TRI3]\n",
    "- image: https://github.com/Natalie-Beckwith/fastpages/blob/master/_notebooks/ghtop_images/pending-loop.gif?raw=true"
   ]
  },
  {
   "cell_type": "markdown",
   "metadata": {},
   "source": [
    "## College Board MC Quiz\n",
    "\n",
    "### Score\n",
    "\n",
    "![img](https://github.com/Natalie-Beckwith/fastpages/blob/master/_notebooks/ghtop_images/Screen%20Shot%202023-03-11%20at%2012.48.14%20PM.png?raw=true)\n",
    "\n",
    "### Corrections\n",
    "\n",
    "#### 13)\n",
    "\n",
    "C is incorrect because `{17, 37, 21, 42, 18, 69, 48, 28, 39}` would be the result if the code segment in the for loop was changed to `numbers[k] = numbers[k] + 3`.\n",
    "\n",
    "<br>\n",
    "\n",
    "A is the correct answer because the values of the loop control variable `k` starts at `1` and is incremented by `3` as long as `k` is less than `numbers.length`. As a result, `k` will have the values `1`, `4`, `7` and then when it becomes `10`, the loop will end. Only the values in `numbers` at indexes `1`, `4`, and `7` will be updated to the value of the sum of the element at the index that is one less than `k` (the element before the one being updated) and `3`. So, `numbers[1]` will be assigned the value of `numbers[0] + 3` or `20`, `numbers[4]` will be assigned the value of `numbers[3] + 3` or `45`, and `numbers[7]` will be assigned the value of `numbers[6] + 3` or `51`. All other values will be unchanged.\n",
    "\n",
    "#### 18)\n",
    "\n",
    "E is incorrect because this would be the result if the division used was floating point division instead of integer division and the result was cast to an int, as in `(int)(404.0 / 10 * 10 + 1)`.\n",
    "\n",
    "<br>\n",
    "\n",
    "D is the correct answer because the first operation that is executed is `404 / 10`. Since both `404` and `10` are integers, integer division is used resulting in `40`. The value `40` is then multiplied by `10`, resulting in `400`, and finally `1` is added, meaning `401` is printed.\n",
    "\n",
    "#### 29)\n",
    "\n",
    "D is incorrect because the value `1` is only returned when `num` is a single digit number.\n",
    "\n",
    "<br>\n",
    "\n",
    "A is the correct answer because each recursive call is made with the value `num  / 10`. The expression `num / 10` uses integer division and evaluates to an integer that is `num` with the right most digit removed. For example, `258 / 10 = 25`. Each time the recursive call is made, what is returned is `1` plus the result of the recursive call. For example, `what(258) = 1 + what(25)` and `what(25) = 1 + what(2)` and `what(2) = 1`. Therefore `what(258) = 1 + 1 + 1` or `3`, which is the number of digits in `258`.\n",
    "\n",
    "-----\n"
   ]
  },
  {
   "cell_type": "markdown",
   "metadata": {},
   "source": [
    "## Instructions\n",
    "\n",
    "### Early Seed\n",
    "* Write a sample binary addition 1 + 1 = 10\n",
    "* Have Java Code cell on screen at start of lecture\n",
    "\n",
    "### Small Code Excercises\n",
    "* Write a Jupyter notebook on the primitive data types\n",
    "Write a Jupyter notebook code example on the following primitive types with a code example (4 to 5 lines)\n",
    "  * preference would be using `array` and methods like `substring` and `random` as applicable: `int`, `double`, `boolean`, `char`\n",
    "* Now convert each of the examples to corresponding Wrapper classes, using arrays\n",
    "  * expression of these in Class or PBL forms is an option. But the review must be easy for me to see work\n",
    "\n",
    "### Key Concepts\n",
    "* Make a Jupyter Notebook that goes over key concepts in Teacher code and uses background from ChatGPT and from AP Classroom.\n",
    "  * What are Methods and Control Structures? (See College Board)\n",
    "  \n",
    "  <br>\n",
    "  \n",
    "  * Look at `Diverse Arrays` and `Matrix` in Teacher's code. Do they have Methods and Control structures?\n",
    "  * Look at `Diverse Arrays` and `Matrix` in Teacher's code. Do they fit the data types?\n",
    "  * `Math.random` is covered in `Number`, this Teacher code associated with random is critical knowledge when taking the AP Exam. Random numbers in range like 7 to 9 is very important.\n",
    "  * What does `DoNothingByValue` do?\n",
    "  * What does `IntByReference` do?\n",
    "\n",
    "<br>\n",
    "\n",
    "  * Review `Menu` code. `Try`, `Catch`, and `Runnable` are used to control program execution. Find a way to make `Menu` work on a Jupyter Notebook.\n",
    "  * Are instances of `MenuRow` and `Runnable` data types, control structures?\n",
    "  * Does Driver have control structures? If so, list all the control Structures.\n",
    "\n",
    "---\n",
    "## Code\n",
    "\n",
    "### Binary Addition"
   ]
  },
  {
   "cell_type": "code",
   "execution_count": 2,
   "metadata": {},
   "outputs": [
    {
     "name": "stdout",
     "output_type": "stream",
     "text": [
      "number #1 in binary: 0110\n",
      "number #2 in binary: 1011\n",
      "\n",
      "number #1 in decimal form: 6\n",
      "number #2 in decimal form: 11\n",
      "\n",
      "sum in decimal form: 17\n",
      "sum in binary: 10001"
     ]
    }
   ],
   "source": [
    "/*\n",
    " * adds two binary numbers\n",
    " */\n",
    "public class BinaryAddition\n",
    "{\n",
    "    /*\n",
    "     * tester method\n",
    "     */\n",
    "    public static void main(String[] Args)\n",
    "    {\n",
    "        String sum;\n",
    "        String binary1 = \"0110\";\n",
    "        String binary2 = \"1011\";\n",
    "\n",
    "        // outputs numbers in binary form\n",
    "        System.out.printf(\"number #1 in binary: %s\\n\", binary1);\n",
    "        System.out.printf(\"number #2 in binary: %s\\n\\n\", binary2);\n",
    "\n",
    "        // calls addNums method\n",
    "        sum = addNums(binary1, binary2);\n",
    "\n",
    "        // outputs the sum in binary form\n",
    "        System.out.printf(\"sum in binary: %s\", sum);\n",
    "    }\n",
    "\n",
    "    /*\n",
    "     * takes two binary strings, converts them into ints, and\n",
    "     * adds the two numbers together\n",
    "     */\n",
    "    public static String addNums(String binary1, String binary2)\n",
    "    {\n",
    "        // Integer.parseInt() --> String to int\n",
    "        int num1 = Integer.parseInt(binary1, 2);\n",
    "        int num2 = Integer.parseInt(binary2, 2);\n",
    "        int sum = num1 + num2;\n",
    "\n",
    "        // outputs sum in decimal (number) form\n",
    "        System.out.printf(\"number #1 in decimal form: %d\\n\", num1);\n",
    "        System.out.printf(\"number #2 in decimal form: %d\\n\", num2);\n",
    "        System.out.printf(\"\\nsum in decimal form: %d\\n\", sum);\n",
    "\n",
    "        // Integer.toBinaryString(sum); --> add numbers and converts the result to the binary String\n",
    "        return Integer.toBinaryString(sum);\n",
    "    }\n",
    "}\n",
    "BinaryAddition.main(null);"
   ]
  },
  {
   "cell_type": "markdown",
   "metadata": {},
   "source": [
    "### Primitive Data Types\n",
    "\n",
    "#### `int` Practice"
   ]
  },
  {
   "cell_type": "code",
   "execution_count": 2,
   "metadata": {},
   "outputs": [
    {
     "name": "stdout",
     "output_type": "stream",
     "text": [
      "0\n",
      "2\n",
      "4\n",
      "6\n",
      "8\n"
     ]
    }
   ],
   "source": [
    "int[] nums = {0, 1, 2, 3, 4, 5, 6, 7, 8, 9};\n",
    "\n",
    "// regular\n",
    "for(int i = 0; i < nums.length; i+=2)\n",
    "{\n",
    "    System.out.printf(\"%d\\n\", nums[i]);\n",
    "}"
   ]
  },
  {
   "cell_type": "markdown",
   "metadata": {},
   "source": [
    "#### `double` Practice"
   ]
  },
  {
   "cell_type": "code",
   "execution_count": 5,
   "metadata": {},
   "outputs": [
    {
     "name": "stdout",
     "output_type": "stream",
     "text": [
      "With casting: 1.50\n",
      "Without casting: 1.00"
     ]
    },
    {
     "data": {
      "text/plain": [
       "java.io.PrintStream@41ba5a40"
      ]
     },
     "execution_count": 5,
     "metadata": {},
     "output_type": "execute_result"
    }
   ],
   "source": [
    "int x;\n",
    "int y;\n",
    "double casting1;\n",
    "double casting2;\n",
    "\n",
    "x = 10;\n",
    "y = 15;\n",
    "\n",
    "casting1 = (double) y / x;\n",
    "casting2 = y / x;\n",
    "\n",
    "System.out.printf(\"With casting: %.2f\\nWithout casting: %.2f\", casting1, casting2);"
   ]
  },
  {
   "cell_type": "markdown",
   "metadata": {},
   "source": [
    "#### `boolean` Practice"
   ]
  },
  {
   "cell_type": "code",
   "execution_count": 15,
   "metadata": {},
   "outputs": [
    {
     "name": "stdout",
     "output_type": "stream",
     "text": [
      "false\n",
      "false"
     ]
    },
    {
     "data": {
      "text/plain": [
       "java.io.PrintStream@41ba5a40"
      ]
     },
     "execution_count": 15,
     "metadata": {},
     "output_type": "execute_result"
    }
   ],
   "source": [
    "boolean a = true;\n",
    "boolean b = false;\n",
    "boolean c = a && b;\n",
    "boolean d = !(a || b);\n",
    "\n",
    "System.out.printf(\"%b\\n\", c);\n",
    "System.out.printf(\"%b\", d);"
   ]
  },
  {
   "cell_type": "markdown",
   "metadata": {},
   "source": [
    "#### `char` Practice"
   ]
  },
  {
   "cell_type": "code",
   "execution_count": 17,
   "metadata": {},
   "outputs": [
    {
     "name": "stdout",
     "output_type": "stream",
     "text": [
      "HELLO WORLD"
     ]
    }
   ],
   "source": [
    "char[] letters = {'H', 'E', 'L', 'L', 'O', ' ', 'W', 'O', 'R', 'L', 'D'};\n",
    "\n",
    "// regular\n",
    "for(int i = 0; i < letters.length; i++)\n",
    "{\n",
    "    System.out.printf(\"%c\", letters[i]);\n",
    "}"
   ]
  }
 ],
 "metadata": {
  "kernelspec": {
   "display_name": "Java",
   "language": "java",
   "name": "java"
  },
  "language_info": {
   "codemirror_mode": "java",
   "file_extension": ".jshell",
   "mimetype": "text/x-java-source",
   "name": "java",
   "pygments_lexer": "java",
   "version": "17.0.4+8"
  },
  "orig_nbformat": 4,
  "vscode": {
   "interpreter": {
    "hash": "b781bca096fa5117d83f02e133236c892d11593ec87b181e088a886d6eea6e41"
   }
  }
 },
 "nbformat": 4,
 "nbformat_minor": 2
}
