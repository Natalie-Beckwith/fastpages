{
 "cells": [
  {
   "cell_type": "markdown",
   "metadata": {},
   "source": [
    "# Data Types\n",
    "- toc:true\n",
    "- layout: post\n",
    "- badges: true\n",
    "- comments: true\n",
    "- author: Natalie Beckwith\n",
    "- categories: [TRI3]\n",
    "- image: https://github.com/Natalie-Beckwith/fastpages/blob/master/_notebooks/ghtop_images/pending-loop.gif?raw=true"
   ]
  },
  {
   "cell_type": "markdown",
   "metadata": {},
   "source": [
    "## College Board MC Quiz\n",
    "\n",
    "### Score\n",
    "\n",
    "![img](https://github.com/Natalie-Beckwith/fastpages/blob/master/_notebooks/ghtop_images/Screen%20Shot%202023-03-11%20at%2012.48.14%20PM.png?raw=true)\n",
    "\n",
    "### Corrections\n",
    "\n",
    "#### 13)\n",
    "\n",
    "C is incorrect because `{17, 37, 21, 42, 18, 69, 48, 28, 39}` would be the result if the code segment in the for loop was changed to `numbers[k] = numbers[k] + 3`.\n",
    "\n",
    "A is the correct answer because the values of the loop control variable `k` starts at `1` and is incremented by `3` as long as `k` is less than `numbers.length`. As a result, `k` will have the values `1`, `4`, `7` and then when it becomes `10`, the loop will end. Only the values in `numbers` at indexes `1`, `4`, and `7` will be updated to the value of the sum of the element at the index that is one less than `k` (the element before the one being updated) and `3`. So, `numbers[1]` will be assigned the value of `numbers[0] + 3` or `20`, `numbers[4]` will be assigned the value of `numbers[3] + 3` or `45`, and `numbers[7]` will be assigned the value of `numbers[6] + 3` or `51`. All other values will be unchanged.\n",
    "\n",
    "#### 18)\n",
    "\n",
    "E is incorrect because this would be the result if the division used was floating point division instead of integer division and the result was cast to an int, as in `(int)(404.0 / 10 * 10 + 1)`.\n",
    "\n",
    "D is the correct answer because the first operation that is executed is `404 / 10`. Since both `404` and `10` are integers, integer division is used resulting in `40`. The value `40` is then multiplied by `10`, resulting in `400`, and finally `1` is added, meaning `401` is printed.\n",
    "\n",
    "#### 29)\n",
    "\n",
    "D is incorrect because the value `1` is only returned when `num` is a single digit number.\n",
    "\n",
    "A is the correct answer because each recursive call is made with the value `num  / 10`. The expression `num / 10` uses integer division and evaluates to an integer that is `num` with the right most digit removed. For example, `258 / 10 = 25`. Each time the recursive call is made, what is returned is `1` plus the result of the recursive call. For example, `what(258) = 1 + what(25)` and `what(25) = 1 + what(2)` and `what(2) = 1`. Therefore `what(258) = 1 + 1 + 1` or `3`, which is the number of digits in `258`.\n",
    "\n",
    "-----\n"
   ]
  },
  {
   "cell_type": "markdown",
   "metadata": {},
   "source": [
    "## Notes\n",
    "\n",
    "See weekly notes [here](https://natalie-beckwith.github.io/fastpages/notes/#Week%2025%20-%203/6%20Notes)\n",
    "\n",
    "---\n",
    "\n",
    "## Hacks\n",
    "\n",
    "### Early Seed\n",
    "* Write a sample binary addition 1 + 1 = 10\n",
    "* Have Java Code cell on screen at start of lecture\n",
    "\n",
    "See code [here](https://natalie-beckwith.github.io/fastpages/tri3/2023/03/06/BinaryAddition.html#Binary-Addition)\n",
    "\n",
    "---\n",
    "\n",
    "### Small Code Excercises\n",
    "* Write a Jupyter notebook on the primitive data types. Use `array` and methods like `substring` and `random` as applicable: `int`, `double`, `boolean`, `char`\n",
    "* Next, convert each of the examples to corresponding Wrapper classes, using arrays\n",
    "\n",
    "See code [here](https://natalie-beckwith.github.io/fastpages/tri3/2023/03/06/BinaryAddition.html#Primitive-Data-Types)\n",
    "\n",
    "---\n",
    "\n",
    "### Key Concepts\n",
    "\n",
    "#### Methods\n",
    "* A **method** is a block of code which only runs when it's called\n",
    "  * **Parameters**, or data can be passed into a method\n",
    "* Methods are used to perform certain actions. Another word for them is a **function**\n",
    "* See more information on methods [here](https://www.w3schools.com/java/java_methods.asp)\n",
    "\n",
    "#### Control Structures\n",
    "* **Control structure** are blocks of code that can change the path of execution. There are 3 kinds of control structures:\n",
    "  1.  **Condiditional Branches** - used for choosing between 2+ paths (`if/else` statements)\n",
    "  2.  **Loops** - used it iterate through multiple values/objects and repeatedly run specific code blocks (`for`, `while`, and `do while` loops)\n",
    "  3.  **Branching Statements** - used to break the flow of control in loops (`break` and `continue`)\n",
    "* See more information on control structures [here](https://www.baeldung.com/java-control-structures)\n",
    "\n",
    "#### Teacher's Code Examples\n",
    "\n",
    "##### `DiverseArray` Example\n",
    "* Methods?\n",
    "  * Yes, `DiverseArray` does contain methods. Examples of methods are: `arraySum()`, `rowSums()`, and `isDiverse()`.\n",
    "* Control Structures?\n",
    "  * Yes, `DiverseArray` does contain control stuctures. There are examples of `for` loops and `if` statements.\n",
    "* Fit data types?\n",
    "  * Yes, `DiverseArray` has data types of `int` and `boolean`. It also has `int[]` and `int[][]`.\n",
    "\n",
    "##### `Matrix` Example\n",
    "* Methods?\n",
    "  * Yes, `Matrix` does contain methods. Examples of methods are: `toString()`, `reverse()`, `keypad()`, and `numbers()`.\n",
    "* Control Structures?\n",
    "  * Yes, `Matrix` does contain control structures. There are examples of `for` loops.\n",
    "* Fit data types?\n",
    "  * Yes, `Matrix` has data types of `int`. There are also `int[][]` and `String`.\n",
    "\n",
    "##### `Number` Example\n",
    "* `Math.random()` is a static method that returns a floating-point that is ≥ 0 and < 1.\n",
    "* See more information on `Math.random()` [here](https://developer.mozilla.org/en-US/docs/Web/JavaScript/Reference/Global_Objects/Math/random)\n",
    "\n",
    "##### `DoNothingByValue` Example\n",
    "* Methods?\n",
    "  * Yes, `DoNothingByValue` does contain methods. Examples of methods are: `changeIt()`, `changeIt2()`, and `changeIt3()`.\n",
    "* Control Structures?\n",
    "  * Yes, `DoNothingByValue` does contain control structures. There are examples of `for` loops.\n",
    "* Fit data types?\n",
    "  * Yes, `DoNothingByValue` has data types of `int`. There are also `String`, `ArrayList`, and `int[]`.\n",
    "\n",
    "##### `IntByReference` Example\n",
    "* Methods?\n",
    "  * Yes, `IntByReference` does contain methods. Examples of methods are: `toString()`, `swapToLowHighOrder()`, and `swapper()`.\n",
    "* Control Structures?\n",
    "  * Yes, `IntByReference` does contain control structures. There are examples of `if` statements.\n",
    "* Fit data types?\n",
    "  * Yes, `IntByReference` has data types of `int`. There are also `String`, `ArrayList`, and `int[]`.\n",
    "\n",
    "##### `Menu` Example\n",
    "* Find a way to make `Menu` work on a Jupyter Notebook.\n",
    "  * View code [here]()\n",
    "* Are instances of `MenuRow` and `Runnable` data types and control structures?\n",
    "  * `MenuRow()` represents the constructor for the class `MenuRow`. In the constructor, all varibles in the class are initalized.\n",
    "  * `Runnable` represents an object. In the method `getAction()`, the return type is `Runnable`.\n",
    "* Does `Driver` have control structures? If so, list all the control Structures.\n",
    "  * Yes, `Driver` has control structures.\n",
    "    * `while` loop\n",
    "    * `try`/`catch` statements\n",
    "    * `if` statements\n",
    "\n",
    "---\n",
    "\n",
    "## College Board FRQ\n",
    "\n",
    "* Look at 1 unique FRQ per pair/treo on AP Classroom that goes over Methods and Control Structures\n",
    "* Provide teacher a Jupyter Notebook, Video, and/or Code that cover key concepts\n",
    "  * Make this better than AP Classroom, specifically trying to get these reviews to cover key parts in under Five minutes\n",
    "  * This option could use your PBL project and concepts if they were tailored to Teaching.\n",
    "* Explore Testing requirements in AP Classroom Video\n",
    "* Explore AP FRQ that teaches us about Methods and Control Structures FRQ, 18:10\n",
    "* Make sure that code runs completely, complete any portion of FRQ that is undone. Complete FRQs in a Jupyter notebook with markdown description and comments is a requirement\n",
    "* Integrate Data Types into the discussion as this is import concept when studying early materials\n",
    "* Integrate Definition of Methods and Control Structures in comments and definitions.\n",
    "\n",
    "See code [here](https://natalie-beckwith.github.io/fastpages/tri3/2023/03/06/BinaryAddition.html#FRQ-2018)\n",
    "\n",
    "---\n",
    "\n",
    "## Code\n",
    "\n",
    "### Binary Addition"
   ]
  },
  {
   "cell_type": "code",
   "execution_count": 18,
   "metadata": {
    "vscode": {
     "languageId": "java"
    }
   },
   "outputs": [
    {
     "name": "stdout",
     "output_type": "stream",
     "text": [
      "number #1 in binary: \t\t0110\n",
      "number #2 in binary: \t\t1011\n",
      "\n",
      "number #1 in decimal form: \t6\n",
      "number #2 in decimal form: \t11\n",
      "\n",
      "sum in decimal form: \t\t17\n",
      "sum in binary: \t\t\t10001"
     ]
    }
   ],
   "source": [
    "/*\n",
    " * adds two binary numbers\n",
    " */\n",
    "public class BinaryAddition\n",
    "{\n",
    "    /*\n",
    "     * tester method\n",
    "     */\n",
    "    public static void main(String[] Args)\n",
    "    {\n",
    "        String sum;\n",
    "        String binary1 = \"0110\";\n",
    "        String binary2 = \"1011\";\n",
    "\n",
    "        // outputs numbers in binary form\n",
    "        System.out.printf(\"number #1 in binary: \\t\\t%s\\n\", binary1);\n",
    "        System.out.printf(\"number #2 in binary: \\t\\t%s\\n\\n\", binary2);\n",
    "\n",
    "        // calls addNums method\n",
    "        sum = addNums(binary1, binary2);\n",
    "\n",
    "        // outputs the sum in binary form\n",
    "        System.out.printf(\"sum in binary: \\t\\t\\t%s\", sum);\n",
    "    }\n",
    "\n",
    "    /*\n",
    "     * takes two binary strings, converts them into ints, and\n",
    "     * adds the two numbers together\n",
    "     */\n",
    "    public static String addNums(String binary1, String binary2)\n",
    "    {\n",
    "        // Integer.parseInt() --> String to int\n",
    "        int num1 = Integer.parseInt(binary1, 2);\n",
    "        int num2 = Integer.parseInt(binary2, 2);\n",
    "        int sum = num1 + num2;\n",
    "\n",
    "        // outputs sum in decimal (number) form\n",
    "        System.out.printf(\"number #1 in decimal form: \\t%d\\n\", num1);\n",
    "        System.out.printf(\"number #2 in decimal form: \\t%d\\n\", num2);\n",
    "        System.out.printf(\"\\nsum in decimal form: \\t\\t%d\\n\", sum);\n",
    "\n",
    "        // Integer.toBinaryString(sum); --> add numbers and converts the result to the binary String\n",
    "        return Integer.toBinaryString(sum);\n",
    "    }\n",
    "}\n",
    "BinaryAddition.main(null);"
   ]
  },
  {
   "cell_type": "markdown",
   "metadata": {},
   "source": [
    "### Primitive Data Types\n",
    "\n",
    "#### `int` Practice"
   ]
  },
  {
   "cell_type": "code",
   "execution_count": 2,
   "metadata": {
    "vscode": {
     "languageId": "java"
    }
   },
   "outputs": [
    {
     "name": "stdout",
     "output_type": "stream",
     "text": [
      "0\n",
      "2\n",
      "4\n",
      "6\n",
      "8\n"
     ]
    }
   ],
   "source": [
    "int[] nums = {0, 1, 2, 3, 4, 5, 6, 7, 8, 9};\n",
    "\n",
    "// regular\n",
    "for(int i = 0; i < nums.length; i+=2)\n",
    "{\n",
    "    System.out.printf(\"%d\\n\", nums[i]);\n",
    "}"
   ]
  },
  {
   "cell_type": "markdown",
   "metadata": {},
   "source": [
    "#### `double` Practice"
   ]
  },
  {
   "cell_type": "code",
   "execution_count": 16,
   "metadata": {
    "vscode": {
     "languageId": "java"
    }
   },
   "outputs": [
    {
     "name": "stdout",
     "output_type": "stream",
     "text": [
      "With casting: \t\t1.50\n",
      "Without casting: \t1.00"
     ]
    },
    {
     "data": {
      "text/plain": [
       "java.io.PrintStream@16982d29"
      ]
     },
     "execution_count": 16,
     "metadata": {},
     "output_type": "execute_result"
    }
   ],
   "source": [
    "int x;\n",
    "int y;\n",
    "double casting1;\n",
    "double casting2;\n",
    "\n",
    "x = 10;\n",
    "y = 15;\n",
    "\n",
    "casting1 = (double) y / x;\n",
    "casting2 = y / x;\n",
    "\n",
    "System.out.printf(\"With casting: \\t\\t%.2f\\nWithout casting: \\t%.2f\", casting1, casting2);"
   ]
  },
  {
   "cell_type": "markdown",
   "metadata": {},
   "source": [
    "#### `boolean` Practice"
   ]
  },
  {
   "cell_type": "code",
   "execution_count": 15,
   "metadata": {
    "vscode": {
     "languageId": "java"
    }
   },
   "outputs": [
    {
     "name": "stdout",
     "output_type": "stream",
     "text": [
      "false\n",
      "false"
     ]
    },
    {
     "data": {
      "text/plain": [
       "java.io.PrintStream@41ba5a40"
      ]
     },
     "execution_count": 15,
     "metadata": {},
     "output_type": "execute_result"
    }
   ],
   "source": [
    "boolean a = true;\n",
    "boolean b = false;\n",
    "boolean c = a && b;\n",
    "boolean d = !(a || b);\n",
    "\n",
    "System.out.printf(\"%b\\n\", c);\n",
    "System.out.printf(\"%b\", d);"
   ]
  },
  {
   "cell_type": "markdown",
   "metadata": {},
   "source": [
    "#### `char` Practice"
   ]
  },
  {
   "cell_type": "code",
   "execution_count": 17,
   "metadata": {
    "vscode": {
     "languageId": "java"
    }
   },
   "outputs": [
    {
     "name": "stdout",
     "output_type": "stream",
     "text": [
      "HELLO WORLD"
     ]
    }
   ],
   "source": [
    "char[] letters = {'H', 'E', 'L', 'L', 'O', ' ', 'W', 'O', 'R', 'L', 'D'};\n",
    "\n",
    "// regular\n",
    "for(int i = 0; i < letters.length; i++)\n",
    "{\n",
    "    System.out.printf(\"%c\", letters[i]);\n",
    "}"
   ]
  },
  {
   "cell_type": "markdown",
   "metadata": {},
   "source": [
    "#### `String` Practice"
   ]
  },
  {
   "cell_type": "code",
   "execution_count": 14,
   "metadata": {
    "vscode": {
     "languageId": "java"
    }
   },
   "outputs": [
    {
     "name": "stdout",
     "output_type": "stream",
     "text": [
      "Before substring: \tHello World\n",
      "After substring: \tWorld"
     ]
    },
    {
     "data": {
      "text/plain": [
       "java.io.PrintStream@16982d29"
      ]
     },
     "execution_count": 14,
     "metadata": {},
     "output_type": "execute_result"
    }
   ],
   "source": [
    "String message = \"Hello World\";\n",
    "String newMessage = message.substring(6);\n",
    "\n",
    "System.out.printf(\"Before substring: \\t%s\\n\", message);\n",
    "System.out.printf(\"After substring: \\t%s\", newMessage);"
   ]
  },
  {
   "cell_type": "markdown",
   "metadata": {},
   "source": [
    "#### `Math.random()` Practice"
   ]
  },
  {
   "cell_type": "code",
   "execution_count": 27,
   "metadata": {
    "vscode": {
     "languageId": "java"
    }
   },
   "outputs": [
    {
     "name": "stdout",
     "output_type": "stream",
     "text": [
      "#0: 2\n",
      "#1: 4\n",
      "#2: 4\n",
      "#3: 3\n",
      "#4: 3\n"
     ]
    }
   ],
   "source": [
    "int max = 5;\n",
    "int min = 0;\n",
    "int range = max - min + 1;\n",
    "\n",
    "for (int i = 0; i < 5; i++) {\n",
    "    int rand = (int)(Math.random() * range) + min;\n",
    "\n",
    "    System.out.printf(\"#%d: %d\\n\", i, rand);\n",
    "}"
   ]
  },
  {
   "cell_type": "markdown",
   "metadata": {},
   "source": [
    "### FRQ 2018\n",
    "\n",
    "#### Question #1"
   ]
  },
  {
   "cell_type": "code",
   "execution_count": 43,
   "metadata": {
    "vscode": {
     "languageId": "java"
    }
   },
   "outputs": [
    {
     "name": "stdout",
     "output_type": "stream",
     "text": [
      "𓆏 reached goal? true.\n"
     ]
    }
   ],
   "source": [
    "import java.util.ArrayList;\n",
    "import java.util.Arrays;\n",
    "\n",
    "public class FrogSimulation\n",
    "{\n",
    "    private int goalDistance; // distance in inches, from the starting position to the goal\n",
    "    private int maxHops; //  max number of hops allowed to reach the goal\n",
    "\n",
    "    private ArrayList <Integer> hopDistances;\n",
    "\n",
    "    public FrogSimulation(int dist, int numHops)\n",
    "    {\n",
    "        goalDistance = dist;\n",
    "        maxHops = numHops;\n",
    "    }\n",
    "\n",
    "    public void loadHopDistance(ArrayList <Integer> hopDistances)\n",
    "    {\n",
    "        this.hopDistances = new ArrayList <Integer> (hopDistances);\n",
    "    }\n",
    "\n",
    "    private int hopDistance()\n",
    "    {\n",
    "        if(!hopDistances.isEmpty())\n",
    "        {\n",
    "            int hopDistance = hopDistances.get(0);\n",
    "            hopDistances.remove(0);\n",
    "            return hopDistance;\n",
    "        }\n",
    "        return 0;\n",
    "    }\n",
    "\n",
    "    public boolean simulate()\n",
    "    {\n",
    "        int hops = 0;\n",
    "        int currentPosition = 0;\n",
    "\n",
    "        while((currentPosition < goalDistance)\n",
    "            && ((hops != maxHops)\n",
    "            && (currentPosition < goalDistance))\n",
    "            && (currentPosition >= 0))\n",
    "        {\n",
    "            hops++;\n",
    "\n",
    "            currentPosition += hopDistance();\n",
    "        }\n",
    "        if((currentPosition >= goalDistance))\n",
    "        {\n",
    "            return true;\n",
    "        }\n",
    "        return false; \n",
    "    }\n",
    "\n",
    "    public double runSimulations (int num)\n",
    "    {\n",
    "        return 0.0;\n",
    "    }\n",
    "\n",
    "    public static void main(String[] Args)\n",
    "    {\n",
    "        FrogSimulation sim = new FrogSimulation(24, 5);\n",
    "\n",
    "        ArrayList <Integer> frogJumps1 = new ArrayList <Integer>(Arrays.asList(5, 7, -2, 8, 6));\n",
    "        ArrayList <Integer> frogJumps2 = new ArrayList <Integer>(Arrays.asList(6, 7, 6, 6));\n",
    "        ArrayList <Integer> frogJumps3 = new ArrayList <Integer>(Arrays.asList(6, -6, 31));\n",
    "        ArrayList <Integer> frogJumps4 = new ArrayList <Integer>(Arrays.asList(4, 2, -8));\n",
    "        ArrayList <Integer> frogJumps5 = new ArrayList <Integer>(Arrays.asList(5, 4, 2, 4, 3));\n",
    "\n",
    "        sim.loadHopDistance(frogJumps1);\n",
    "        boolean goalReached = sim.simulate();\n",
    "        System.out.printf(\"𓆏 reached goal? %b.\\n\", goalReached);\n",
    "    }\n",
    "}\n",
    "FrogSimulation.main(null);"
   ]
  }
 ],
 "metadata": {
  "kernelspec": {
   "display_name": "Java",
   "language": "java",
   "name": "java"
  },
  "language_info": {
   "codemirror_mode": "java",
   "file_extension": ".jshell",
   "mimetype": "text/x-java-source",
   "name": "Java",
   "pygments_lexer": "java",
   "version": "17.0.4+8"
  },
  "orig_nbformat": 4,
  "vscode": {
   "interpreter": {
    "hash": "b781bca096fa5117d83f02e133236c892d11593ec87b181e088a886d6eea6e41"
   }
  }
 },
 "nbformat": 4,
 "nbformat_minor": 2
}
