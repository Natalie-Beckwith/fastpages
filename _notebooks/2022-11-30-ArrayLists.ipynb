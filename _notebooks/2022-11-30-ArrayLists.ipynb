{
 "cells": [
  {
   "cell_type": "markdown",
   "metadata": {},
   "source": [
    "# Unit 7 - ArrayLists\n",
    "- toc:true\n",
    "- badges: true\n",
    "- comments: true\n",
    "- author: Natalie Beckwith\n",
    "- categories: [CB Lessions, TRI2]"
   ]
  },
  {
   "cell_type": "markdown",
   "metadata": {},
   "source": [
    "### Homework\n",
    "\n",
    "* Create an ArrayList that includes 2 of the 4 factors listed below.\n",
    "    * Sort an ArrayList in descending order and swap the first and last elements\n",
    "    * Find and display the hashCode of an Arraylist before and after being sorted\n",
    "    * Return \"ascending\" if the list is sorted in ascending order, return \"descending\" if it is descending, and return \"neither\" if neither\n",
    "    * Replace 3 elements in an ArrayList with another ArrayList and reverse the order of the new list"
   ]
  },
  {
   "cell_type": "code",
   "execution_count": null,
   "metadata": {},
   "outputs": [],
   "source": []
  }
 ],
 "metadata": {
  "kernelspec": {
   "display_name": "Java",
   "language": "java",
   "name": "java"
  },
  "language_info": {
   "name": "java",
   "version": "3.10.6"
  },
  "orig_nbformat": 4,
  "vscode": {
   "interpreter": {
    "hash": "b0fa6594d8f4cbf19f97940f81e996739fb7646882a419484c72d19e05852a7e"
   }
  }
 },
 "nbformat": 4,
 "nbformat_minor": 2
}
