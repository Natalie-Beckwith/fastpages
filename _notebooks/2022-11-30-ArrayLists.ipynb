{
 "cells": [
  {
   "cell_type": "markdown",
   "metadata": {},
   "source": [
    "# Unit 7 - ArrayLists\n",
    "- toc:true\n",
    "- badges: true\n",
    "- comments: true\n",
    "- author: Natalie Beckwith\n",
    "- categories: [CB Lessions, TRI2]"
   ]
  },
  {
   "cell_type": "markdown",
   "metadata": {},
   "source": [
    "### Homework\n",
    "\n",
    "* Sophie and I pair-coded this homework\n",
    "<br>\n",
    "\n",
    "* Create an ArrayList that includes 2 of the 4 factors listed below.\n",
    "    * Sort an ArrayList in descending order and swap the first and last elements\n",
    "    * Find and display the hashCode of an Arraylist before and after being sorted"
   ]
  },
  {
   "cell_type": "code",
   "execution_count": 44,
   "metadata": {},
   "outputs": [
    {
     "name": "stdout",
     "output_type": "stream",
     "text": [
      "Before sort:[4, 37, 2, -5]\n",
      "After sort:[-5, 2, 4, 37]\n",
      "\n",
      "Before sort:[X, A, F, O]\n",
      "Descending order sort:[X, O, F, A]\n",
      "First and last elements swapped:[A, O, F, X]\n"
     ]
    }
   ],
   "source": [
    "public class ArrayListHomework\n",
    "{\n",
    "    private static ArrayList <Integer> list = new ArrayList <Integer>();\n",
    "    private static ArrayList <Character> letters = new ArrayList <Character>();\n",
    "\n",
    "    // prints letters before the swap and sort\n",
    "    public void getLetters()\n",
    "    {\n",
    "        letters.add(0,'X');\n",
    "        letters.add(1,'A');\n",
    "        letters.add(2,'F');\n",
    "        letters.add(3,'O');\n",
    "\n",
    "        System.out.println(letters);\n",
    "    }\n",
    "\n",
    "    // sorts letters in descending order and prints them\n",
    "    public void sortDescending ()\n",
    "    {\n",
    "\n",
    "        Collections.sort(letters, Collections.reverseOrder());\n",
    "        System.out.println(letters);\n",
    "\n",
    "    }\n",
    "\n",
    "    // swaps first and last elements of letters\n",
    "    public void swap()\n",
    "    {\n",
    "        char temp = letters.get(0);\n",
    "        letters.set(0, letters.get(letters.size()-1));\n",
    "\n",
    "        letters.set(letters.size()-1, temp);\n",
    "        System.out.println(letters);\n",
    "    }\n",
    "\n",
    "    // prints before the numbers list is sorted into ascendign order and after\n",
    "    public void beforeAndAfterSort()\n",
    "    {\n",
    "        list.add(0,4);\n",
    "        list.add(1,37);\n",
    "        list.add(2,2);\n",
    "        list.add(3,-5);\n",
    "\n",
    "        System.out.printf(\"Before sort:\");\n",
    "        System.out.println(list);\n",
    "\n",
    "        Collections.sort(list);\n",
    "        \n",
    "        System.out.printf(\"After sort:\");\n",
    "        System.out.println(list);\n",
    "    }\n",
    "\n",
    "    // main/tester method\n",
    "    public static void main (String[] Args)\n",
    "    {\n",
    "        ArrayListHomework arrayListHomework = new ArrayListHomework();\n",
    "\n",
    "        arrayListHomework.beforeAndAfterSort();\n",
    "        System.out.printf(\"\\n\");\n",
    "\n",
    "        System.out.printf(\"Before sort:\");\n",
    "        arrayListHomework.getLetters();\n",
    "        System.out.printf(\"Descending order sort:\");\n",
    "        arrayListHomework.sortDescending();\n",
    "        System.out.printf(\"First and last elements swapped:\");\n",
    "        arrayListHomework.swap();\n",
    "    }\n",
    "}\n",
    "ArrayListHomework.main(null);"
   ]
  }
 ],
 "metadata": {
  "kernelspec": {
   "display_name": "Java",
   "language": "java",
   "name": "java"
  },
  "language_info": {
   "codemirror_mode": "java",
   "file_extension": ".jshell",
   "mimetype": "text/x-java-source",
   "name": "java",
   "pygments_lexer": "java",
   "version": "17.0.4+8"
  },
  "orig_nbformat": 4,
  "vscode": {
   "interpreter": {
    "hash": "b0fa6594d8f4cbf19f97940f81e996739fb7646882a419484c72d19e05852a7e"
   }
  }
 },
 "nbformat": 4,
 "nbformat_minor": 2
}
