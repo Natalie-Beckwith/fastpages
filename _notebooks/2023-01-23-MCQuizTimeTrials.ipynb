{
 "cells": [
  {
   "cell_type": "markdown",
   "metadata": {},
   "source": [
    "# CB Quiz Time Trials\n",
    "- toc:true\n",
    "- layout: post\n",
    "- badges: true\n",
    "- comments: true\n",
    "- author: Natalie Beckwith\n",
    "- categories: [CB Practice, TRI2]\n",
    "- image: https://github.com/Natalie-Beckwith/fastpages/blob/master/_notebooks/ghtop_images/pending-loop.gif?raw=true"
   ]
  },
  {
   "cell_type": "markdown",
   "metadata": {},
   "source": [
    "## Quiz #1\n",
    "* Score: 50/66\n",
    "\n",
    "![image](https://github.com/Natalie-Beckwith/fastpages/blob/master/_notebooks/ghtop_images/mcq66questions.png?raw=true)\n",
    "\n",
    "### Corrections\n",
    "1)<br>\n",
    "The given method increases each element of the array numbers by 1. Code segment I does not work as intended. It assigns num a copy of each element of numbers. When num is incremented, it does not change the corresponding value stored in numbers.\n",
    "\n",
    "2)<br>\n",
    "The Boolean expression in the for loop header should be changed to `i < animals.length`.\n",
    "\n",
    "7)<br>\n",
    "`MethodA()` and `al = 0` will cause a compile-time error\n",
    "\n",
    "18)<br>\n",
    "In order to apply De Morgan’s laws and negate the condition in the if statement in the given code segment, the logical operator should be changed from || to &&. As an example, if a, b, c, and d have the values 1, 2, 2, and 2, respectively, then the given code segment would print \"dog\" and this code segment would print \"cat\".\n",
    "\n",
    "27)<br>\n",
    "For this list, the method correctly removes the elements that were originally at index 1 and at index 5.\n",
    "\n",
    "29)<br>\n",
    "When the value of num is 5, the code segment will print 5, as intended. This occurs when j is 1 and k is 3.\n",
    "\n",
    "32)<br>\n",
    "The program works when you insert the statement `lenCount = 0` between lines 12 and 13\n",
    "\n",
    "34)<br>\n",
    "The original code segment prints the sum of twice the value of the elements in the array. This code segment prints a value that is twice the sum of the integers from 0 to arr.length - 1.\n",
    "\n",
    "37)<br>\n",
    "The statement assigns a different value to b2 than the code segment assigns to b1 when num is between 0 and 100, exclusive.\n",
    "\n",
    "38)<br>\n",
    "Statement 2 only works the same as the example\n",
    "\n",
    "39)<br>\n",
    "The value 2000 is a multiple of 4, so the expression (val % 4) == 0 evaluates to true and the method returns true, as intended. The value 2000 is also a multiple of 100 and 400, so the return value is as intended even though the test for being a multiple of 400 is never made.\n",
    "\n",
    "55)<br>\n",
    "`!(a < b) && !(a > b)` is equal to `a == b`\n",
    "\n",
    "56)<br>\n",
    "The best way to fix the error is changing the while condition to be `(k < myData.size() - 1)`\n",
    "\n",
    "62)<br>\n",
    "When x is 8, y will be assigned the value 3, since 8 is even. When x is 9, y will be assigned the value 1, since 9 is odd and not greater than 9. When x is 12, y will be assigned the value 3, since 12 is even. This set of values does not test the conditions when x is odd and greater than 9 and y is assigned the value 5.\n",
    "\n",
    "63)<br>\n",
    "The code segment is intended to leave arr1 unchanged. Elements of arr1 will be modified by line 5 regardless of what relational operator is used."
   ]
  },
  {
   "cell_type": "markdown",
   "metadata": {},
   "source": [
    "## Quiz #2\n",
    "* Score: -/52\n",
    "\n",
    "### Corrections\n",
    "#)<br>\n",
    "...\n",
    "\n",
    "#)<br>\n",
    "..."
   ]
  }
 ],
 "metadata": {
  "kernelspec": {
   "display_name": "Java",
   "language": "java",
   "name": "java"
  },
  "language_info": {
   "name": "java"
  },
  "orig_nbformat": 4
 },
 "nbformat": 4,
 "nbformat_minor": 2
}
