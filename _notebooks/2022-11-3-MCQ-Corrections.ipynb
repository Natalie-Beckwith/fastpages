{
 "cells": [
  {
   "cell_type": "markdown",
   "metadata": {},
   "source": [
    "# CB MCQ Corrections & Reflection\n",
    "- toc:true\n",
    "- badges: true\n",
    "- comments: true\n",
    "- author: Natalie Beckwith\n",
    "- categories:"
   ]
  },
  {
   "cell_type": "markdown",
   "metadata": {},
   "source": [
    "## Overall Reflection\n",
    "* Score: 32/40\n",
    "* I think I could have done better. Some of the problems I got wrong were simple mistakes that could have been avoided if I wrote down each problem on paper to organize my thoughts. In the future I will make sure to write down each step so I can visualize what the code is actually doing rather than keeping each step in my head."
   ]
  },
  {
   "cell_type": "markdown",
   "metadata": {},
   "source": [
    "## Questions\n",
    "### Question 20\n",
    "![image](https://github.com/Natalie-Beckwith/fastpages/blob/master/_notebooks/ghtop_images/question20.png?raw=true)\n",
    "* **Corrections:** Since k is decremented, the last element is only used in the first iteration of the while loop. This method uses a swapping algorithm to swap elements in nums.\n",
    "\n",
    "### Question 23\n",
    "![image]()\n",
    "* **Corrections:** List is an interface, which an ArrayList implements. Please note that List is no longer tested as part of the AP CSA exam and ArrayList will be used instead. This would be the result if when words that started with “b” were found, they were added to the end instead of inserted at index animals.size() – k such as if the statement in the for loop was animals.add(animals.remove(k));.\n",
    "\n",
    "### Question 30\n",
    "![image]()\n",
    "* **Corrections:** Since the two parameter substring method returns the substring beginning at the first parameter and ending at the second parameter – 1, no IndexOutOfBoundsException will be thrown. The indices 4, 7 (in the first call to substring), 0 and 2 (in the second call to substring) are all valid indices in \"compiler\".\n",
    "\n",
    "### Question 34\n",
    "![image]()\n",
    "* **Corrections:** Choice III uses the default Point constructor to assign center a new Point with x and y both equal to 0. It attempts to update x and y, however since they are private instance variables in Point, they are not able to be accessed directly in Circle. This code will cause a compile time error.\n",
    "\n",
    "### Question 37\n",
    "![image]()\n",
    "* **Corrections:** Choice I works. Choice III works also, as it will cause the while loop to iterate while x is less than 7. The variable x is assigned 1 to start and then incremented by 2. It will be assigned the values 1, 3, 5 and then 7. When x has the value 7, the loop will terminate. The output will be 1, 3, 5.\n",
    "\n",
    "### Question 38\n",
    "![image]()\n",
    "* **Corrections:** This expression will evaluate to false whenever y is less than 10000 regardless of whether x is in the correct range between 1000 and 1500.\n",
    "\n",
    "### Question 39\n",
    "![image]()\n",
    "* **Corrections:** The value of recur(6) is 12. However, this call was made within another recursive call and is not the final return value.\n",
    "\n",
    "### Question 40\n",
    "![image]()\n",
    "* **Corrections:** When whatsItDo(“W”) is called, nothing is printed since the print occurs in the if statement which does not execute. All previous recursive method calls print a substring of str and not str."
   ]
  }
 ],
 "metadata": {
  "kernelspec": {
   "display_name": "Python 3.10.6 64-bit",
   "language": "python",
   "name": "python3"
  },
  "language_info": {
   "name": "python",
   "version": "3.10.6"
  },
  "orig_nbformat": 4,
  "vscode": {
   "interpreter": {
    "hash": "b0fa6594d8f4cbf19f97940f81e996739fb7646882a419484c72d19e05852a7e"
   }
  }
 },
 "nbformat": 4,
 "nbformat_minor": 2
}
