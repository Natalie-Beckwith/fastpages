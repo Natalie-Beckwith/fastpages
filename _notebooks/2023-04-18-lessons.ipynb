{
 "cells": [
  {
   "cell_type": "markdown",
   "metadata": {},
   "source": [
    "# Teaching Lessons\n",
    "- toc:true\n",
    "- layout: post\n",
    "- badges: true\n",
    "- comments: true\n",
    "- author: Natalie Beckwith\n",
    "- categories: [TRI3]\n",
    "- image: https://github.com/Natalie-Beckwith/fastpages/blob/master/_notebooks/ghtop_images/pending-loop.gif?raw=true"
   ]
  },
  {
   "cell_type": "markdown",
   "metadata": {},
   "source": [
    "## Merge Sort - 4/18\n",
    "\n",
    "### Notes\n",
    "* splits array into 2 parts, sorts each half individually\n",
    "* most effective way to implement is to use a recursive function\n",
    "\n",
    "### Hacks\n",
    "\n",
    "#### #1\n",
    "Use the integer mergesort that we created and adapt it to sort an array of Java String objects. We recommend using the compareTo() method of the String class for this.\n",
    "\n",
    "#### #2\n",
    "Use the integer mergesort that we created and adapt it to use any other (non-primitive) object type. It should be clear how these objects are being sorted by the merge sort."
   ]
  },
  {
   "cell_type": "code",
   "execution_count": null,
   "metadata": {},
   "outputs": [],
   "source": [
    "public class MergeSortPractice\n",
    "{\n",
    "    private static String[] names = {\"\"};\n",
    "    public static void main(String[] args)\n",
    "    {\n",
    "        \n",
    "    }\n",
    "}\n",
    "MergeSortPractice.main(null);"
   ]
  },
  {
   "cell_type": "markdown",
   "metadata": {},
   "source": [
    "## Binary Sort - 4/18\n",
    "\n",
    "### Notes\n",
    "* data must be sorted beforehand\n",
    "* one of the fastest searching algorithms\n",
    "\n",
    "### Hacks\n",
    "\n",
    "#### #1\n",
    "Given an `int array[] = {1, 3, 5, 7, 9, 23, 45, 67}`, search the number 45 and give it's index with Binary search, BUT do this using recursion. Make sure to include informative comments to explain the code as you write the algorithm.\n",
    "\n",
    "#### #2\n",
    "Given an unsorted array of `int[] array = {5, 6, 3, 1, 8, 9, 4, 7, 2}`, use merge sort as taught previously and combine learning with this lesson to implement a binary search to find index of the number 7. (0.15 points)"
   ]
  }
 ],
 "metadata": {
  "kernelspec": {
   "display_name": "Java",
   "language": "java",
   "name": "java"
  },
  "language_info": {
   "name": "java",
   "version": "3.10.9"
  },
  "orig_nbformat": 4,
  "vscode": {
   "interpreter": {
    "hash": "b0fa6594d8f4cbf19f97940f81e996739fb7646882a419484c72d19e05852a7e"
   }
  }
 },
 "nbformat": 4,
 "nbformat_minor": 2
}
