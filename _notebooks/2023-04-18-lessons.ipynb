{
 "cells": [
  {
   "cell_type": "markdown",
   "metadata": {},
   "source": [
    "# Teaching Lessons\n",
    "- toc:true\n",
    "- layout: post\n",
    "- badges: true\n",
    "- comments: true\n",
    "- author: Natalie Beckwith\n",
    "- categories: [TRI3]\n",
    "- image: https://github.com/Natalie-Beckwith/fastpages/blob/master/_notebooks/ghtop_images/pending-loop.gif?raw=true"
   ]
  },
  {
   "cell_type": "markdown",
   "metadata": {},
   "source": [
    "## Merge Sort - 4/18\n",
    "\n",
    "### Notes\n",
    "* splits array into 2 parts, sorts each half individually\n",
    "* most effective way to implement is to use a recursive function\n",
    "\n",
    "### Hacks\n",
    "\n",
    "#### #1\n",
    "Use the integer mergesort that we created and adapt it to sort an array of Java String objects. We recommend using the compareTo() method of the String class for this.\n",
    "\n",
    "#### #2\n",
    "Use the integer mergesort that we created and adapt it to use any other (non-primitive) object type. It should be clear how these objects are being sorted by the merge sort."
   ]
  },
  {
   "cell_type": "code",
   "execution_count": 8,
   "metadata": {
    "vscode": {
     "languageId": "java"
    }
   },
   "outputs": [
    {
     "name": "stdout",
     "output_type": "stream",
     "text": [
      "Volvo\n",
      "BMW\n",
      "Ford\n",
      "Mazda\n",
      "\n",
      "BMW\n",
      "Ford\n",
      "Mazda\n",
      "Volvo\n"
     ]
    }
   ],
   "source": [
    "public class MergeSortPractice\n",
    "{\n",
    "    private static String[] cars =\n",
    "    { \"Volvo\", \"BMW\", \"Ford\", \"Mazda\" };\n",
    "\n",
    "    public static void merge(String[] cars, int left, int middle, int right)\n",
    "    {\n",
    "        // finds sizes of 2 subarrays\n",
    "        int n1 = middle - left + 1; // lower\n",
    "        int n2 = right - middle; // upper\n",
    "\n",
    "        String[] lower = new String[n1];\n",
    "        String[] upper = new String[n2];\n",
    "\n",
    "        // copies data from first array to lower array\n",
    "        for (int Lloop = 0; Lloop < n1; Lloop++)\n",
    "        {\n",
    "            lower[Lloop] = cars[left + Lloop];\n",
    "        }\n",
    "\n",
    "        // copies data from first array to upper array\n",
    "        for (int Rloop = 0; Rloop < n2; Rloop++)\n",
    "        {\n",
    "            upper[Rloop] = cars[middle + 1 + Rloop];\n",
    "        }\n",
    "\n",
    "        int i = 0;\n",
    "        int j = 0;\n",
    "\n",
    "        int k = left;\n",
    "\n",
    "        while ((i < n1) && (j < n2))\n",
    "        {\n",
    "            if ((lower[i].compareTo(upper[j])) >= 0)\n",
    "            {\n",
    "                cars[k] = upper[j];\n",
    "                j++;\n",
    "            }\n",
    "            else\n",
    "            {\n",
    "                cars[k] = lower[i];\n",
    "                i++;\n",
    "            }\n",
    "            k++;\n",
    "        }\n",
    "\n",
    "        /* Copy remaining elements of L[] if any */\n",
    "        while (i < n1)\n",
    "        {\n",
    "            cars[k] = lower[i];\n",
    "            i++;\n",
    "            k++;\n",
    "        }\n",
    "\n",
    "        /* Copy remaining elements of R[] if any */\n",
    "        while (j < n2)\n",
    "        {\n",
    "            cars[k] = upper[j];\n",
    "            j++;\n",
    "            k++;\n",
    "        }\n",
    "\n",
    "    }\n",
    "\n",
    "    static void sort(String arr[], int left, int right)\n",
    "    {\n",
    "        if (left < right)\n",
    "        {\n",
    "            // COMMENT A\n",
    "            int m = left + (right - left) / 2;\n",
    "\n",
    "            // COMMENT B\n",
    "            sort(arr, left, m);\n",
    "            sort(arr, m + 1, right);\n",
    "\n",
    "            // COMMENT C\n",
    "            merge(arr, left, m, right);\n",
    "        }\n",
    "    }\n",
    "\n",
    "    public static void main(String[] args)\n",
    "    {\n",
    "        for (int i = 0; i < cars.length; i++)\n",
    "        {\n",
    "            System.out.println(cars[i]);\n",
    "        }\n",
    "        System.out.println();\n",
    "\n",
    "        sort(cars, 0, cars.length - 1);\n",
    "\n",
    "        for (int i = 0; i < cars.length; i++)\n",
    "        {\n",
    "            System.out.println(cars[i]);\n",
    "        }\n",
    "\n",
    "    }\n",
    "}\n",
    "\n",
    "MergeSortPractice.main(null);"
   ]
  },
  {
   "cell_type": "markdown",
   "metadata": {},
   "source": [
    "## Binary Sort - 4/18\n",
    "\n",
    "### Notes\n",
    "* data must be sorted beforehand\n",
    "* one of the fastest searching algorithms\n",
    "\n",
    "### Hacks\n",
    "\n",
    "#### #1\n",
    "Given an `int array[] = {1, 3, 5, 7, 9, 23, 45, 67}`, search the number 45 and give it's index with Binary search, BUT do this using recursion. Make sure to include informative comments to explain the code as you write the algorithm."
   ]
  },
  {
   "cell_type": "code",
   "execution_count": 13,
   "metadata": {
    "vscode": {
     "languageId": "java"
    }
   },
   "outputs": [
    {
     "name": "stdout",
     "output_type": "stream",
     "text": [
      "1\n",
      "3\n",
      "5\n",
      "7\n",
      "9\n",
      "23\n",
      "45\n",
      "num has been found.\n",
      "67\n"
     ]
    }
   ],
   "source": [
    "public class BinarySearchPractice\n",
    "{\n",
    "    public int sort(int arr[], int left, int right, int num)\n",
    "    {\n",
    "        if(right >= left)\n",
    "        {\n",
    "            int middle = left + (right - 1) / 2;\n",
    "\n",
    "            if (arr[middle] == num)\n",
    "            {\n",
    "                return middle;\n",
    "            }\n",
    "\n",
    "            if (arr[middle] > num)\n",
    "            {\n",
    "                return sort(arr, left, middle-1, num);\n",
    "            }\n",
    "\n",
    "            return sort(arr, left, middle + 1, num);\n",
    "        }\n",
    "        return -1;\n",
    "    }\n",
    "\n",
    "    public static void main (String[] args)\n",
    "    {\n",
    "        BinarySearchPractice test = new BinarySearchPractice();\n",
    "        int arr[] = {1, 3, 5, 7, 9, 23, 45, 67};\n",
    "        int num = 45;\n",
    "        \n",
    "        for(int i = 0; i < arr.length; i++)\n",
    "        {\n",
    "            System.out.printf(\"%d\\n\", arr[i]);\n",
    "            if(arr[i] == num)\n",
    "            {\n",
    "                System.out.printf(\"num has been found.\\n\");\n",
    "            }\n",
    "        }\n",
    "        \n",
    "    }\n",
    "}\n",
    "BinarySearchPractice.main(null);"
   ]
  },
  {
   "cell_type": "markdown",
   "metadata": {},
   "source": [
    "#### #2\n",
    "Given an unsorted array of `int[] array = {5, 6, 3, 1, 8, 9, 4, 7, 2}`, use merge sort as taught previously and combine learning with this lesson to implement a binary search to find index of the number 7. (0.15 points)"
   ]
  },
  {
   "cell_type": "code",
   "execution_count": null,
   "metadata": {
    "vscode": {
     "languageId": "java"
    }
   },
   "outputs": [],
   "source": []
  },
  {
   "cell_type": "markdown",
   "metadata": {},
   "source": [
    "---\n",
    "\n",
    "## Arrays and 2D Arrays - 4/19\n",
    "\n",
    "### Notes\n",
    "* A collection of primitive data types\n",
    "* Array index starts at 0\n",
    "\n",
    "### Hacks\n",
    "\n",
    "#### #1\n",
    "* Create method that sets all elements in array to n"
   ]
  },
  {
   "cell_type": "code",
   "execution_count": 2,
   "metadata": {
    "vscode": {
     "languageId": "java"
    }
   },
   "outputs": [
    {
     "name": "stdout",
     "output_type": "stream",
     "text": [
      "10\n",
      "10\n",
      "10\n",
      "10\n",
      "10\n",
      "10\n",
      "10\n",
      "10\n",
      "10\n",
      "10\n"
     ]
    }
   ],
   "source": [
    "public static void setArray(int[] arr, int n)\n",
    "{\n",
    "    // your code here\n",
    "    for (int i = 0; i < arr.length; i++)\n",
    "    {\n",
    "        arr[i] = n;\n",
    "    }\n",
    "}\n",
    "\n",
    "int[] array = new int[10];\n",
    "setArray(array, 10);\n",
    "\n",
    "for (int i = 0; i<array.length; i++)\n",
    "{\n",
    "    System.out.println(array[i]);\n",
    "}"
   ]
  },
  {
   "cell_type": "markdown",
   "metadata": {},
   "source": [
    "#### #2\n",
    "* Write an array to find the average of an array"
   ]
  },
  {
   "cell_type": "code",
   "execution_count": 5,
   "metadata": {
    "vscode": {
     "languageId": "java"
    }
   },
   "outputs": [
    {
     "name": "stdout",
     "output_type": "stream",
     "text": [
      "Average: 5\n"
     ]
    }
   ],
   "source": [
    "//Example finding the max in an array. \n",
    "\n",
    "//Finds the maximum in an array\n",
    "public static int average(int[] array)\n",
    "{\n",
    "    int avg = 0;\n",
    "\n",
    "    for(int i = 0; i < array.length; i++)\n",
    "    {\n",
    "       avg += array[i];\n",
    "    }\n",
    "    avg /= array.length;\n",
    "    return avg;\n",
    "}\n",
    "\n",
    "//tester array\n",
    "int[] test = {3, 5, 7, 2, 10};\n",
    "\n",
    "//returns 10\n",
    "System.out.println(\"Average: \" + average(test));"
   ]
  },
  {
   "cell_type": "markdown",
   "metadata": {},
   "source": [
    "#### #3\n",
    "* Find the average number of a diagonal in a 2d array"
   ]
  },
  {
   "cell_type": "code",
   "execution_count": 13,
   "metadata": {
    "vscode": {
     "languageId": "java"
    }
   },
   "outputs": [
    {
     "name": "stdout",
     "output_type": "stream",
     "text": [
      "Average: 9\n"
     ]
    }
   ],
   "source": [
    "public static int averageDiagonal (int[][] array2D)\n",
    "{\n",
    "    int avg = 0;\n",
    "\n",
    "    for(int row = 0; row < numRows; row++)\n",
    "    {\n",
    "        for (int col = 0; col < numCols; col++)\n",
    "        {\n",
    "            avg += array2D[row][col];\n",
    "        }\n",
    "    }\n",
    "    avg /= (numRows * numCols);\n",
    "\n",
    "    return avg;\n",
    "}\n",
    "\n",
    "int[][] arr =\n",
    "{\n",
    "    {1,2,3,4,5,6},\n",
    "    {7,8,9,10,11,12},\n",
    "    {0,1,2,3,4,5},\n",
    "    {10,11,12,13,14,15},\n",
    "    {15,16,17,18,19,20}\n",
    "};\n",
    "\n",
    "int numRows = 5;\n",
    "int numCols = 6;\n",
    "\n",
    "System.out.println(\"Average: \" + averageDiagonal(arr));"
   ]
  },
  {
   "cell_type": "markdown",
   "metadata": {},
   "source": []
  }
 ],
 "metadata": {
  "kernelspec": {
   "display_name": "Java",
   "language": "java",
   "name": "java"
  },
  "language_info": {
   "codemirror_mode": "java",
   "file_extension": ".jshell",
   "mimetype": "text/x-java-source",
   "name": "Java",
   "pygments_lexer": "java",
   "version": "17.0.4+8"
  },
  "orig_nbformat": 4,
  "vscode": {
   "interpreter": {
    "hash": "b0fa6594d8f4cbf19f97940f81e996739fb7646882a419484c72d19e05852a7e"
   }
  }
 },
 "nbformat": 4,
 "nbformat_minor": 2
}
