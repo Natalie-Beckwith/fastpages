{
 "cells": [
  {
   "cell_type": "markdown",
   "metadata": {},
   "source": [
    "# GitHub and Git Sociology\n",
    "- toc:true\n",
    "- badges: true\n",
    "- comments: true\n",
    "- author: Natalie Beckwith\n",
    "- categories: TRI1"
   ]
  },
  {
   "cell_type": "markdown",
   "metadata": {},
   "source": [
    "### Hacks\n",
    "\n",
    "* [Team repo]()\n",
    "* Yes, our team did make a ```.gitignore```\n",
    "* We use issues in order to develop ideas and also for team review\n",
    "* We have used pull requests but we should start using them more. As we shift to PBL, we will start utilizing pull requests\n",
    "* We plan to have each person have their own branch or each branch be related to each team job\n",
    "* We have our issues located in our team scrum board"
   ]
  }
 ],
 "metadata": {
  "kernelspec": {
   "display_name": "Java",
   "language": "java",
   "name": "java"
  },
  "language_info": {
   "name": "java",
   "version": "3.10.6"
  },
  "orig_nbformat": 4,
  "vscode": {
   "interpreter": {
    "hash": "b0fa6594d8f4cbf19f97940f81e996739fb7646882a419484c72d19e05852a7e"
   }
  }
 },
 "nbformat": 4,
 "nbformat_minor": 2
}
