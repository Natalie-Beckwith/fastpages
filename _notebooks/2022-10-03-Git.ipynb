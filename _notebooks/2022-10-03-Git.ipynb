{
 "cells": [
  {
   "cell_type": "markdown",
   "metadata": {},
   "source": [
    "# GitHub and Git Sociology\n",
    "- toc:true\n",
    "- badges: true\n",
    "- comments: true\n",
    "- author: Natalie Beckwith\n",
    "- categories:"
   ]
  },
  {
   "cell_type": "markdown",
   "metadata": {},
   "source": [
    "### Hacks\n",
    "\n",
    "* [Team repo]()\n",
    "* Yes, I did make a ```.gitignore```\n",
    "* We use issues in order to develop ideas and also for team review\n",
    "* We have used pull requests but we should start using them more. As we shift to PBL, we will start utilizing pull requests\n",
    "* \n",
    "We already use issues as part of our development process, and during our team reviews\n",
    "Unfortunately, we have not been using pull requests as much as we should have. We will prioritize this as we continue with our project in the future\n",
    "Our branching system will consist of each person having their own branch, or different branches for different technicals until they are ready to be pushed to the main branch\n",
    "Yes, our issues are placed on our scrum board when they are created and managed from there."
   ]
  }
 ],
 "metadata": {
  "kernelspec": {
   "display_name": "Python 3.10.6 64-bit",
   "language": "python",
   "name": "python3"
  },
  "language_info": {
   "name": "python",
   "version": "3.10.6"
  },
  "orig_nbformat": 4,
  "vscode": {
   "interpreter": {
    "hash": "b0fa6594d8f4cbf19f97940f81e996739fb7646882a419484c72d19e05852a7e"
   }
  }
 },
 "nbformat": 4,
 "nbformat_minor": 2
}
