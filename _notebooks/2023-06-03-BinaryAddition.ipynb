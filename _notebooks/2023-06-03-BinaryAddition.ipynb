{
 "cells": [
  {
   "cell_type": "markdown",
   "metadata": {},
   "source": [
    "# Binary Addition\n",
    "- toc:true\n",
    "- layout: post\n",
    "- badges: true\n",
    "- comments: true\n",
    "- author: Natalie Beckwith\n",
    "- categories: [TRI3]\n",
    "- image: https://github.com/Natalie-Beckwith/fastpages/blob/master/_notebooks/ghtop_images/pending-loop.gif?raw=true"
   ]
  },
  {
   "cell_type": "markdown",
   "metadata": {},
   "source": [
    "## Instructions\n",
    "\n",
    "### Early Seed\n",
    "* Write a sample binary addition 1 + 1 = 10\n",
    "* Have Java Code cell on screen at start of lecture\n",
    "\n",
    "### Small Code EX\n",
    "* Write a Jupyter notebook code example on the following primitive types with a code example (4 to 5 lines), preference would be using array and methods like substring and random as applicable: int, double, boolean, char.\n",
    "* Now convert each of the examples to corresponding Wrapper classes, using arrays.\n",
    "* Expression of these in Class or PBL forms is an option. But the review must be easy for me to see work.\n",
    "\n",
    "---\n",
    "## Code"
   ]
  },
  {
   "cell_type": "code",
   "execution_count": 33,
   "metadata": {
    "vscode": {
     "languageId": "java"
    }
   },
   "outputs": [
    {
     "name": "stdout",
     "output_type": "stream",
     "text": [
      "number #1 in binary: 0110\n",
      "number #2 in binary: 1011\n",
      "\n",
      "number #1 in decimal form: 6\n",
      "number #2 in decimal form: 11\n",
      "\n",
      "sum in decimal form: 17\n",
      "sum in binary: 10001"
     ]
    }
   ],
   "source": [
    "/*\n",
    " * adds two binary numbers\n",
    " */\n",
    "public class BinaryAddition\n",
    "{\n",
    "    /*\n",
    "     * tester method\n",
    "     */\n",
    "    public static void main(String[] Args)\n",
    "    {\n",
    "        String sum;\n",
    "        String binary1 = \"0110\";\n",
    "        String binary2 = \"1011\";\n",
    "\n",
    "        // outputs numbers in binary form\n",
    "        System.out.printf(\"number #1 in binary: %s\\nnumber #2 in binary: %s\\n\\n\", binary1, binary2);\n",
    "\n",
    "        // calls addNums method\n",
    "        sum = addNums(binary1, binary2);\n",
    "\n",
    "        // outputs the sum in binary form\n",
    "        System.out.printf(\"sum in binary: %s\", sum);\n",
    "    }\n",
    "\n",
    "    /*\n",
    "     * takes two binary strings, converts them into ints, and adds the two numbers together\n",
    "     */\n",
    "    public static String addNums(String binary1, String binary2)\n",
    "    {\n",
    "        // Integer.parseInt() --> String to int\n",
    "        int num1 = Integer.parseInt(binary1, 2);\n",
    "        int num2 = Integer.parseInt(binary2, 2);\n",
    "        int sum = num1 + num2;\n",
    "\n",
    "        // outputs sum in decimal (number) form\n",
    "        System.out.printf(\"number #1 in decimal form: %d\\nnumber #2 in decimal form: %d\\n\\nsum in decimal form: %d\\n\", num1, num2, sum);\n",
    "\n",
    "        // Integer.toBinaryString(sum); --> add numbers and converts the result to the binary String\n",
    "        return Integer.toBinaryString(sum);\n",
    "    }\n",
    "}\n",
    "BinaryAddition.main(null);"
   ]
  }
 ],
 "metadata": {
  "kernelspec": {
   "display_name": "Java",
   "language": "java",
   "name": "java"
  },
  "language_info": {
   "codemirror_mode": "java",
   "file_extension": ".jshell",
   "mimetype": "text/x-java-source",
   "name": "Java",
   "pygments_lexer": "java",
   "version": "17.0.4+8"
  },
  "orig_nbformat": 4,
  "vscode": {
   "interpreter": {
    "hash": "b781bca096fa5117d83f02e133236c892d11593ec87b181e088a886d6eea6e41"
   }
  }
 },
 "nbformat": 4,
 "nbformat_minor": 2
}
