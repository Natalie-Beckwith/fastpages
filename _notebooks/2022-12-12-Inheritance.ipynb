{
 "cells": [
  {
   "cell_type": "markdown",
   "metadata": {},
   "source": [
    "# Unit 9 - Inheritance\n",
    "- toc:true\n",
    "- badges: true\n",
    "- comments: true\n",
    "- author: Natalie Beckwith\n",
    "- categories: [CB Lessions, TRI2]"
   ]
  },
  {
   "cell_type": "markdown",
   "metadata": {},
   "source": [
    "## Notes\n",
    "\n",
    "* Capability of a class to derive properties and characteristics from another class\n",
    "* keyword `super`\n",
    "* `extend` a subclass and make it a super class\n",
    "* `@Override` in indicate that you are overriding a method\n",
    "    * making code readable\n",
    "* `Fruit fruit1 = new Apple`\n",
    "    * Reference type is declared with the superclass\n",
    "    * Object is declared with the subclass\n",
    "* **Polymorphism** - multiple classes that are related by inheritance\n",
    "* superclass contains common methods\n",
    "    * `.equals()`\n",
    "    * `.toString()`\n",
    "\n",
    "### Syntax\n",
    "* `public class A`\n",
    "* `public class B extends A`"
   ]
  },
  {
   "cell_type": "markdown",
   "metadata": {},
   "source": [
    "## Homework\n",
    "\n",
    "### Part 1:\n",
    "- [ ] Create a world cup superclass with properties of your choice and subclasses for five teams which inherits those properties\n",
    "- [ ] Write a constructor for one of those subclasses\n",
    "\n"
   ]
  },
  {
   "cell_type": "code",
   "execution_count": 26,
   "metadata": {
    "vscode": {
     "languageId": "java"
    }
   },
   "outputs": [],
   "source": [
    "public class WorldCup\n",
    "{\n",
    "    protected String _name;\n",
    "\n",
    "    public WorldCup(String name)\n",
    "    {\n",
    "        _name = name;\n",
    "    }\n",
    "\n",
    "    public String getName()\n",
    "    {\n",
    "        return _name;\n",
    "    }\n",
    "\n",
    "    public String toString()\n",
    "    {\n",
    "        String desctription = \"Team name: \" + _name;\n",
    "\n",
    "        return desctription;\n",
    "    }\n",
    "    \n",
    "}"
   ]
  },
  {
   "cell_type": "code",
   "execution_count": 27,
   "metadata": {
    "vscode": {
     "languageId": "java"
    }
   },
   "outputs": [],
   "source": [
    "public class NextGame extends WorldCup\n",
    "{\n",
    "    private String _time;\n",
    "    \n",
    "    public NextGame(String name, String time)\n",
    "    {\n",
    "        super(name);\n",
    "\n",
    "        _time = time;\n",
    "    }\n",
    "\n",
    "    @Override\n",
    "    public String toString()\n",
    "    {\n",
    "        String desctription = \"Team name: \" + _name\n",
    "        + \"\\nNext Game: \" + _time;\n",
    "\n",
    "        return desctription;\n",
    "    }\n",
    "}"
   ]
  },
  {
   "cell_type": "code",
   "execution_count": 30,
   "metadata": {
    "vscode": {
     "languageId": "java"
    }
   },
   "outputs": [
    {
     "name": "stdout",
     "output_type": "stream",
     "text": [
      "Superclass:\n",
      "Team name: Croatia\n",
      "\n",
      "Subclass:\n",
      "Team name: Croatia\n",
      "Next Game: 12/13/22\n"
     ]
    }
   ],
   "source": [
    "public class Main\n",
    "{\n",
    "    public static void main(String[] Args)\n",
    "    {\n",
    "        System.out.printf(\"Superclass:\\n\");\n",
    "        WorldCup worldCup = new WorldCup(\"Croatia\");\n",
    "        System.out.printf(\"%s\\n\", worldCup.toString());\n",
    "\n",
    "        System.out.printf(\"\\nSubclass:\");\n",
    "        NextGame nextGame = new NextGame(\"Croatia\", \"12/13/22\");\n",
    "        System.out.printf(\"\\n%s\\n\", nextGame.toString());\n",
    "    }\n",
    "}\n",
    "Main.main(null);"
   ]
  },
  {
   "cell_type": "markdown",
   "metadata": {},
   "source": [
    "### Part 2:\n",
    "- [ ] Add a getAge method in the Person super class\n",
    "- [ ] Create a new subclass Student with additional members of your choice to personalize the Student class\n",
    "- [ ] Create a new subclass Teacher with additiona members of your choice\n",
    "- [ ] Override the toString method using the @Override to print a Student and teacher object with new members\n",
    "Print the student and teacher."
   ]
  },
  {
   "cell_type": "code",
   "execution_count": null,
   "metadata": {
    "vscode": {
     "languageId": "java"
    }
   },
   "outputs": [],
   "source": []
  }
 ],
 "metadata": {
  "kernelspec": {
   "display_name": "Java",
   "language": "java",
   "name": "java"
  },
  "language_info": {
   "codemirror_mode": "java",
   "file_extension": ".jshell",
   "mimetype": "text/x-java-source",
   "name": "Java",
   "pygments_lexer": "java",
   "version": "17.0.4+8"
  },
  "orig_nbformat": 4
 },
 "nbformat": 4,
 "nbformat_minor": 2
}
