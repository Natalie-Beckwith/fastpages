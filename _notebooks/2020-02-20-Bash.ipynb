{
 "cells": [
  {
   "cell_type": "markdown",
   "metadata": {},
   "source": [
    "# Prerequisites for Bash on Jupyter\n",
    "- toc:true\n",
    "- badges: true\n",
    "- comments: true\n",
    "- author: Natalie Beckwith\n",
    "- categories:"
   ]
  },
  {
   "cell_type": "code",
   "execution_count": 8,
   "metadata": {
    "vscode": {
     "languageId": "shellscript"
    }
   },
   "outputs": [
    {
     "name": "stdout",
     "output_type": "stream",
     "text": [
      "Using conditional statement to create a project directory and project\n",
      "Directory /Users/nataliebeckwith/vscode_bash does not exists... makinng directory /Users/nataliebeckwith/vscode_bash\n",
      "Directory /Users/nataliebeckwith/vscode_bash exists.\n",
      "Directory /Users/nataliebeckwith/vscode_bash/fastpages does not exists... cloning https://github.com/Natalie-Beckwith/fastpages.git\n",
      "Cloning into 'fastpages'...\n",
      "remote: Enumerating objects: 659, done.        \n",
      "remote: Counting objects: 100% (552/552), done.        \n",
      "remote: Compressing objects: 100% (242/242), done.        \n",
      "remote: Total 659 (delta 246), reused 489 (delta 236), pack-reused 107        \n",
      "Receiving objects: 100% (659/659), 8.76 MiB | 10.04 MiB/s, done.\n",
      "Resolving deltas: 100% (246/246), done.\n",
      "Directory /Users/nataliebeckwith/vscode_bash/fastpages exists.\n"
     ]
    }
   ],
   "source": [
    "echo \"Using conditional statement to create a project directory and project\"\n",
    "\n",
    "# Variable section\n",
    "export project_dir=$HOME/vscode_bash  # change vscode to different name to test git clone\n",
    "export project=$project_dir/fastpages  # change APCSP to name of project from git clone\n",
    "export project_repo=\"https://github.com/Natalie-Beckwith/fastpages.git\"  # change to project of choice\n",
    "\n",
    "cd ~    # start in home directory\n",
    "\n",
    "# Conditional block to make a project directory\n",
    "if [ ! -d $project_dir ]\n",
    "then \n",
    "    echo \"Directory $project_dir does not exists... makinng directory $project_dir\"\n",
    "    mkdir -p $project_dir\n",
    "fi\n",
    "echo \"Directory $project_dir exists.\" \n",
    "\n",
    "# Conditional block to git clone a project from project_repo\n",
    "if [ ! -d $project ]\n",
    "then\n",
    "    echo \"Directory $project does not exists... cloning $project_repo\"\n",
    "    cd $project_dir\n",
    "    git clone $project_repo\n",
    "    cd ~\n",
    "fi\n",
    "echo \"Directory $project exists.\""
   ]
  },
  {
   "cell_type": "code",
   "execution_count": 9,
   "metadata": {
    "vscode": {
     "languageId": "shellscript"
    }
   },
   "outputs": [
    {
     "name": "stdout",
     "output_type": "stream",
     "text": [
      "Navigate to project, then navigate to area wwhere files were cloned\n",
      "/Users/nataliebeckwith/vscode_bash/fastpages\n",
      "\n",
      "list top level or root of files with project pulled from github\n",
      "2022-05-15-07-21-16.png\t_config.yml\t\t_sass\n",
      "2022-05-15-07-24-25.png\t_fastpages_docs\t\t_word\n",
      "2022-05-15-07-25-15.png\t_includes\t\tassets\n",
      "Gemfile\t\t\t_layouts\t\tdocker-compose.yml\n",
      "LICENSE\t\t\t_notebooks\t\timages\n",
      "Makefile\t\t_pages\t\t\tindex.html\n",
      "README.md\t\t_plugins\n",
      "_action_files\t\t_posts\n",
      "\n",
      "list again with hidden files pulled from github\n",
      ".\t\t\t2022-05-15-07-25-15.png\t_notebooks\n",
      "..\t\t\tGemfile\t\t\t_pages\n",
      ".devcontainer.json\tLICENSE\t\t\t_plugins\n",
      ".git\t\t\tMakefile\t\t_posts\n",
      ".gitattributes\t\tREADME.md\t\t_sass\n",
      ".github\t\t\t_action_files\t\t_word\n",
      ".gitignore\t\t_config.yml\t\tassets\n",
      ".vscode\t\t\t_fastpages_docs\t\tdocker-compose.yml\n",
      "2022-05-15-07-21-16.png\t_includes\t\timages\n",
      "2022-05-15-07-24-25.png\t_layouts\t\tindex.html\n",
      "\n",
      "list all files in long format\n",
      "total 848\n",
      "drwxr-xr-x  30 nataliebeckwith  staff     960 Aug 28 20:54 .\n",
      "drwxr-xr-x   4 nataliebeckwith  staff     128 Aug 28 20:54 ..\n",
      "-rw-r--r--   1 nataliebeckwith  staff     420 Aug 28 20:54 .devcontainer.json\n",
      "drwxr-xr-x  12 nataliebeckwith  staff     384 Aug 28 20:54 .git\n",
      "-rw-r--r--   1 nataliebeckwith  staff      84 Aug 28 20:54 .gitattributes\n",
      "drwxr-xr-x   4 nataliebeckwith  staff     128 Aug 28 20:54 .github\n",
      "-rw-r--r--   1 nataliebeckwith  staff     161 Aug 28 20:54 .gitignore\n",
      "drwxr-xr-x   5 nataliebeckwith  staff     160 Aug 28 20:54 .vscode\n",
      "-rw-r--r--   1 nataliebeckwith  staff  207007 Aug 28 20:54 2022-05-15-07-21-16.png\n",
      "-rw-r--r--   1 nataliebeckwith  staff   90979 Aug 28 20:54 2022-05-15-07-24-25.png\n",
      "-rw-r--r--   1 nataliebeckwith  staff   81691 Aug 28 20:54 2022-05-15-07-25-15.png\n",
      "-rwxr-xr-x   1 nataliebeckwith  staff    1304 Aug 28 20:54 Gemfile\n",
      "-rw-r--r--   1 nataliebeckwith  staff   11351 Aug 28 20:54 LICENSE\n",
      "-rwxr-xr-x   1 nataliebeckwith  staff    1422 Aug 28 20:54 Makefile\n",
      "-rwxr-xr-x   1 nataliebeckwith  staff    3630 Aug 28 20:54 README.md\n",
      "drwxr-xr-x  18 nataliebeckwith  staff     576 Aug 28 20:54 _action_files\n",
      "-rw-r--r--   1 nataliebeckwith  staff    3701 Aug 28 20:54 _config.yml\n",
      "drwxr-xr-x  24 nataliebeckwith  staff     768 Aug 28 20:54 _fastpages_docs\n",
      "drwxr-xr-x  27 nataliebeckwith  staff     864 Aug 28 20:54 _includes\n",
      "drwxr-xr-x   6 nataliebeckwith  staff     192 Aug 28 20:54 _layouts\n",
      "drwxr-xr-x  10 nataliebeckwith  staff     320 Aug 28 20:54 _notebooks\n",
      "drwxr-xr-x   6 nataliebeckwith  staff     192 Aug 28 20:54 _pages\n",
      "drwxr-xr-x   4 nataliebeckwith  staff     128 Aug 28 20:54 _plugins\n",
      "drwxr-xr-x   6 nataliebeckwith  staff     192 Aug 28 20:54 _posts\n",
      "drwxr-xr-x   3 nataliebeckwith  staff      96 Aug 28 20:54 _sass\n",
      "drwxr-xr-x   3 nataliebeckwith  staff      96 Aug 28 20:54 _word\n",
      "drwxr-xr-x   4 nataliebeckwith  staff     128 Aug 28 20:54 assets\n",
      "-rwxr-xr-x   1 nataliebeckwith  staff    1136 Aug 28 20:54 docker-compose.yml\n",
      "drwxr-xr-x   7 nataliebeckwith  staff     224 Aug 28 20:54 images\n",
      "-rw-r--r--   1 nataliebeckwith  staff     121 Aug 28 20:54 index.html\n"
     ]
    }
   ],
   "source": [
    "echo \"Navigate to project, then navigate to area wwhere files were cloned\"\n",
    "cd $project\n",
    "pwd\n",
    "\n",
    "echo \"\"\n",
    "echo \"list top level or root of files with project pulled from github\"\n",
    "ls\n",
    "\n",
    "echo \"\"\n",
    "echo \"list again with hidden files pulled from github\"\n",
    "ls -a   # hidden files flag, many shell commands have flags\n",
    "\n",
    "echo \"\"\n",
    "echo \"list all files in long format\"\n",
    "ls -al   # all files and long listing"
   ]
  },
  {
   "cell_type": "code",
   "execution_count": 10,
   "metadata": {
    "vscode": {
     "languageId": "shellscript"
    }
   },
   "outputs": [
    {
     "name": "stdout",
     "output_type": "stream",
     "text": [
      "Look for posts\n",
      "/Users/nataliebeckwith/vscode_bash/fastpages/_posts\n",
      "total 24\n",
      "-rw-r--r--  1 nataliebeckwith  staff  257 Aug 28 20:54 2022-08-22-First-Post.md\n",
      "-rw-r--r--  1 nataliebeckwith  staff  596 Aug 28 20:54 2022-08-23-TPTNotes.md\n",
      "-rw-r--r--  1 nataliebeckwith  staff  720 Aug 28 20:54 README.md\n"
     ]
    }
   ],
   "source": [
    "echo \"Look for posts\"\n",
    "export posts=$project/_posts  # _posts inside project\n",
    "cd $posts  # this should exist per fastpages\n",
    "pwd  # present working directory\n",
    "ls -l  # list posts"
   ]
  },
  {
   "cell_type": "code",
   "execution_count": 11,
   "metadata": {
    "vscode": {
     "languageId": "shellscript"
    }
   },
   "outputs": [
    {
     "name": "stdout",
     "output_type": "stream",
     "text": [
      "Look for notebooks\n",
      "/Users/nataliebeckwith/vscode_bash/fastpages/_notebooks\n",
      "total 6248\n",
      "-rw-r--r--  1 nataliebeckwith  staff     1244 Aug 28 20:54 2020-02-20-NatalieNotebookJava.ipynb\n",
      "-rw-r--r--  1 nataliebeckwith  staff     1060 Aug 28 20:54 2020-02-20-NatalieNotebookPython.ipynb\n",
      "-rw-r--r--  1 nataliebeckwith  staff  3162470 Aug 28 20:54 2020-02-20-test.ipynb\n",
      "-rw-r--r--  1 nataliebeckwith  staff    12475 Aug 28 20:54 2020-08-24-PrimitiveTestJava.ipynb\n",
      "-rw-r--r--  1 nataliebeckwith  staff      597 Aug 28 20:54 2022-08-23-NatalieTPT\n",
      "-rw-r--r--  1 nataliebeckwith  staff      771 Aug 28 20:54 README.md\n",
      "drwxr-xr-x  4 nataliebeckwith  staff      128 Aug 28 20:54 ghtop_images\n",
      "drwxr-xr-x  3 nataliebeckwith  staff       96 Aug 28 20:54 my_icons\n"
     ]
    }
   ],
   "source": [
    "echo \"Look for notebooks\"\n",
    "export notebooks=$project/_notebooks  # _notebooks is inside project\n",
    "cd $notebooks   # this should exist per fastpages\n",
    "pwd  # present working directory\n",
    "ls -l  # list notebooks"
   ]
  },
  {
   "cell_type": "code",
   "execution_count": 12,
   "metadata": {
    "vscode": {
     "languageId": "shellscript"
    }
   },
   "outputs": [
    {
     "name": "stdout",
     "output_type": "stream",
     "text": [
      "Look for images in notebooks, print working directory, list files\n",
      "bash: cd: /Users/nataliebeckwith/vscode_bash/fastpages/_notebooks/images: No such file or directory\n",
      "/Users/nataliebeckwith/vscode_bash/fastpages/_notebooks\n",
      "total 6248\n",
      "-rw-r--r--  1 nataliebeckwith  staff     1244 Aug 28 20:54 2020-02-20-NatalieNotebookJava.ipynb\n",
      "-rw-r--r--  1 nataliebeckwith  staff     1060 Aug 28 20:54 2020-02-20-NatalieNotebookPython.ipynb\n",
      "-rw-r--r--  1 nataliebeckwith  staff  3162470 Aug 28 20:54 2020-02-20-test.ipynb\n",
      "-rw-r--r--  1 nataliebeckwith  staff    12475 Aug 28 20:54 2020-08-24-PrimitiveTestJava.ipynb\n",
      "-rw-r--r--  1 nataliebeckwith  staff      597 Aug 28 20:54 2022-08-23-NatalieTPT\n",
      "-rw-r--r--  1 nataliebeckwith  staff      771 Aug 28 20:54 README.md\n",
      "drwxr-xr-x  4 nataliebeckwith  staff      128 Aug 28 20:54 ghtop_images\n",
      "drwxr-xr-x  3 nataliebeckwith  staff       96 Aug 28 20:54 my_icons\n"
     ]
    }
   ],
   "source": [
    "echo \"Look for images in notebooks, print working directory, list files\"\n",
    "cd $notebooks/images  # this should exist per fastpages\n",
    "pwd\n",
    "ls -l"
   ]
  },
  {
   "cell_type": "code",
   "execution_count": 13,
   "metadata": {
    "vscode": {
     "languageId": "shellscript"
    }
   },
   "outputs": [
    {
     "name": "stdout",
     "output_type": "stream",
     "text": [
      "Navigate to project, then navigate to area where files were cloned\n",
      "show the contents of README.md\n",
      "\n",
      "[//]: # (This template replaces README.md when someone creates a new repo with the fastpages template.)\n",
      "\n",
      "\n",
      "![](https://github.com/Natalie-Beckwith/fastpages/workflows/CI/badge.svg) \n",
      "![](https://github.com/Natalie-Beckwith/fastpages/workflows/GH-Pages%20Status/badge.svg) \n",
      "[![](https://img.shields.io/static/v1?label=fastai&message=fastpages&color=57aeac&labelColor=black&style=flat&logo=data:image/png;base64,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)](https://github.com/fastai/fastpages)\n",
      "\n",
      "https://Natalie-Beckwith.github.io/fastpages/\n",
      "\n",
      "# My Blog\n",
      "\n",
      "\n",
      "_powered by [fastpages](https://github.com/fastai/fastpages)_\n",
      "\n",
      "\n",
      "## What To Do Next?\n",
      "\n",
      "Great!  You have setup your repo.  Now its time to start writing content.  Some helpful links:\n",
      "\n",
      "- [Writing Blogs With Jupyter](https://github.com/fastai/fastpages#writing-blog-posts-with-jupyter)\n",
      "\n",
      "- [Writing Blogs With Markdown](https://github.com/fastai/fastpages#writing-blog-posts-with-markdown)\n",
      "\n",
      "- [Writing Blog Posts With Word](https://github.com/fastai/fastpages#writing-blog-posts-with-microsoft-word)\n",
      "\n",
      "- [(Optional) Preview Your Blog Locally](_fastpages_docs/DEVELOPMENT.md)\n",
      "\n",
      "Note: you may want to remove example blog posts from the `_posts`,  `_notebooks` or `_word` folders (but leave them empty, don't delete these folders) if you don't want these blog posts to appear on your site.\n",
      "\n",
      "Please use the [nbdev & blogging channel](https://forums.fast.ai/c/fastai-users/nbdev/48) in the fastai forums for any questions or feature requests.\n",
      "\n",
      "end of README.md\n"
     ]
    }
   ],
   "source": [
    "echo \"Navigate to project, then navigate to area where files were cloned\"\n",
    "\n",
    "cd $project\n",
    "echo \"show the contents of README.md\"\n",
    "echo \"\"\n",
    "\n",
    "cat README.md  # show contents of file, in this case markdown\n",
    "echo \"\"\n",
    "echo \"end of README.md\""
   ]
  },
  {
   "cell_type": "markdown",
   "metadata": {},
   "source": [
    "# Hacks:\n",
    "* I can check the version of a tool by comparing the version to the expected version of the tool\n",
    "```\n",
    "text=\"git version 2.37.2\"\n",
    "version=\"$(git version)\"\n",
    "\n",
    "echo $version\n",
    "\n",
    "if [ \"$version\" = \"$text\" ]; then\n",
    "    echo \"Right version of Git\"\n",
    "else\n",
    "    echo \"Wrong version of Git\"\n",
    "fi\n",
    "```\n",
    "* You can type into a terminal window ```conda -V``` and you will get the current version\n",
    "* To update a repo, you need to pull recent changes\n",
    "* "
   ]
  }
 ],
 "metadata": {
  "kernelspec": {
   "display_name": "Bash",
   "language": "bash",
   "name": "bash"
  },
  "language_info": {
   "codemirror_mode": "shell",
   "file_extension": ".sh",
   "mimetype": "text/x-sh",
   "name": "bash"
  },
  "orig_nbformat": 4,
  "vscode": {
   "interpreter": {
    "hash": "b0fa6594d8f4cbf19f97940f81e996739fb7646882a419484c72d19e05852a7e"
   }
  }
 },
 "nbformat": 4,
 "nbformat_minor": 2
}
