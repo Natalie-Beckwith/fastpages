{
 "cells": [
  {
   "cell_type": "code",
   "execution_count": 8,
   "metadata": {
    "vscode": {
     "languageId": "html"
    }
   },
   "outputs": [
    {
     "ename": "SyntaxError",
     "evalue": "invalid syntax (2752783405.py, line 1)",
     "output_type": "error",
     "traceback": [
      "\u001b[0;36m  Input \u001b[0;32mIn [8]\u001b[0;36m\u001b[0m\n\u001b[0;31m    <!DOCTYPE html>\u001b[0m\n\u001b[0m    ^\u001b[0m\n\u001b[0;31mSyntaxError\u001b[0m\u001b[0;31m:\u001b[0m invalid syntax\n"
     ]
    }
   ],
   "source": [
    "<!DOCTYPE html>\n",
    "<html lang=\"en\">\n",
    "<body>\n",
    "    <div id=\"quiz\"></div>\n",
    "    <button id=\"submit\">Get Results</button>\n",
    "    <div id=\"results\"></div>\n",
    "</body>\n",
    "</html>\n"
   ]
  },
  {
   "cell_type": "code",
   "execution_count": 9,
   "metadata": {
    "vscode": {
     "languageId": "javascript"
    }
   },
   "outputs": [
    {
     "ename": "SyntaxError",
     "evalue": "invalid syntax (882409222.py, line 1)",
     "output_type": "error",
     "traceback": [
      "\u001b[0;36m  Input \u001b[0;32mIn [9]\u001b[0;36m\u001b[0m\n\u001b[0;31m    function generateQuiz(questions, quizContainer, resultsContainer, submitButton){\u001b[0m\n\u001b[0m             ^\u001b[0m\n\u001b[0;31mSyntaxError\u001b[0m\u001b[0;31m:\u001b[0m invalid syntax\n"
     ]
    }
   ],
   "source": [
    "function generateQuiz(questions, quizContainer, resultsContainer, submitButton){\n",
    "\n",
    "\tfunction showQuestions(questions, quizContainer){\n",
    "\t\t// code will go here\n",
    "\t}\n",
    "\n",
    "\tfunction showResults(questions, quizContainer, resultsContainer){\n",
    "\t\t// code will go here\n",
    "\t}\n",
    "\n",
    "\t// show the questions\n",
    "\tshowQuestions(questions, quizContainer);\n",
    "\n",
    "\t// when user clicks submit, show results\n",
    "\tsubmitButton.onclick = function(){\n",
    "\t\tshowResults(questions, quizContainer, resultsContainer);\n",
    "\t}\n",
    "}"
   ]
  },
  {
   "cell_type": "code",
   "execution_count": null,
   "metadata": {
    "vscode": {
     "languageId": "javascript"
    }
   },
   "outputs": [],
   "source": [
    "var myQuestions = [\n",
    "\t{\n",
    "\t\tquestion: \"What is 10/2?\",\n",
    "\t\tanswers: {\n",
    "\t\t\ta: '3',\n",
    "\t\t\tb: '5',\n",
    "\t\t\tc: '115'\n",
    "\t\t},\n",
    "\t\tcorrectAnswer: 'b'\n",
    "\t},\n",
    "\t{\n",
    "\t\tquestion: \"What is 30/3?\",\n",
    "\t\tanswers: {\n",
    "\t\t\ta: '3',\n",
    "\t\t\tb: '5',\n",
    "\t\t\tc: '10'\n",
    "\t\t},\n",
    "\t\tcorrectAnswer: 'c'\n",
    "\t}\n",
    "];"
   ]
  },
  {
   "cell_type": "code",
   "execution_count": null,
   "metadata": {
    "vscode": {
     "languageId": "javascript"
    }
   },
   "outputs": [],
   "source": [
    "function showQuestions(questions, quizContainer){\n",
    "\t// we'll need a place to store the output and the answer choices\n",
    "\tvar output = [];\n",
    "\tvar answers;\n",
    "\n",
    "\t// for each question...\n",
    "\tfor(var i=0; i<questions.length; i++){\n",
    "\t\t\n",
    "\t\t// first reset the list of answers\n",
    "\t\tanswers = [];\n",
    "\n",
    "\t\t// for each available answer to this question...\n",
    "\t\tfor(letter in questions[i].answers){\n",
    "\n",
    "\t\t\t// ...add an html radio button\n",
    "\t\t\tanswers.push(\n",
    "\t\t\t\t'<label>'\n",
    "\t\t\t\t\t+ '<input type=\"radio\" name=\"question'+i+'\" value=\"'+letter+'\">'\n",
    "\t\t\t\t\t+ letter + ': '\n",
    "\t\t\t\t\t+ questions[i].answers[letter]\n",
    "\t\t\t\t+ '</label>'\n",
    "\t\t\t);\n",
    "\t\t}\n",
    "\n",
    "\t\t// add this question and its answers to the output\n",
    "\t\toutput.push(\n",
    "\t\t\t'<div class=\"question\">' + questions[i].question + '</div>'\n",
    "\t\t\t+ '<div class=\"answers\">' + answers.join('') + '</div>'\n",
    "\t\t);\n",
    "\t}\n",
    "\n",
    "\t// finally combine our output list into one string of html and put it on the page\n",
    "\tquizContainer.innerHTML = output.join('');\n",
    "}"
   ]
  },
  {
   "cell_type": "code",
   "execution_count": null,
   "metadata": {
    "vscode": {
     "languageId": "javascript"
    }
   },
   "outputs": [],
   "source": [
    "showQuestions(questions, quizContainer);"
   ]
  },
  {
   "cell_type": "code",
   "execution_count": null,
   "metadata": {
    "vscode": {
     "languageId": "javascript"
    }
   },
   "outputs": [],
   "source": [
    "function showResults(questions, quizContainer, resultsContainer){\n",
    "\t\n",
    "\t// gather answer containers from our quiz\n",
    "\tvar answerContainers = quizContainer.querySelectorAll('.answers');\n",
    "\t\n",
    "\t// keep track of user's answers\n",
    "\tvar userAnswer = '';\n",
    "\tvar numCorrect = 0;\n",
    "\t\n",
    "\t// for each question...\n",
    "\tfor(var i=0; i<questions.length; i++){\n",
    "\n",
    "\t\t// find selected answer\n",
    "\t\tuserAnswer = (answerContainers[i].querySelector('input[name=question'+i+']:checked')||{}).value;\n",
    "\t\t\n",
    "\t\t// if answer is correct\n",
    "\t\tif(userAnswer===questions[i].correctAnswer){\n",
    "\t\t\t// add to the number of correct answers\n",
    "\t\t\tnumCorrect++;\n",
    "\t\t\t\n",
    "\t\t\t// color the answers green\n",
    "\t\t\tanswerContainers[i].style.color = 'lightgreen';\n",
    "\t\t}\n",
    "\t\t// if answer is wrong or blank\n",
    "\t\telse{\n",
    "\t\t\t// color the answers red\n",
    "\t\t\tanswerContainers[i].style.color = 'red';\n",
    "\t\t}\n",
    "\t}\n",
    "\n",
    "\t// show number of correct answers out of total\n",
    "\tresultsContainer.innerHTML = numCorrect + ' out of ' + questions.length;\n",
    "}"
   ]
  },
  {
   "cell_type": "code",
   "execution_count": null,
   "metadata": {
    "vscode": {
     "languageId": "javascript"
    }
   },
   "outputs": [],
   "source": [
    "// on submit, show results\n",
    "submitButton.onclick = function(){\n",
    "\tshowResults(questions, quizContainer, resultsContainer);\n",
    "}"
   ]
  },
  {
   "cell_type": "code",
   "execution_count": null,
   "metadata": {
    "vscode": {
     "languageId": "javascript"
    }
   },
   "outputs": [],
   "source": [
    "var quizContainer = document.getElementById('quiz');\n",
    "var resultsContainer = document.getElementById('results');\n",
    "var submitButton = document.getElementById('submit');"
   ]
  },
  {
   "cell_type": "code",
   "execution_count": null,
   "metadata": {
    "vscode": {
     "languageId": "javascript"
    }
   },
   "outputs": [],
   "source": [
    "generateQuiz(myQuestions, quizContainer, resultsContainer, submitButton);"
   ]
  }
 ],
 "metadata": {
  "kernelspec": {
   "display_name": "Python 3.9.12 ('base')",
   "language": "python",
   "name": "python3"
  },
  "language_info": {
   "codemirror_mode": {
    "name": "ipython",
    "version": 3
   },
   "file_extension": ".py",
   "mimetype": "text/x-python",
   "name": "python",
   "nbconvert_exporter": "python",
   "pygments_lexer": "ipython3",
   "version": "3.9.12"
  },
  "orig_nbformat": 4,
  "vscode": {
   "interpreter": {
    "hash": "b781bca096fa5117d83f02e133236c892d11593ec87b181e088a886d6eea6e41"
   }
  }
 },
 "nbformat": 4,
 "nbformat_minor": 2
}
