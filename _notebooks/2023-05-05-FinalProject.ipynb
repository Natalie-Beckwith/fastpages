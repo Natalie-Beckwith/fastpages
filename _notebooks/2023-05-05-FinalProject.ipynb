{
 "cells": [
  {
   "cell_type": "markdown",
   "metadata": {},
   "source": [
    "# Final Project\n",
    "- toc:true\n",
    "- layout: post\n",
    "- badges: true\n",
    "- comments: true\n",
    "- author: Natalie Beckwith\n",
    "- categories: [TRI3, FINAL PROJECT]\n",
    "- image: https://github.com/Natalie-Beckwith/fastpages/blob/master/_notebooks/ghtop_images/pending-loop.gif?raw=true"
   ]
  },
  {
   "cell_type": "markdown",
   "metadata": {},
   "source": [
    "## JavaScript Tutorial\n",
    "\n",
    "* important for developing frontend\n",
    "* learn to use AI tools\n",
    "* build our own object\n",
    "   * `Class object = new Class();`\n",
    "* use a 2D array\n",
    "   * rows and columns represent a classroom\n",
    "* \n",
    "\n",
    "---"
   ]
  },
  {
   "cell_type": "markdown",
   "metadata": {},
   "source": [
    "## Hacks\n",
    "\n",
    "* Adapt this tutorial to your own work\n",
    "* Consider what you need to work on to be stronger developer\n",
    "* Show something creative or unique, no cloning\n",
    "* Be ready to talk to Teacher for 5 to 10 minutes. **Individually!!!**\n",
    "* Show in Jupyter Notebook during discussion, show Theme and ChatGPT\n",
    "* Have a runtime final in GithHub Pages (or Fastpage)\n",
    "* Go way beyond expectations\n",
    "   * There seems to be a proliferation of ChatGPT plugins, so APIs must be easy\n",
    "   * Someone who itegrates ChatGPT API into their final project will be my hero"
   ]
  }
 ],
 "metadata": {
  "kernelspec": {
   "display_name": "Java",
   "language": "java",
   "name": "java"
  },
  "language_info": {
   "codemirror_mode": "shell",
   "file_extension": ".sh",
   "mimetype": "text/x-sh",
   "name": "java",
   "version": ""
  },
  "orig_nbformat": 4,
  "vscode": {
   "interpreter": {
    "hash": "25a19fbe0a9132dfb9279d48d161753c6352f8f9478c2e74383d340069b907c3"
   }
  }
 },
 "nbformat": 4,
 "nbformat_minor": 2
}
