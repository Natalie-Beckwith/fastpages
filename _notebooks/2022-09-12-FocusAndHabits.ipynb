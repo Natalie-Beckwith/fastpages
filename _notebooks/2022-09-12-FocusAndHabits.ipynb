{
 "cells": [
  {
   "cell_type": "markdown",
   "metadata": {},
   "source": [
    "# Focus and Habits\n",
    "- toc:true\n",
    "- badges: true\n",
    "- comments: false\n",
    "- author: Natalie Beckwith\n",
    "- categories:"
   ]
  },
  {
   {
   "cell_type": "markdown",
   "metadata": {},
   "source": [
    "## Goals:"
    "* Avoid procrastinating"
    "* Avoid procrastinating"
    "* Avoid procrastinating"
    "* Avoid procrastinating"
   ]
  }
 ],
 "metadata": {
  "kernelspec": {
   "display_name": "Java",
   "language": "java",
   "name": "java"
  },
  "language_info": {
   "codemirror_mode": "java",
   "file_extension": ".jshell",
   "mimetype": "text/x-java-source",
   "name": "java",
   "pygments_lexer": "java",
   "version": "17.0.4+8"
  },
  "orig_nbformat": 4
 },
 "nbformat": 4,
 "nbformat_minor": 2
}
