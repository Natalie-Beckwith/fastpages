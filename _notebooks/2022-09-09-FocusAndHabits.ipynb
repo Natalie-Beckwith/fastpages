{
 "cells": [
  {
   "cell_type": "markdown",
   "metadata": {},
   "source": [
    "# Focus and Habits\n",
    "- toc:true\n",
    "- badges: true\n",
    "- comments: true\n",
    "- author: Natalie Beckwith\n",
    "- categories:"
   ]
  },
  {
   "cell_type": "markdown",
   "metadata": {},
   "source": [
    "## Gratitude List:\n",
    "* I appretiate everything my friends and family do\n",
    "* My friends support and ask me if anything is wrong if I have a bad day\n",
    "   * The always make me feel happy and appretiated\n",
    "* My family also supports me\n",
    "   * With my fractured arm they are always wanting to help me"
   ]
  }
 ],
 "metadata": {
  "language_info": {
   "name": "python"
  },
  "orig_nbformat": 4
 },
 "nbformat": 4,
 "nbformat_minor": 2
}
