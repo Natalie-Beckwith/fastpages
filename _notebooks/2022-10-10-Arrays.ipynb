{
 "cells": [
  {
   "cell_type": "markdown",
   "metadata": {},
   "source": [
    "# Unit 6 - Arrays\n",
    "- toc:true\n",
    "- badges: true\n",
    "- comments: true\n",
    "- author: Natalie Beckwith\n",
    "- categories: [CB Lessions, TRI1]"
   ]
  },
  {
   "cell_type": "markdown",
   "metadata": {},
   "source": [
    "## Here is an \"answer key\" to each of the coding problems"
   ]
  },
  {
   "cell_type": "markdown",
   "metadata": {},
   "source": [
    "### Swap the first and last element in the array"
   ]
  },
  {
   "cell_type": "code",
   "execution_count": 1,
   "metadata": {
    "vscode": {
     "languageId": "java"
    }
   },
   "outputs": [
    {
     "name": "stdout",
     "output_type": "stream",
     "text": [
      "Original array:\n",
      "1 4 9 16 25 \n",
      "First and last elements switched:\n",
      "25 4 9 16 1 \n"
     ]
    }
   ],
   "source": [
    "public class ArrayMethods\n",
    "{\n",
    "\tprivate static int[] values;\n",
    "\t\n",
    "\tpublic ArrayMethods (int[] initialValues)\n",
    "\t{\n",
    "\t\tvalues = initialValues;\n",
    "\t\t\t\t\n",
    "\t}\n",
    "\t\n",
    "\t/*\n",
    "\t * Swaps the first and last element in the array\n",
    "\t */\n",
    "\tpublic void swapFirstAndLast ()\n",
    "\t{\n",
    "\t\tint size = values.length;\n",
    "\t\tint temp = values[size-1];\n",
    "\t\tvalues[size-1] = values[0];\n",
    "\t\tvalues[0] = temp;\n",
    "\n",
    "\t}\n",
    "\n",
    "    /*\n",
    "\t * Prints the arrays\n",
    "\t */\n",
    "\tpublic void printArray ()\n",
    "\t{\n",
    "\t\tfor (int i = 0 ; i < values.length ; i++)\n",
    "\t\t{\n",
    "\t\t\tSystem.out.printf(\"%d \", values[i]);\n",
    "\t\t}\n",
    "\t\tSystem.out.printf(\"\\n\");\n",
    "\t}\n",
    "\n",
    "    public static void main (String[] Args)\n",
    "    {\n",
    "        int[] array = {1, 4, 9, 16, 25};\n",
    "\t\t\n",
    "\t\t\tArrayMethods arrayMethods = new ArrayMethods(array);\n",
    "\t\t\t\t\t\t\n",
    "            System.out.printf(\"Original array:\\n\");\n",
    "\t\t\tarrayMethods.printArray();\n",
    "\t\t\tarrayMethods.swapFirstAndLast();\n",
    "            System.out.printf(\"First and last elements switched:\\n\");\n",
    "\t\t\tarrayMethods.printArray();\n",
    "    }\n",
    "\n",
    "}\n",
    "ArrayMethods.main(null);"
   ]
  },
  {
   "cell_type": "markdown",
   "metadata": {},
   "source": [
    "### Replace all even elements with 0"
   ]
  },
  {
   "cell_type": "code",
   "execution_count": 2,
   "metadata": {
    "vscode": {
     "languageId": "java"
    }
   },
   "outputs": [
    {
     "name": "stdout",
     "output_type": "stream",
     "text": [
      "Original array:\n",
      "1 4 9 16 25 \n",
      "Every even element replaced with 0:\n",
      "0 4 0 16 0 \n"
     ]
    }
   ],
   "source": [
    "public class ArrayMethods\n",
    "{\n",
    "\tprivate static int[] values;\n",
    "\t\n",
    "\tpublic ArrayMethods (int[] initialValues)\n",
    "\t{\n",
    "\t\tvalues = initialValues;\n",
    "\t\t\t\t\n",
    "\t}\n",
    "\n",
    "    /*\n",
    "\t * Replaces every even element with 0\n",
    "\t */\n",
    "\tpublic void replaceEvenWith0 ()\n",
    "\t{\n",
    "\t\tfor (int i = 0 ; i < values.length ; i++)\n",
    "\t\t{\n",
    "\t\t\tif (i % 2 == 0)\n",
    "\t\t\t{\n",
    "\t\t\t\tvalues[i] = 0;\n",
    "\t\t\t}\n",
    "\t\t}\n",
    "\t}\n",
    "\n",
    "\t/*\n",
    "\t * Prints the arrays\n",
    "\t */\n",
    "\tpublic void printArray ()\n",
    "\t{\n",
    "\t\tfor (int i = 0 ; i < values.length ; i++)\n",
    "\t\t{\n",
    "\t\t\tSystem.out.printf(\"%d \", values[i]);\n",
    "\t\t}\n",
    "\t\tSystem.out.printf(\"\\n\");\n",
    "\t}\n",
    "\n",
    "    public static void main (String[] Args)\n",
    "    {\n",
    "\t\tint[] array = {1, 4, 9, 16, 25};\n",
    "\t\t\n",
    "\t\tArrayMethods arrayMethods = new ArrayMethods(array);\n",
    "\n",
    "\t\tSystem.out.printf(\"Original array:\\n\");\n",
    "\t\tarrayMethods.printArray();\n",
    "\t\t\n",
    "\t\tSystem.out.printf(\"Every even element replaced with 0:\\n\");\n",
    "\t\tarrayMethods.replaceEvenWith0();\n",
    "\t\t\n",
    "\t\tarrayMethods.printArray();\t\t\t\n",
    "\t}\n",
    "}\n",
    "ArrayMethods.main(null);"
   ]
  },
  {
   "cell_type": "markdown",
   "metadata": {},
   "source": [
    "### Return true if the array is currently sorted in increasing order"
   ]
  },
  {
   "cell_type": "code",
   "execution_count": 3,
   "metadata": {
    "vscode": {
     "languageId": "java"
    }
   },
   "outputs": [
    {
     "name": "stdout",
     "output_type": "stream",
     "text": [
      "Sorted Order: true\n",
      "1 4 9 16 25 \n"
     ]
    }
   ],
   "source": [
    "public class ArrayMethods\n",
    "{\n",
    "\tprivate static int[] values;\n",
    "\t\n",
    "\tpublic ArrayMethods (int[] initialValues)\n",
    "\t{\n",
    "\t\tvalues = initialValues;\n",
    "\t\t\t\t\n",
    "\t}\n",
    "\n",
    "\t/*\n",
    "\t * Returns true if the array is sorted in increasing order\n",
    "\t */\n",
    "\tpublic boolean sortIncreasingOrder()\n",
    "\t{\n",
    "\t\tfor (int i = 0 ; i < values.length - 1 ; i++)\n",
    "\t\t{\n",
    "\t\t\tif (values[i] > values[i+1] )\n",
    "\t\t\t{\n",
    "\t\t\t\treturn false;\n",
    "\t\t\t}\n",
    "\t\t}\n",
    "\t\treturn true;\n",
    "\t}\n",
    "\n",
    "\t/*\n",
    "\t * Prints the arrays\n",
    "\t */\n",
    "\tpublic void printArray ()\n",
    "\t{\n",
    "\t\tfor (int i = 0 ; i < values.length ; i++)\n",
    "\t\t{\n",
    "\t\t\tSystem.out.printf(\"%d \", values[i]);\n",
    "\t\t}\n",
    "\t\tSystem.out.printf(\"\\n\");\n",
    "\t}\n",
    "\n",
    "    public static void main (String[] Args)\n",
    "    {\n",
    "\t\tint[] array = {1, 4, 9, 16, 25};\n",
    "\n",
    "\t\tArrayMethods arrayMethods = new ArrayMethods(array);\n",
    "\t\t\n",
    "\t\tSystem.out.printf(\"Sorted Order: %b\\n\", arrayMethods.sortIncreasingOrder());\n",
    "\t\tarrayMethods.printArray();\n",
    "\t}\n",
    "\n",
    "}\n",
    "ArrayMethods.main(null);"
   ]
  },
  {
   "cell_type": "markdown",
   "metadata": {},
   "source": [
    "### Return true if the array contains duplicate elements"
   ]
  },
  {
   "cell_type": "code",
   "execution_count": 6,
   "metadata": {
    "vscode": {
     "languageId": "java"
    }
   },
   "outputs": [
    {
     "name": "stdout",
     "output_type": "stream",
     "text": [
      "Before sort: 43 13 8 3 5 21 1 0 1 2 \n",
      "After sort: 0 1 1 2 3 5 8 13 21 43 \n",
      "Adjacent duplicate elements: true\n"
     ]
    }
   ],
   "source": [
    "public class ArrayMethods\n",
    "{\n",
    "\tprivate static int[] values;\n",
    "\t\n",
    "\tpublic ArrayMethods (int[] initialValues)\n",
    "\t{\n",
    "\t\tvalues = initialValues;\n",
    "\t\t\t\t\n",
    "\t}\n",
    "\n",
    "    /*\n",
    "\t * Returns true if the array has any duplicate elements\n",
    "\t */\n",
    "\tpublic boolean duplicates ()\n",
    "\t{\n",
    "\t\tArrays.sort(values);\n",
    "\t\tfor (int i = 0 ; i < values.length-1 ; i++)\n",
    "\t\t{\n",
    "\t\t\tif (values[i] == values[i+1])\n",
    "\t\t\t{\n",
    "\t\t\t\treturn true;\n",
    "\t\t\t}\n",
    "\t\t}\n",
    "\t\treturn false;\n",
    "\t}\n",
    "\n",
    "\t\t/*\n",
    "\t * Prints the arrays\n",
    "\t */\n",
    "\tpublic void printArray ()\n",
    "\t{\n",
    "\t\tfor (int i = 0 ; i < values.length ; i++)\n",
    "\t\t{\n",
    "\t\t\tSystem.out.printf(\"%d \", values[i]);\n",
    "\t\t}\n",
    "\t\tSystem.out.printf(\"\\n\");\n",
    "\t}\n",
    "\n",
    "    public static void main (String[] Args)\n",
    "    {\n",
    "\t\tint[] array = {43, 13, 8, 3, 5, 21, 1, 0, 1, 2};\n",
    "\t\t\t\n",
    "\t\tArrayMethods arrayMethods = new ArrayMethods(array);\n",
    "\t\tSystem.out.printf(\"Before sort: \");\n",
    "\t\tarrayMethods.printArray();\n",
    "\t\t\n",
    "\t\tboolean duplicates = arrayMethods.duplicates();\n",
    "\t\t\n",
    "\t\tSystem.out.printf(\"After sort: \");\n",
    "\t\tarrayMethods.printArray();\n",
    "\t\tSystem.out.printf(\"Adjacent duplicate elements: %b\\n\", duplicates);\n",
    "\t}\n",
    "}\n",
    "ArrayMethods.main(null);"
   ]
  }
 ],
 "metadata": {
  "kernelspec": {
   "display_name": "Java",
   "language": "java",
   "name": "java"
  },
  "language_info": {
   "codemirror_mode": "java",
   "file_extension": ".jshell",
   "mimetype": "text/x-java-source",
   "name": "Java",
   "pygments_lexer": "java",
   "version": "17.0.4+8"
  },
  "orig_nbformat": 4
 },
 "nbformat": 4,
 "nbformat_minor": 2
}
