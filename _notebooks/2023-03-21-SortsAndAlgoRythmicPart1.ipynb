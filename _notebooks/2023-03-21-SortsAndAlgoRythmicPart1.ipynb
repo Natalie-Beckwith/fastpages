{
 "cells": [
  {
   "cell_type": "markdown",
   "metadata": {},
   "source": [
    "# Sorts and Algo Rythmic - Part 1\n",
    "- toc:true\n",
    "- layout: post\n",
    "- badges: true\n",
    "- comments: true\n",
    "- author: Natalie Beckwith\n",
    "- categories: [TRI3]\n",
    "- image: https://github.com/Natalie-Beckwith/fastpages/blob/master/_notebooks/ghtop_images/pending-loop.gif?raw=true"
   ]
  },
  {
   "cell_type": "markdown",
   "metadata": {},
   "source": [
    "## Notes\n",
    "\n",
    "See weekly notes [here](https://natalie-beckwith.github.io/fastpages/notes/)\n",
    "\n",
    "---\n",
    "\n",
    "## Hacks\n",
    "\n",
    "* Build into this Jupyter Notebook(s) for Bubble Sort, Selection Sort, Insertion Sort and Merge Sort.\n",
    "* Build into this Jupyter Notebooks Tester methods that runs each Sort\n",
    "* Commit to GitHub Repository often, try to use GitHub commits to show iterations on work\n",
    "* Note, build your sorts into Generic T Queue using toString and compareTo to compare keys.\n",
    "\n",
    "---\n",
    "\n",
    "## Code"
   ]
  },
  {
   "cell_type": "code",
   "execution_count": null,
   "metadata": {},
   "outputs": [],
   "source": []
  }
 ],
 "metadata": {
  "kernelspec": {
   "display_name": "Java",
   "language": "java",
   "name": "java"
  },
  "language_info": {
   "name": "java"
  },
  "orig_nbformat": 4
 },
 "nbformat": 4,
 "nbformat_minor": 2
}
