{
 "cells": [
  {
   "cell_type": "markdown",
   "metadata": {},
   "source": [
    "# Unit 5 - Classes\n",
    "- toc:true\n",
    "- badges: true\n",
    "- comments: true\n",
    "- author: Natalie Beckwith\n",
    "- categories:"
   ]
  },
  {
   "cell_type": "code",
   "execution_count": 4,
   "metadata": {
    "vscode": {
     "languageId": "java"
    }
   },
   "outputs": [
    {
     "name": "stdout",
     "output_type": "stream",
     "text": [
      "i = 4\n",
      "iss = 18\n",
      "issipp = 36\n",
      "mississippi = 121\n",
      "\n",
      "a = 0\n",
      "aa = 0\n",
      "aaa = 0\n",
      "aabb = 0\n",
      "c = 0\n"
     ]
    }
   ],
   "source": [
    "public class WordMatch\n",
    "{\n",
    "    private String secret;\n",
    "\n",
    "    public WordMatch(String secret)\n",
    "    {\n",
    "        this.secret = secret;\n",
    "    }\n",
    "\n",
    "    public void scoreGuess(String guess)\n",
    "    {\n",
    "        int counter = 0;\n",
    "\n",
    "        // for loop for first substring index\n",
    "        for (int i = 0; i < this.secret.length(); i++)\n",
    "        {\n",
    "            // loop for second substring index\n",
    "            for (int j = i + 1; j < this.secret.length() + 1; j++)\n",
    "            {\n",
    "                // if statement\n",
    "                if (guess.equals(this.secret.substring(i, j)))\n",
    "                {\n",
    "                    counter++;\n",
    "                }\n",
    "            }\n",
    "        }\n",
    "\n",
    "        // Returning a point value\n",
    "        int points = counter * guess.length() * guess.length();\n",
    "        System.out.println(\"\" + guess + \" = \" + points);\n",
    "        // return points;\n",
    "    }\n",
    "}\n",
    "\n",
    "WordMatch game = new WordMatch(\"mississippi\");\n",
    "        game.scoreGuess(\"i\");\n",
    "        game.scoreGuess(\"iss\");\n",
    "        game.scoreGuess(\"issipp\");\n",
    "        game.scoreGuess(\"mississippi\");\n",
    "\n",
    "        System.out.printf(\"\\n\");\n",
    "\n",
    "        WordMatch game2 = new WordMatch(\"aaaabb\");\n",
    "        game.scoreGuess(\"a\");\n",
    "        game.scoreGuess(\"aa\");\n",
    "        game.scoreGuess(\"aaa\");\n",
    "        game.scoreGuess(\"aabb\");\n",
    "        game.scoreGuess(\"c\");"
   ]
  }
 ],
 "metadata": {
  "kernelspec": {
   "display_name": "Java",
   "language": "java",
   "name": "java"
  },
  "language_info": {
   "codemirror_mode": "java",
   "file_extension": ".jshell",
   "mimetype": "text/x-java-source",
   "name": "Java",
   "pygments_lexer": "java",
   "version": "17.0.4+8"
  },
  "orig_nbformat": 4
 },
 "nbformat": 4,
 "nbformat_minor": 2
}
