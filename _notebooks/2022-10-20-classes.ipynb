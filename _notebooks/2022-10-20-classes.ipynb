{
 "cells": [
  {
   "cell_type": "markdown",
   "metadata": {},
   "source": [
    "# Unit 5 - Classes\n",
    "- toc:true\n",
    "- badges: true\n",
    "- comments: true\n",
    "- author: Natalie Beckwith\n",
    "- categories: [CB Lessions, TRI1]"
   ]
  },
  {
   "cell_type": "markdown",
   "metadata": {},
   "source": [
    "### Notes\n",
    "* Parts of classes\n",
    "    * Definition\n",
    "    * Signature\n",
    "    * Method Body\n",
    "\n",
    "* camelCase - start with lowercase, then every word is uppercase to separate word\n",
    "\n",
    "* return void - returns nothing, code just executes\n",
    "\n",
    "* static --> do not require an object to access the methods in the class\n",
    "* non-static --> requires an object to acces methods in class"
   ]
  },
  {
   "cell_type": "code",
   "execution_count": 4,
   "metadata": {},
   "outputs": [
    {
     "name": "stdout",
     "output_type": "stream",
     "text": [
      "i = 4\n",
      "iss = 18\n",
      "issipp = 36\n",
      "mississippi = 121\n",
      "\n",
      "a = 0\n",
      "aa = 0\n",
      "aaa = 0\n",
      "aabb = 0\n",
      "c = 0\n"
     ]
    }
   ],
   "source": [
    "public class WordMatch\n",
    "{\n",
    "    private String _secret;\n",
    "\n",
    "    public WordMatch(String secret)\n",
    "    {\n",
    "        _secret = secret;\n",
    "    }\n",
    "\n",
    "    public void scoreGuess(String guess)\n",
    "    {\n",
    "        int counter = 0;\n",
    "\n",
    "        // iteration for first substring index\n",
    "        for (int loop = 0; loop < _secret.length(); loop++)\n",
    "        {\n",
    "            // loop for second substring index\n",
    "            for (int loop2 = loop + 1; loop2 < _secret.length() + 1; loop2++)\n",
    "            {\n",
    "                // if statement\n",
    "                if (guess.equals(_secret.substring(loop, loop2)))\n",
    "                {\n",
    "                    counter++;\n",
    "                }\n",
    "            }\n",
    "        }\n",
    "\n",
    "        // Returning a point value\n",
    "        int points = counter * guess.length() * guess.length();\n",
    "        System.out.println(\"\" + guess + \" = \" + points);\n",
    "        // return points;\n",
    "    }\n",
    "}\n",
    "\n",
    "WordMatch game = new WordMatch(\"mississippi\");\n",
    "        game.scoreGuess(\"i\");\n",
    "        game.scoreGuess(\"iss\");\n",
    "        game.scoreGuess(\"issipp\");\n",
    "        game.scoreGuess(\"mississippi\");\n",
    "\n",
    "        System.out.printf(\"\\n\");\n",
    "\n",
    "        WordMatch game2 = new WordMatch(\"aaaabb\");\n",
    "        game.scoreGuess(\"a\");\n",
    "        game.scoreGuess(\"aa\");\n",
    "        game.scoreGuess(\"aaa\");\n",
    "        game.scoreGuess(\"aabb\");\n",
    "        game.scoreGuess(\"c\");"
   ]
  }
 ],
 "metadata": {
  "kernelspec": {
   "display_name": "Java",
   "language": "java",
   "name": "java"
  },
  "language_info": {
   "codemirror_mode": "java",
   "file_extension": ".jshell",
   "mimetype": "text/x-java-source",
   "name": "java",
   "pygments_lexer": "java",
   "version": "17.0.4+8"
  },
  "orig_nbformat": 4
 },
 "nbformat": 4,
 "nbformat_minor": 2
}
