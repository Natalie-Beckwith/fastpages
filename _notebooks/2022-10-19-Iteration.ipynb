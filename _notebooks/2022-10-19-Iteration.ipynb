{
 "cells": [
  {
   "cell_type": "markdown",
   "metadata": {},
   "source": [
    "# Unit 4 - Iteration\n",
    "- toc:true\n",
    "- badges: true\n",
    "- comments: true\n",
    "- author: Natalie Beckwith\n",
    "- categories:"
   ]
  },
  {
   "cell_type": "markdown",
   "metadata": {},
   "source": [
    "## Homework:\n",
    "* Write a program where a random number is generated. Then the user tries to guess the number. If they guess too high display something to let them know, and same for if they guess a number that is too low. The loop must iterate until the number is guessed correctly."
   ]
  },
  {
   "cell_type": "code",
   "execution_count": 1,
   "metadata": {
    "vscode": {
     "languageId": "java"
    }
   },
   "outputs": [],
   "source": [
    "import java.util.Random;\n",
    "import java.util.Scanner;\n",
    "\n",
    "/**\n",
    " * Write a program where a random number is generated.\n",
    " * Then the user tries to guess the number.\n",
    " * If they guess too high display something to let them know,\n",
    " * and same for if they guess a number that is too low.\n",
    " * The loop must iterate until the number is guessed correctly.\n",
    " */\n",
    "\n",
    " \n",
    "public class RandomGuess\n",
    "{\n",
    "    public static int magicNumber;\n",
    "    public static int guess;\n",
    "    \n",
    "    /*\n",
    "     * \n",
    "     * \n",
    "     */\n",
    "    public static void main(String[] Args)\n",
    "    {\n",
    "        magicNumber = getRandomNumber();\n",
    "        \n",
    "        Scanner scanner = new Scanner(System.in);\n",
    "        \n",
    "\n",
    "        do\n",
    "        {\n",
    "            System.out.printf(\"Guess an integer between 0 and 100: \");\n",
    "            guess = scanner.nextInt();\n",
    "            \n",
    "            if(guess < magicNumber)\n",
    "            {\n",
    "                System.out.printf(\"Higher!\\n\");\n",
    "            }\n",
    "            if(guess > magicNumber)\n",
    "            {\n",
    "                System.out.printf(\"Lower!\\n\");\n",
    "            }\n",
    "        }\n",
    "        while (guess != magicNumber);\n",
    "        \n",
    "        if(guess == magicNumber)\n",
    "        {\n",
    "            System.out.printf(\"\\nYou win! The number was %d.\\n\", magicNumber);\n",
    "        }\n",
    "        \n",
    "        scanner.close();\n",
    "    }\n",
    "    \n",
    "    /*\n",
    "     * @return the random number\n",
    "     */\n",
    "    public static int getRandomNumber()\n",
    "    {\n",
    "        Random number = new Random();\n",
    "         int magicNumber = number.nextInt(0, 101);\n",
    "        return magicNumber;\n",
    "    }\n",
    "  \n",
    "    \n",
    "}"
   ]
  }
 ],
 "metadata": {
  "kernelspec": {
   "display_name": "Java",
   "language": "java",
   "name": "java"
  },
  "language_info": {
   "codemirror_mode": "java",
   "file_extension": ".jshell",
   "mimetype": "text/x-java-source",
   "name": "Java",
   "pygments_lexer": "java",
   "version": "17.0.4+8"
  },
  "orig_nbformat": 4
 },
 "nbformat": 4,
 "nbformat_minor": 2
}
