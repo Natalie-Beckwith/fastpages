{
 "cells": [
  {
   "cell_type": "markdown",
   "metadata": {},
   "source": [
    "# 2021 FRQ:\n",
    "- toc:true\n",
    "- badges: true\n",
    "- comments: true\n",
    "- author: Natalie Beckwith\n",
    "- categories:"
   ]
  },
  {
   "cell_type": "markdown",
   "metadata": {},
   "source": [
    "## FRQ 2021:\n",
    "\n",
    "1)\n",
    "a. Write the ```WordMatch``` method ```scoreGuess```. To determine the score the returned, ```scoreGuess``` finds the number of times that ```guess``` occurs as a substring of ```secret``` and then multiplies that number by the square of the length of ```guess```. Occurrences of ```guess``` may overlap within ```secret```."
   ]
  },
  {
   "cell_type": "code",
   "execution_count": 1,
   "metadata": {
    "vscode": {
     "languageId": "java"
    }
   },
   "outputs": [],
   "source": [
    "public int scoreGuess(String guess)\n",
    "{\n",
    "    int lastIndex = 0;\n",
    "    int count = 0;\n",
    "    \n",
    "    while (lastIndex != -1)\n",
    "    {\n",
    "        lastIndex = secret.indexOf(guess, lastIndex);\n",
    "        if (lastIndex != -1)\n",
    "        {\n",
    "            count++;\n",
    "            lastIndex += guess.length();\n",
    "        }\n",
    "    }\n",
    "    return count * guess.length() * guess.length();\n",
    "    \n",
    "}"
   ]
  },
  {
   "cell_type": "markdown",
   "metadata": {},
   "source": [
    "b. Write the ```WordMatch``` method ```findBetterGuess```, which returns the better ```guess``` of its two ```String``` parameters, ```guess1``` and ```guess2```. If the ```scoreGuess``` method returns different values for ```guess1``` and ```guess2m``` then the guess with the higher score is returned. If the ```scoreGuess``` method returns the same value for ```guess1``` and ```guess2```, then the alphabetically greater guess is returned."
   ]
  },
  {
   "cell_type": "code",
   "execution_count": null,
   "metadata": {
    "vscode": {
     "languageId": "java"
    }
   },
   "outputs": [],
   "source": [
    "public String findBetterGuess(String guess1, String guess2)\n",
    "    {\n",
    "      int guessA = scoreGuess(guess1);\n",
    "      int guessB = scoreGuess(guess2);\n",
    "\n",
    "      if(guessA > guessB) return guess1;\n",
    "      \n",
    "      if(guessB > guessA) return guess2;\n",
    "\n",
    "      if((guess1.compareTo(guess2)) > 0)\n",
    "      {\n",
    "        return guess1;\n",
    "      }\n",
    "      return guess2;\n",
    "    }"
   ]
  },
  {
   "cell_type": "markdown",
   "metadata": {},
   "source": [
    "## Full Code:"
   ]
  },
  {
   "cell_type": "code",
   "execution_count": 2,
   "metadata": {
    "vscode": {
     "languageId": "java"
    }
   },
   "outputs": [],
   "source": [
    "/**\n",
    " * Main class for WordMatch.java\n",
    " *\n",
    " */\n",
    "public class WordMatch\n",
    "{\n",
    "    private String secret;\n",
    "    \n",
    "    public WordMatch(String secret)\n",
    "    {\n",
    "        this.secret = secret;\n",
    "    }\n",
    "    \n",
    "    /**\n",
    "     * scoreGuess \n",
    "     * \n",
    "     * @param guess\n",
    "     * @return\n",
    "     */\n",
    "    public int scoreGuess(String guess)\n",
    "    {\n",
    "      int lastIndex = 0;\n",
    "      int count = 0;\n",
    "      \n",
    "      while (lastIndex != -1) {\n",
    "        lastIndex = secret.indexOf(guess, lastIndex);\n",
    "        if (lastIndex != -1) {\n",
    "            count++;\n",
    "            lastIndex += guess.length();\n",
    "        }\n",
    "      }\n",
    "      return count * guess.length() * guess.length();\n",
    "        \n",
    "    }\n",
    "    \n",
    "    public String findBetterGuess(String guess1, String guess2)\n",
    "    {\n",
    "      int guessA = scoreGuess(guess1);\n",
    "      int guessB = scoreGuess(guess2);\n",
    "\n",
    "      if(guessA > guessB) return guess1;\n",
    "      \n",
    "      if(guessB > guessA) return guess2;\n",
    "\n",
    "      if((guess1.compareTo(guess2)) > 0)\n",
    "      {\n",
    "        return guess1;\n",
    "      }\n",
    "      return guess2;\n",
    "    }\n",
    "}\n"
   ]
  },
  {
   "cell_type": "code",
   "execution_count": 3,
   "metadata": {
    "vscode": {
     "languageId": "java"
    }
   },
   "outputs": [
    {
     "name": "stdout",
     "output_type": "stream",
     "text": [
      "Guess: mississippi\n",
      "Score: 121\n",
      "\n",
      "Guess 1: ten\n",
      "Score: 36\n",
      "\n",
      "Guess 2: nation\n",
      "Score: 36\n"
     ]
    },
    {
     "data": {
      "text/plain": [
       "java.io.PrintStream@20014fe2"
      ]
     },
     "execution_count": 3,
     "metadata": {},
     "output_type": "execute_result"
    }
   ],
   "source": [
    "\n",
    "WordMatch game = new WordMatch(\"mississippi\");\n",
    "\n",
    "int play = game.scoreGuess(\"mississippi\");\n",
    "System.out.printf(\"Guess: mississippi\\nScore: %d\\n\", play);\n",
    "\n",
    "WordMatch game2 = new WordMatch(\"concatenation\");\n",
    "\n",
    "int play2 = game2.scoreGuess(\"nation\");\n",
    "\n",
    "\n",
    "System.out.printf(\"\\nGuess 1: ten\\nScore: %d\\n\", play2);\n",
    "System.out.printf(\"\\nGuess 2: nation\\nScore: %d\\n\", play2);"
   ]
  }
 ],
 "metadata": {
  "kernelspec": {
   "display_name": "Java",
   "language": "java",
   "name": "java"
  },
  "language_info": {
   "codemirror_mode": "java",
   "file_extension": ".jshell",
   "mimetype": "text/x-java-source",
   "name": "Java",
   "pygments_lexer": "java",
   "version": "17.0.4+8"
  },
  "orig_nbformat": 4,
  "vscode": {
   "interpreter": {
    "hash": "b781bca096fa5117d83f02e133236c892d11593ec87b181e088a886d6eea6e41"
   }
  }
 },
 "nbformat": 4,
 "nbformat_minor": 2
}
