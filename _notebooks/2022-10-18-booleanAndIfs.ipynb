{
 "cells": [
  {
   "cell_type": "markdown",
   "metadata": {},
   "source": [
    "# Unit 3 - Boolean Expressions and If Statements \n",
    "- toc:true\n",
    "- badges: true\n",
    "- comments: true\n",
    "- author: Natalie Beckwith\n",
    "- categories: [CB Lessions, TRI1]"
   ]
  },
  {
   "cell_type": "markdown",
   "metadata": {},
   "source": [
    "### Notes\n",
    "* Boolean - logical statement that can be evaluated to the values true/false\n",
    "* EX: ``` if (true) { System.out.println(\"True code block\"); } ```\n",
    "* LOGICAL OPERATORS\n",
    "  * && - and\n",
    "  * || - or\n",
    "  * ! - not\n",
    "* Parenthesis matter\n",
    "* De Morgan's Law\n",
    "  * (A ∪ B)' = A' ∩ B'\n",
    "  * \"The complement of the union of the two sets A and B will be equal to the intersection of A' (complement of A) and B' (complement of B).\"\n",
    "  * EX: ```!((false || !true) || (false && true))```"
   ]
  },
  {
   "cell_type": "markdown",
   "metadata": {},
   "source": [
    "## Homework\n",
    "### 2009 FRQ 3B"
   ]
  },
  {
   "cell_type": "code",
   "execution_count": null,
   "metadata": {},
   "outputs": [],
   "source": [
    "// assume that getChargingCost() is implemented\n",
    "public class BatteryCharger\n",
    "{\n",
    "    public int getChargingStartTime (int chargeTime)\n",
    "    {\n",
    "        int start = 0;\n",
    "\n",
    "        for (int loop = 0; loop < 25; loop++)\n",
    "        {\n",
    "            if (this.getChargingCost(loop, chargeTime) < this.getChargingCost(start, chargeTime))\n",
    "            {\n",
    "                start = loop;\n",
    "            }\n",
    "        }\n",
    "        return start;\n",
    "    }\n",
    "}\n",
    "BatteryCharger batteryCharger = new BatteryCharger();\n",
    "batteryCharger.getChargeStartTime(6);"
   ]
  },
  {
   "cell_type": "markdown",
   "metadata": {},
   "source": [
    "### 2017 FRQ 1B"
   ]
  },
  {
   "cell_type": "code",
   "execution_count": 22,
   "metadata": {},
   "outputs": [
    {
     "name": "stdout",
     "output_type": "stream",
     "text": [
      "true\n",
      "false"
     ]
    },
    {
     "data": {
      "text/plain": [
       "java.io.PrintStream@73d7d7f8"
      ]
     },
     "execution_count": 22,
     "metadata": {},
     "output_type": "execute_result"
    }
   ],
   "source": [
    "import java.util.*;\n",
    "\n",
    "public class Digits\n",
    "{\n",
    "    private ArrayList<Integer> digitList;\n",
    "\n",
    "    public Digits(int num)\n",
    "    {\n",
    "        digitList = new ArrayList<Integer>();\n",
    "\n",
    "        if (num==0)\n",
    "        {\n",
    "            digitList.add(new Integer(0));\n",
    "        }\n",
    "        while (num > 0)\n",
    "        {\n",
    "            digitList.add(0, new Integer(num % 10));\n",
    "            num /= 10;\n",
    "        }\n",
    "\n",
    "    }\n",
    "\n",
    "    public boolean isStrictlyIncreasing()\n",
    "    {\n",
    "        boolean increase = true;\n",
    "\n",
    "        for (int loop = 0; loop < digitList.size() - 1; loop++)\n",
    "        {\n",
    "            if (digitList.get(loop).intValue() >= digitList.get(loop + 1).intValue())\n",
    "            {\n",
    "                increase = false;\n",
    "                return increase;\n",
    "            }\n",
    "        }\n",
    "        return increase;\n",
    "    }\n",
    "}\n",
    "boolean digits1 = new Digits(1356).isStrictlyIncreasing();\n",
    "boolean digits2 = new Digits(1536).isStrictlyIncreasing();\n",
    "\n",
    "System.out.printf(\"%b\\n%b\", digits1, digits2);"
   ]
  },
  {
   "cell_type": "markdown",
   "metadata": {},
   "source": [
    "### 2019 FRQ 3B"
   ]
  },
  {
   "cell_type": "code",
   "execution_count": 26,
   "metadata": {},
   "outputs": [],
   "source": [
    "public class Delimiters\n",
    "{\n",
    "    private String openDel;\n",
    "    private String closeDel;\n",
    "\n",
    "    public boolean isBalanced(ArrayList<String> delimiters)\n",
    "    {\n",
    "        int opencount = 0;\n",
    "        int closecount = 0;\n",
    "\n",
    "        for (int loop = 0; loop < delimiters.size(); loop++)\n",
    "        {\n",
    "            if (delimiters.get(loop) == openDel)\n",
    "            {\n",
    "                opencount++;\n",
    "            }\n",
    "            else if (delimiter.get(loop) == closeDel)\n",
    "            {\n",
    "                closecount++;\n",
    "            }\n",
    "\n",
    "            if (closecount > opencount)\n",
    "            {\n",
    "                return false;\n",
    "            }\n",
    "        }\n",
    "        return true;\n",
    "    }\n",
    "\n",
    "}"
   ]
  }
 ],
 "metadata": {
  "kernelspec": {
   "display_name": "Java",
   "language": "java",
   "name": "java"
  },
  "language_info": {
   "codemirror_mode": "java",
   "file_extension": ".jshell",
   "mimetype": "text/x-java-source",
   "name": "java",
   "pygments_lexer": "java",
   "version": "17.0.4+8"
  },
  "orig_nbformat": 4
 },
 "nbformat": 4,
 "nbformat_minor": 2
}
