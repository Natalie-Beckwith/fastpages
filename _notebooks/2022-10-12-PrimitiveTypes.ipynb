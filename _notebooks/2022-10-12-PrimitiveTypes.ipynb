{
 "cells": [
  {
   "cell_type": "markdown",
   "metadata": {},
   "source": [
    "# Unit 1 - Primitive Data Types\n",
    "- toc:true\n",
    "- badges: true\n",
    "- comments: true\n",
    "- author: Natalie Beckwith\n",
    "- categories: [CB Lessions, TRI1]"
   ]
  },
  {
   "cell_type": "markdown",
   "metadata": {},
   "source": [
    "## Notes\n",
    "* Why Java?\n",
    "   * More flexible OOP\n",
    "   * Run an any platform\n",
    "   * Garbage collection --> memory management, when a variable is no longer used it's \n",
    "   * Multi-threading: able to acces different\n",
    "\n",
    "* Primitives\n",
    "   * Predefined\n",
    "   * lovercase\n",
    "   * ex: boolean, int, double, char, long, short\n",
    "* Non-Primitives\n",
    "   * Strings\n",
    "   * capital\n",
    "* How to name\n",
    "   * letters, numbers, or underscores\n",
    "   * ```final``` makes variable constant\n",
    "   * Casting --> changing data types\n",
    "      * int to a double\n",
    "      * Narrowing is going from bigger data to smaller\n",
    "* Operators\n",
    "   * +, -, *, /, %, ++, --, +=, -=, *=, /=, %=\n",
    "   * Mod returns the remainder\n",
    "   * overflow errors --> left to right (PEMDAS)\n",
    "   * Incremet and decrement operators --> adds 1 and subract 1\n",
    "* Coding Challenge\n",
    "* Scanner\n",
    "   * import ```Scanner``` class"
   ]
  },
  {
   "cell_type": "markdown",
   "metadata": {},
   "source": [
    "## Homework\n",
    "\n",
    "### 2006 FRQ\n",
    "[Link to questions](https://secure-media.collegeboard.org/apc/_ap06_frq_computer_sc_51649.pdf) <br><br>\n",
    "1)<br>\n",
    "a."
   ]
  },
  {
   "cell_type": "code",
   "execution_count": 45,
   "metadata": {},
   "outputs": [],
   "source": [
    "public class Appointment\n",
    "{\n",
    "    public boolean conflictsWith (int appointmentTimeInterval, int timeInterval)\n",
    "    {\n",
    "        if(appointmentTimeInterval < timeInterval)\n",
    "        {\n",
    "            return true;\n",
    "        }\n",
    "        else\n",
    "        {\n",
    "            return false;\n",
    "        }\n",
    "    }\n",
    "}"
   ]
  },
  {
   "cell_type": "code",
   "execution_count": 48,
   "metadata": {},
   "outputs": [
    {
     "name": "stdout",
     "output_type": "stream",
     "text": [
      "Appointment is at 10\n",
      "Time interval is 2\n",
      "Is there a conflict with appointment?: false\n"
     ]
    },
    {
     "data": {
      "text/plain": [
       "java.io.PrintStream@725e0cfd"
      ]
     },
     "execution_count": 48,
     "metadata": {},
     "output_type": "execute_result"
    }
   ],
   "source": [
    "Appointment appointment = new Appointment();\n",
    "\n",
    "boolean conflict = appointment.conflictsWith(10, 2);\n",
    "\n",
    "System.out.printf(\"Appointment is at 10\\nTime interval is 2\\n\");\n",
    "System.out.printf(\"Is there a conflict with appointment?: %b\\n\", conflict);"
   ]
  },
  {
   "cell_type": "markdown",
   "metadata": {},
   "source": [
    "1)<br>\n",
    "b."
   ]
  },
  {
   "cell_type": "code",
   "execution_count": 6,
   "metadata": {},
   "outputs": [],
   "source": [
    "public class Appointment\n",
    "{\n",
    "    public void clearConflicts(Appointment appointment)\n",
    "  {\n",
    "    int loop = 0;\n",
    "\n",
    "    while (loop < appointmentList.size())\n",
    "    if (((Appointment)appointmentList.get(loop)).conflictsWith(appointment))\n",
    "    {\n",
    "        appointmentList.remove(loop);\n",
    "    }\n",
    "    else\n",
    "    {\n",
    "        loop++;\n",
    "    }\n",
    "  }\n",
    "}"
   ]
  },
  {
   "cell_type": "markdown",
   "metadata": {},
   "source": [
    "1)<br>\n",
    "c."
   ]
  },
  {
   "cell_type": "code",
   "execution_count": 9,
   "metadata": {},
   "outputs": [],
   "source": [
    "public class Appointment\n",
    "{\n",
    "    public boolean addAppointment(Appointment appointment, boolean emergency)\n",
    "  {\n",
    "    if (emergency)\n",
    "    {\n",
    "      clearConflicts(appointment);\n",
    "      appointmentList.add(appointment);\n",
    "\n",
    "      return true;\n",
    "    }\n",
    "\n",
    "    for (int loop = 0; loop < appointmentList.size(); loop++)\n",
    "      if (((Appointment)appointmentList.get(i)).conflictsWith(appointment))\n",
    "      {\n",
    "        return false;\n",
    "      }\n",
    "\n",
    "    appointmentList.add(appointment);\n",
    "    return true;\n",
    "  }\n",
    "}\n"
   ]
  },
  {
   "cell_type": "markdown",
   "metadata": {},
   "source": [
    "2)<br>\n",
    "a."
   ]
  },
  {
   "cell_type": "code",
   "execution_count": 4,
   "metadata": {},
   "outputs": [
    {
     "name": "stdout",
     "output_type": "stream",
     "text": [
      "Before tax: $6.50\n",
      "After tax: $7.15\n"
     ]
    },
    {
     "data": {
      "text/plain": [
       "java.io.PrintStream@725e0cfd"
      ]
     },
     "execution_count": 4,
     "metadata": {},
     "output_type": "execute_result"
    }
   ],
   "source": [
    "double initialPrice = 6.50;\n",
    "\n",
    "public static double purchasePrice (double tax)\n",
    "{\n",
    "    tax *= 1.1;\n",
    "    return tax;\n",
    "}\n",
    "\n",
    "System.out.printf(\"Before tax: $%.2f\\n\", initialPrice);\n",
    "double finalPrice = purchasePrice(initialPrice);\n",
    "\n",
    "System.out.printf(\"After tax: $%.2f\\n\", finalPrice);"
   ]
  },
  {
   "cell_type": "markdown",
   "metadata": {},
   "source": [
    "3)<br>\n",
    "a."
   ]
  },
  {
   "cell_type": "code",
   "execution_count": 32,
   "metadata": {},
   "outputs": [],
   "source": [
    "public class Customer\n",
    "{\n",
    "    private String _name;\n",
    "    private int _ID;\n",
    "\n",
    "    public Customer(String name, int IDNum)\n",
    "    {\n",
    "        _name = name;\n",
    "        _ID = IDNum;\n",
    "    }\n",
    "\n",
    "    public String getName()\n",
    "    {\n",
    "        return _name;\n",
    "    }\n",
    "\n",
    "    public int getID()\n",
    "    {\n",
    "        return _ID;\n",
    "    }\n",
    "\n",
    "    public int compareCustomer (Customer compare)\n",
    "    {\n",
    "        int compareIDs = _ID - compare._ID;\n",
    "        return compareIDs;\n",
    "    }    \n",
    "}\n"
   ]
  },
  {
   "cell_type": "code",
   "execution_count": 39,
   "metadata": {},
   "outputs": [
    {
     "name": "stdout",
     "output_type": "stream",
     "text": [
      "Customer 1 compared to Customer 1: 0\n",
      "Customer 1 compared to Customer 2: -1\n",
      "Customer 1 compared to Customer 3: -2\n"
     ]
    },
    {
     "data": {
      "text/plain": [
       "java.io.PrintStream@725e0cfd"
      ]
     },
     "execution_count": 39,
     "metadata": {},
     "output_type": "execute_result"
    }
   ],
   "source": [
    "// main method\n",
    "Customer customer1 = new Customer(\"Smith\", 1001);\n",
    "Customer customer2 = new Customer(\"Anderson\", 1002);\n",
    "Customer customer3 = new Customer(\"Smith\", 1003);\n",
    "\n",
    "int compareCustomer1 = customer1.compareCustomer(customer1);\n",
    "int compareCustomer2 = customer1.compareCustomer(customer2);\n",
    "int compareCustomer3 = customer1.compareCustomer(customer3);\n",
    "\n",
    "System.out.printf(\"Customer 1 compared to Customer 1: %d\\n\", compareCustomer1);\n",
    "System.out.printf(\"Customer 1 compared to Customer 2: %d\\n\", compareCustomer2);\n",
    "System.out.printf(\"Customer 1 compared to Customer 3: %d\\n\", compareCustomer3);"
   ]
  }
 ],
 "metadata": {
  "kernelspec": {
   "display_name": "Java",
   "language": "java",
   "name": "java"
  },
  "language_info": {
   "codemirror_mode": "java",
   "file_extension": ".jshell",
   "mimetype": "text/x-java-source",
   "name": "java",
   "pygments_lexer": "java",
   "version": "17.0.4+8"
  },
  "orig_nbformat": 4
 },
 "nbformat": 4,
 "nbformat_minor": 2
}
