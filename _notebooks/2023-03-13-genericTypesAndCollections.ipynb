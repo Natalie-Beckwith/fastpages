{
 "cells": [
  {
   "cell_type": "markdown",
   "metadata": {},
   "source": [
    "# Generics Types and Collections\n",
    "- toc:true\n",
    "- layout: post\n",
    "- badges: true\n",
    "- comments: true\n",
    "- author: Natalie Beckwith\n",
    "- categories: [TRI3]\n",
    "- image: https://github.com/Natalie-Beckwith/fastpages/blob/master/_notebooks/ghtop_images/pending-loop.gif?raw=true"
   ]
  },
  {
   "cell_type": "markdown",
   "metadata": {},
   "source": [
    "## Notes\n",
    "\n",
    "See weekly notes [here](https://natalie-beckwith.github.io/fastpages/notes/#Week%2025%20-%203/6%20Notes)\n",
    "\n",
    "---\n",
    "\n",
    "## Hacks\n",
    "\n",
    "[X] Watch the college board video Classes and Objects* Blog and Define the details of a Class: Access modifier, constructor, modifiers/setters, getters, etc.\n",
    "\n",
    "[ ] Build example code in jupyter notebook with Linked List, Queues, and Stacks.\n",
    "\n",
    "[ ] Show familiarity with managing data (aka nodes in LL) in these structures.\n",
    "\n",
    "[ ] Show familiarity with Generic data and ForEach loop support, similar to ArrayLists T. Here is sample Java Generic T and the Java Iterable interface by Geeks4Geeks.\n",
    "\n",
    "### Details of a Class\n",
    "\n",
    "#### Access Modifier\n",
    "* Keywords that can be used to control the visibility of fields, methods, and constructors in a class. Examples include:\n",
    "  * `public` - We can access the modifier anywhere, this includes inside and outside the class as well as inside and outside the package.\n",
    "  * `protected` - We can access the modifier within the same package and also from outside the package with the help of a child class. If we do not make a child class, then the modifier cannot be accessed outside the package.\n",
    "  * `default` - We can only access the modifier within the same package. If we do not specify any access modifier, it will automatically have a default modifier.\n",
    "  * `private` - We can access the modifier only within the same class.\n",
    "\n",
    "![img](https://media.geeksforgeeks.org/wp-content/cdn-uploads/Access-Modifiers-in-Java.png)\n",
    "\n",
    "See more information [here](https://www.mygreatlearning.com/blog/the-access-modifiers-in-java/)\n",
    "\n",
    "#### Constructor\n",
    "* A special method that is used to initialize objects\n",
    "* The constructor is called when the an object of a class is created\n",
    "\n",
    "See more information [here](https://www.w3schools.com/java/java_constructors.asp)\n",
    "\n",
    "#### Setters & Getters\n",
    "* **Get** methods return the variable value\n",
    "* **Set** methods sets the value\n",
    "* Both are used to protect your data, particularly when creating classes\n",
    "\n",
    "See more information [here](https://www.w3schools.com/java/java_encapsulation.asp)\n",
    "\n",
    "---"
   ]
  }
 ],
 "metadata": {
  "kernelspec": {
   "display_name": "Java",
   "language": "java",
   "name": "java"
  },
  "language_info": {
   "name": "java",
   "version": "3.9.12"
  },
  "orig_nbformat": 4,
  "vscode": {
   "interpreter": {
    "hash": "b781bca096fa5117d83f02e133236c892d11593ec87b181e088a886d6eea6e41"
   }
  }
 },
 "nbformat": 4,
 "nbformat_minor": 2
}
