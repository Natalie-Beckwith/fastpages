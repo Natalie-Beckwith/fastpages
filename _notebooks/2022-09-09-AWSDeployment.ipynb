{
 "cells": [
  {
   "cell_type": "markdown",
   "metadata": {},
   "source": [
    "# AWS Deployment\n",
    "- toc:true\n",
    "- badges: true\n",
    "- comments: true\n",
    "- author: Natalie Beckwith\n",
    "- categories:"
   ]
  },
  {
   "cell_type": "markdown",
   "metadata": {},
   "source": [
    "## DNS Registry:\n",
    "* Went to [website](https://my.freenom.com)\n",
    "* Create account\n",
    "* Select website\n",
    "* IP address from AWS\n",
    "\n",
    "## Setting DNS Server on Ubuntu:\n",
    "* [Instructions](https://phoenixnap.com/kb/ubuntu-dns-nameservers)\n",
    "* ```ubuntu@ip-172-31-13-4:/etc/netplan$ nslookup nataliecsa.tk```\n",
    "   * returns:<br>\n",
    "```Non-authoritative answer:```<br>\n",
    "```Name:\tnataliecsa.tk```<br>\n",
    "```Address: 13.57.228.69```\n",
    "* \n",
    "\n",
    "## AWS - Allow Incoming HTTP Trafic:\n",
    "* [Instructions](https://docs.nginx.com/nginx/deployment-guides/amazon-web-services/ec2-instances-for-nginx/)\n",
    "   * HTTP traffic was not turned on by default"
   ]
  }
 ],
 "metadata": {
  "kernelspec": {
   "display_name": "Python 3.9.9 64-bit",
   "language": "python",
   "name": "python3"
  },
  "language_info": {
   "name": "python",
   "version": "3.9.9"
  },
  "orig_nbformat": 4,
  "vscode": {
   "interpreter": {
    "hash": "aee8b7b246df8f9039afb4144a1f6fd8d2ca17a180786b69acc140d282b71a49"
   }
  }
 },
 "nbformat": 4,
 "nbformat_minor": 2
}
